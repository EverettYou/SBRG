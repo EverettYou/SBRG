{
 "cells": [
  {
   "cell_type": "markdown",
   "metadata": {},
   "source": [
    "##Find Z2 Matrix Rank\n",
    "**Algorithm**: Gaussian Elimination (GE) with pivoting."
   ]
  },
  {
   "cell_type": "code",
   "execution_count": 1,
   "metadata": {
    "collapsed": true
   },
   "outputs": [],
   "source": [
    "import numpy as np\n",
    "# find Z2 rank of integer matrix\n",
    "def Z2rank(mat):\n",
    "    # mat input as numpy.matrix, and destroyed on output!\n",
    "    # caller must ensure mat contains only 0 and 1.\n",
    "    nr, nc = mat.shape # get num of rows and cols\n",
    "    r = 0 # current row index\n",
    "    for i in range(nc): # run through cols\n",
    "        if r == nr: # row exhausted first\n",
    "            return r # row rank is full, early return\n",
    "        if mat[r, i] == 0: # need to find pivot\n",
    "            found = False # set a flag\n",
    "            for k in range(r + 1, nr):\n",
    "                if mat[k, i]: # mat[k, i] nonzero\n",
    "                    found = True # pivot found in k\n",
    "                    break\n",
    "            if found: # if pivot found in k\n",
    "                mat[[r, k], :] = mat[[k, r], :] # row swap\n",
    "            else: # if pivot not found\n",
    "                continue # done with this col\n",
    "        # pivot has moved to mat[r, i], perform GE\n",
    "        for j in range(r + 1, nr):\n",
    "            if mat[j, i]: # mat[j, i] nonzero\n",
    "                for k in range(i, nc):\n",
    "                    mat[j, k] = (mat[j, k] + mat[r, k])%2\n",
    "        r += 1 # rank inc\n",
    "    # col exhausted, last nonvanishing row indexed by r\n",
    "    return r"
   ]
  },
  {
   "cell_type": "markdown",
   "metadata": {},
   "source": [
    "**Example**: consider the matrix\n",
    "$$A=\\left(\\begin{matrix}0&1&1\\\\1&0&1\\\\1&1&0\\end{matrix}\\right).$$\n",
    "Its rank over real field is different from its rank over Z2."
   ]
  },
  {
   "cell_type": "code",
   "execution_count": 2,
   "metadata": {
    "collapsed": false
   },
   "outputs": [
    {
     "name": "stdout",
     "output_type": "stream",
     "text": [
      "[[0 1 1]\n",
      " [1 0 1]\n",
      " [1 1 0]]\n"
     ]
    },
    {
     "data": {
      "text/plain": [
       "2"
      ]
     },
     "execution_count": 2,
     "metadata": {},
     "output_type": "execute_result"
    }
   ],
   "source": [
    "A = np.matrix([[0,1,1],[1,0,1],[1,1,0]])\n",
    "print(A)\n",
    "Z2rank(A)"
   ]
  },
  {
   "cell_type": "code",
   "execution_count": 3,
   "metadata": {
    "collapsed": false
   },
   "outputs": [
    {
     "name": "stdout",
     "output_type": "stream",
     "text": [
      "[[0 1 1]\n",
      " [1 0 1]\n",
      " [1 1 0]]\n"
     ]
    },
    {
     "data": {
      "text/plain": [
       "3"
      ]
     },
     "execution_count": 3,
     "metadata": {},
     "output_type": "execute_result"
    }
   ],
   "source": [
    "A = np.matrix([[0,1,1],[1,0,1],[1,1,0]])\n",
    "print(A)\n",
    "np.linalg.matrix_rank(A)"
   ]
  },
  {
   "cell_type": "code",
   "execution_count": null,
   "metadata": {
    "collapsed": true
   },
   "outputs": [],
   "source": []
  }
 ],
 "metadata": {
  "kernelspec": {
   "display_name": "Python 3",
   "language": "python",
   "name": "python3"
  },
  "language_info": {
   "codemirror_mode": {
    "name": "ipython",
    "version": 3
   },
   "file_extension": ".py",
   "mimetype": "text/x-python",
   "name": "python",
   "nbconvert_exporter": "python",
   "pygments_lexer": "ipython3",
   "version": "3.3.0"
  }
 },
 "nbformat": 4,
 "nbformat_minor": 0
}
