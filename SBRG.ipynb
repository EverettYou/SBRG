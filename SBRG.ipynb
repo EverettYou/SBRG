{
 "cells": [
  {
   "cell_type": "markdown",
   "metadata": {},
   "source": [
    "#Core Code"
   ]
  },
  {
   "cell_type": "markdown",
   "metadata": {},
   "source": [
    "## Pauli Algebra\n",
    "- Each Pauli monomial (call a `term`) is represented as a list like `[mat, val]`, where\n",
    "  - `mat` is a dict recording the Pauli matrix indices in the sparse form, as `{3: 1, 5: 2, ..}` \n",
    "  - `val` is a **real** number recording the coefficient of that term.\n",
    "     - We will only deal with real coefficient now!\n",
    "- Each Pauli polynomial is represented as a list of Pauli monomials."
   ]
  },
  {
   "cell_type": "markdown",
   "metadata": {},
   "source": [
    "###Dot Product\n",
    "- Single-bit dot product rule is stored in a dict `DOT_RULES`, each entry is  like `(i,j): (k,n)` formulating $\\sigma^i\\sigma^j=\\text{i}^n\\sigma^k$ (where $n=0,\\pm1$ is the power of $\\text{i}$).\n",
    "- Multi-bit dot product is carried out by mapping the `DOT_RULES` to the pair of Pauli indices, and collect the resulting indices and powers. The posers are sum together to obtain the finnal power.\n",
    "- `dot(term1, term2, n0 = 0)` dot product of two terms. The optional `n0` gives the addtional powers of $\\text{i}$ to be timed, the result will be: $$\\text{i}^{n_0}h_{[\\mu]_1}h_{[\\mu]_2}\\sigma^{[\\mu]_1}\\sigma^{[\\mu]_2}$$\n",
    "   - subroutine `merge(mat1_get, mat2_get, mat1_keys, mat2_keys)` merges two dicts `mat1` and `mat2` (providing the get method and the keys), missing keys are treated by 0 value. This creates a list of non-trivial pair of Pauli indices `merged = [[i, mu1, mu2], ...]` where `i` index the qubit position and `mu1`, `mu2` are Pauli indices to be dotted.\n",
    "   - subroutine `dotover(merged)` transform every element `[i, mu1, mu2]` in `merged` to `[i, mu, n]` by applying the DOT_RULES\n",
    "   - `powofi(merged, n0)` calculate the power of $\\text{i}$ (mod 4) from the dotted `merged` given the shift of `n0`.\n",
    "   - `newmat(merged)` construct new matrix dict from the dotted `merged`."
   ]
  },
  {
   "cell_type": "code",
   "execution_count": 123,
   "metadata": {
    "collapsed": false
   },
   "outputs": [],
   "source": [
    "\"\"\" dict of single-bit dot product rules \"\"\"\n",
    "DOT_RULES = {(0,0): (0,0),\n",
    "             (0,1): (1,0),\n",
    "             (0,2): (2,0),\n",
    "             (0,3): (3,0),\n",
    "             (1,0): (1,0),\n",
    "             (2,0): (2,0),\n",
    "             (3,0): (3,0),\n",
    "             (1,1): (0,0),\n",
    "             (2,2): (0,0),\n",
    "             (3,3): (0,0),\n",
    "             (1,2): (3,1),\n",
    "             (2,3): (1,1),\n",
    "             (3,1): (2,1),\n",
    "             (3,2): (1,-1),\n",
    "             (2,1): (3,-1),\n",
    "             (1,3): (2,-1)}\n",
    "\"\"\" merge dicts of two matrices \"\"\"\n",
    "def merge(mat1_get, mat2_get, mat1_keys, mat2_keys):\n",
    "    return [[i, mat1_get(i,0), mat2_get(i,0)] for i in mat1_keys | mat2_keys]\n",
    "\"\"\" carry out DOT_RULES over index pairs \"\"\"\n",
    "def dotover(merged):\n",
    "    for triple in merged:\n",
    "        triple[1], triple[2] = DOT_RULES[(triple[1], triple[2])]\n",
    "\"\"\" get overall exponent \"\"\"\n",
    "def powofi(merged, n0 = 0):\n",
    "    return (sum(triple[2] for triple in merged) + n0)%4\n",
    "\"\"\" collect new mat \"\"\"\n",
    "def newmat(merged):\n",
    "    return {i: mu for [i, mu, n] in merged if mu != 0}\n",
    "\"\"\" dot product \"\"\"\n",
    "def dot(term1, term2, n0 = 0):\n",
    "    merged = merge(term1[0].get, term2[0].get, term1[0].keys(), term2[0].keys())\n",
    "    dotover(merged)\n",
    "    return [newmat(merged), term1[1]*term2[1]*(-1)**(powofi(merged, n0)/2)]"
   ]
  },
  {
   "cell_type": "markdown",
   "metadata": {},
   "source": [
    "Test:"
   ]
  },
  {
   "cell_type": "code",
   "execution_count": 119,
   "metadata": {
    "collapsed": false
   },
   "outputs": [
    {
     "data": {
      "text/plain": [
       "[{0: 3, 1: 3, 2: 3, 3: 3}, 0.001959416187641243]"
      ]
     },
     "execution_count": 119,
     "metadata": {},
     "output_type": "execute_result"
    }
   ],
   "source": [
    "a1 = [{0: 2, 1: 2, 2: 3}, 0.06389459153589115]\n",
    "a2 = [{0: 1, 1: 1, 3: 3}, -0.030666385691511793]\n",
    "dot(a1, a2)"
   ]
  },
  {
   "cell_type": "markdown",
   "metadata": {},
   "source": [
    "###Find Rotation to Diagonalize Pauli Matrix\n",
    "**Goal**: rotate $\\sigma^{[0|3..][\\mu]}$ to the block diagonal form $\\sigma^{[0..]3[0..]}$ with 3 at the intent position, and the transformation must respect all the $\\sigma^3$ symmetries before the intent position.\n",
    "\n",
    "**Algorithm**:\n",
    "- If $[\\mu]$ contains 1|2 (once the first 1|2 found, break): rotate that bit to 3 while eliminating other bits to 0 by `C4`, and move 3 to the the intent position by `SWAP` if necessary.\n",
    "- Elseif $[\\mu]$ has no 1|2 but 3 exist:\n",
    "  - If there are multiple 3's (*for the whole indices*): need two `C4` rotations\n",
    "    - If there is a 3 at the intent position: do the double-`C4` at that position, and no `SWAP` needed.\n",
    "    - Elseif the intent position is 0: do the double-`C4` at the position of the last 3, followed by `SWAP`.\n",
    "  - Elseif there is only one 3: just do a `SWAP` (if 3 sits at intent position, no transformation needed).\n",
    "- Else $[\\mu]$ is $[0..]$: no transform needed (but such matrixes should have already been ascribed to the conserved quantity and should not appear)."
   ]
  },
  {
   "cell_type": "code",
   "execution_count": 76,
   "metadata": {
    "collapsed": false
   },
   "outputs": [],
   "source": [
    "\"\"\" find rotation to diagonalize mat0 to the current bit site i_now \"\"\"\n",
    "def find_rotation(mat0, i_now):\n",
    "    # i_12 - site of first 1 or 2, i_3 - site of last 3\n",
    "    i_12 = -1 # initialize to -1 (unphysical)\n",
    "    i_3 = -1 # initialize to -1 (unphysical)\n",
    "    count_3 = 0 # count the num of 3\n",
    "    for (i, mu) in mat0.items():\n",
    "        if mu == 3: # if find 3\n",
    "            count_3 += 1\n",
    "            if i >= i_now: # if after i_now\n",
    "                i_3 = i # update i_3\n",
    "        elif i >= i_now and (mu == 1 or mu == 2): # if find first 1 or 2 after i_now\n",
    "            i_12 = i # set i_12 and break\n",
    "            break\n",
    "    Us = []\n",
    "    if i_12 >= 0: # if 1 or 2 exist, use it as pivot of rotation\n",
    "        # require a C4 rotation\n",
    "        Us.append(['C4', dot([{i_12: 3},1], [mat0,1], 1)])\n",
    "        if i_12 != i_now: # if i_12 not at the required site\n",
    "            Us.append(['SWAP',[i_now, i_12]]) # additional SWAP required\n",
    "    elif i_3 >= 0: # if no 1 or 2, but 3 exist\n",
    "        if count_3 > 1: # if there are more than one 3\n",
    "            # require double C4\n",
    "            if mat0.get(i_now,0) == 3: # if i_now sits on a site of 3\n",
    "                i_3 = i_now # switch i_3 to that, so as to avoid additional SWAP\n",
    "            Us.append(['C4', dot([{i_3: 1},1], [mat0,1], 1)])\n",
    "            Us.append(['C4', [{i_3: 2}, -1]])       \n",
    "        if i_3 != i_now: # if i_3 not at the reqired site\n",
    "            Us.append(['SWAP',[i_now, i_3]]) # additional SWAP required \n",
    "    return Us"
   ]
  },
  {
   "cell_type": "code",
   "execution_count": 77,
   "metadata": {
    "collapsed": false
   },
   "outputs": [
    {
     "data": {
      "text/plain": [
       "[['C4', [{0: 2, 5: 3}, -1.0]]]"
      ]
     },
     "execution_count": 77,
     "metadata": {},
     "output_type": "execute_result"
    }
   ],
   "source": [
    "find_rotation({0: 1, 5: 3}, 0)"
   ]
  },
  {
   "cell_type": "markdown",
   "metadata": {},
   "source": [
    "The result of `find_rotation` is a list of unitary transformations: each element is of the following form:\n",
    "- `['C4',[{...},z]]`: C4 rotation with C4 generator.\n",
    "- `['SWAP',[i, j]]`: SWAP operation btw i & j bit.\n",
    "\n",
    "The unitary transformations are implemented by `unitary_transform(Us, H)`, where `Us` is a list of transformations (action implemented in sequencial order), and `H` is the Pauli polynomial to be acted."
   ]
  },
  {
   "cell_type": "code",
   "execution_count": 78,
   "metadata": {
    "collapsed": false
   },
   "outputs": [],
   "source": [
    "\"\"\" perform unitary transforms Us in series to H \"\"\"\n",
    "def unitary_transform(Us, H):\n",
    "    for [gate, para] in Us:\n",
    "        if gate == 'C4': # C4 gate, para = C4 generator\n",
    "            # if non-commuting, do the dot product, otherwise do nothing\n",
    "            mat_C4_get = para[0].get\n",
    "            mat_C4_keys = para[0].keys()\n",
    "            val_C4 = para[1]\n",
    "            for term in H:\n",
    "                mat_keys = term[0].keys()\n",
    "                if mat_C4_keys & mat_keys: # if keys intersects\n",
    "                    # merge keys\n",
    "                    mat_get = term[0].get\n",
    "                    merged = merge(mat_get, mat_C4_get, mat_keys, mat_C4_keys)\n",
    "                    if sum(1 for [i, mu1, mu2] in merged\n",
    "                           if mu1 != 0 and mu2 != 0 and mu1 != mu2)%2:\n",
    "                        # if not commute, perform C4\n",
    "                        dotover(merged)\n",
    "                        term[0] = newmat(merged)\n",
    "                        term[1] *= val_C4*(-1)**(powofi(merged, 1)/2)        \n",
    "        elif gate == 'SWAP': # SWAP gate, para = SWAP positions\n",
    "            i0, i1 = para[0], para[1]\n",
    "            for term in H:\n",
    "                comm_keys = {i0, i1} & term[0].keys()\n",
    "                if comm_keys: # if keys intersects\n",
    "                    #term[0] = {(i0 if i == i1 else i1 if i == i0 else i): mu for (i, mu) in term[0].items()}\n",
    "                    if len(comm_keys) == 1: # only one site to be updated\n",
    "                        if i0 in comm_keys: # update i0 -> i1\n",
    "                            term[0][i1] = term[0].pop(i0)\n",
    "                        else: # update i1 -> i0\n",
    "                            term[0][i0] = term[0].pop(i1)\n",
    "                    else: # interchange two sites\n",
    "                        term[0][i0], term[0][i1] = term[0][i1], term[0][i0]"
   ]
  },
  {
   "cell_type": "markdown",
   "metadata": {},
   "source": [
    "Test:"
   ]
  },
  {
   "cell_type": "code",
   "execution_count": 99,
   "metadata": {
    "collapsed": false
   },
   "outputs": [
    {
     "name": "stdout",
     "output_type": "stream",
     "text": [
      "[['C4', [{0: 2, 5: 3, 7: 3}, 1.0]], ['C4', [{0: 2}, -1]]]\n"
     ]
    },
    {
     "data": {
      "text/plain": [
       "[[{0: 3}, 1.0], [{0: 3, 5: 1, 7: 2}, 1.0]]"
      ]
     },
     "execution_count": 99,
     "metadata": {},
     "output_type": "execute_result"
    }
   ],
   "source": [
    "H = [[{0: 3, 5: 3, 7: 3}, 1], [{0: 3, 5: 2, 7: 1}, 1]]\n",
    "Us = find_rotation(H[0][0],0)\n",
    "print(Us)\n",
    "unitary_transform(Us,H)\n",
    "H"
   ]
  },
  {
   "cell_type": "markdown",
   "metadata": {},
   "source": [
    "###Compute and Control 2nd Order Perturbation\n",
    "Given the off-diagonal terms $\\Sigma_0=\\sum_{[\\mu]}h_{[\\mu]}\\sigma^{[\\mu]}$ and $H_0=h_0\\sigma^{3[0..]}$, the 2nd order perturbation is then given by:\n",
    "$$\\begin{split}\n",
    "H_2 &= \\frac{1}{2h_0^2} H_0\\Sigma_0^2 = \\frac{1}{2h_0} \\sigma^{3[0..]}\\Sigma_0^2\\\\\n",
    "&=\\Big(\\frac{1}{2h_0}\\sum_{[\\mu]}h_{[\\mu]}^2\\Big)\\sigma^{3[0..]}+ \\sum_{[\\mu]_1<[\\mu]_2}\\frac{h_{[\\mu]_1}h_{[\\mu]_2}}{h_0}\\;\\sigma^{3[0..]}\\,\\Re[\\sigma^{[\\mu]_1}\\sigma^{[\\mu]_2}].\n",
    "\\end{split}$$\n",
    "- the first term is a backward correction to the leading energy scale,\n",
    "- the second term generates new terms and should be controlled,\n",
    "- $\\Re$ of Pauli matrices is non-vanishing only of the matrices commute.\n",
    "\n",
    "The growth the Hamiltonian is controlled by:\n",
    "- energy scale truncation `min_scale`: terms with energy scale less then `min_scale` will be neglected,\n",
    "- term number truncation `max_rate`: the perturbed H contains at most `max_rate`$\\times$ number of $H_\\text{offdiag}$ terms."
   ]
  },
  {
   "cell_type": "code",
<<<<<<< HEAD
   "execution_count": 133,
=======
   "execution_count": 339,
>>>>>>> FETCH_HEAD
   "metadata": {
    "collapsed": true
   },
   "outputs": [],
   "source": [
    "from itertools import combinations\n",
    "\"\"\" key functions for sorting \"\"\"\n",
    "def term_mat(term):\n",
    "    return tuple(term[0].items())\n",
    "def term_val(term):\n",
    "    return abs(term[1])\n",
    "\"\"\" cal perturbation Hamiltonian \"\"\"\n",
    "def perturbation(H_offdiag, h0, i_now, min_scale, max_rate):\n",
    "    # preselect pair of terms above min_scale\n",
    "    min_prod = abs(h0*min_scale)\n",
    "    H_prod = [[merge(term1[0].get, term2[0].get, term1[0].keys(), term2[0].keys()),\n",
    "               term1[1]*term2[1]/h0] \n",
    "              for (term1, term2) in combinations(H_offdiag, 2)\n",
    "              if abs(term1[1]*term2[1]) > min_prod]\n",
    "    # quench terms from anticommuting products\n",
    "    for term in H_prod:\n",
    "        if sum(1 for [i, mu1, mu2] in term[0]\n",
    "               if mu1 != 0 and mu2 != 0 and mu1 != mu2)%2: # if anticommute\n",
    "            term[1] = 0 # quench the coefficient\n",
    "    # sort by val\n",
    "    H_prod = [[merged, val] for [merged, val] \n",
    "              in H_prod if abs(val) > min_scale]\n",
    "    H_prod.sort(key=term_val)\n",
    "    # term number truncation\n",
    "    max_len = round(max_rate*len(H_offdiag))\n",
    "    if len(H_prod) > max_len:\n",
    "        H_prod = H_prod[-max_len:]\n",
    "    # carryout the matrix product\n",
    "    for term in H_prod:\n",
    "        dotover(term[0])\n",
    "        term[1] *= (-1)**(powofi(term[0])/2)\n",
    "        term[0] = newmat(term[0])\n",
    "        # apply H0 dot product\n",
    "        mu_now = term[0].get(i_now,0)\n",
    "        if mu_now == 0:\n",
    "            term[0][i_now] = 3\n",
    "        else: # mu_now = 3\n",
    "            del term[0][i_now]\n",
    "    # the backward correction to the leading energy scale\n",
    "    H_prod.append([{i_now: 3}, sum(val**2 for [mat, val] in H_offdiag)/(2*h0)])\n",
    "    return H_prod"
   ]
  },
  {
   "cell_type": "markdown",
   "metadata": {},
   "source": [
    "##Spectrum Bifurcation RG\n",
    "Generic Hamiltonian: qubit models\n",
    "$$H=\\sum_{[\\mu]}h_{[\\mu]}\\sigma^{[\\mu]},$$\n",
    "where $\\sigma^{[\\mu]}=\\sigma^{\\mu_1}\\otimes\\sigma^{\\mu_2}\\otimes\\sigma^{\\mu_3}\\otimes\\cdots$ denotes the product of Pauli matrices (quantum gates). The key assumption is $h_{[\\mu]}$ should be sufficiently random."
   ]
  },
  {
   "cell_type": "markdown",
   "metadata": {},
   "source": [
    "###RG Kernel\n",
    "**Algorithm**:\n",
    "- Find leading energy scale\n",
    "- Find Clifford algebra rotation $R$ that\n",
    "  - diagonalize the leading energy scale\n",
    "  - at the same time transform the other terms in the Hamiltonian (note that the term ordering is lost in this step)\n",
    "- Gather diagonal and off-diagonal terms\n",
    "    $$H = H_0 + \\Delta_0 + \\Sigma_0$$\n",
    "   where $H_0^2 = h_0^2$, $H_0\\Delta_0 = \\Delta_0H_0$, $H_0\\Sigma_0 = -\\Sigma_0H_0$.\n",
    "  - diagonal terms goes to new Hamiltonian\n",
    "  - off-diagonal terms renormalized by 2nd order perturbation, which generates effective terms in the diagonal blocks.[1]\n",
    "    $$H = H_0 + \\Delta_0 + \\frac{1}{2h_0^2} H_0\\Sigma_0^2.$$\n",
    "    The perturbation can be carried out by the unitary transform\n",
    "    $$U = \\exp\\left(-\\frac{1}{2h_0^2}H_0\\Sigma_0\\right).$$\n"
   ]
  },
  {
   "cell_type": "code",
<<<<<<< HEAD
   "execution_count": 167,
=======
   "execution_count": 161,
>>>>>>> FETCH_HEAD
   "metadata": {
    "collapsed": false
   },
   "outputs": [],
   "source": [
    "from copy import deepcopy\n",
    "\"\"\" judge if a matrix is identity starting from i_now position \"\"\"\n",
    "def is_iden(mat, i_now):\n",
    "    return all(False for i in mat.keys() if i > i_now)\n",
    "\"\"\" SBRG class \"\"\"\n",
    "class SBRG:\n",
    "    def __init__(self, model):\n",
    "        self.tol = 1.e-8\n",
    "        self.max_rate = 3.\n",
    "        self.tot_bits = model['bits'] # total number of bits\n",
    "        self.tau_bits = 0 # number of tau bits that has been discovered\n",
    "        self.H = deepcopy(model['H']) # physical Hamiltonian\n",
    "        self.Heff = [] # effective Hamiltonian\n",
    "        self.gates = [] # Clifford gates collected along the way\n",
    "    \"\"\" one RG step forward \"\"\"\n",
    "    def next_step(self):\n",
    "        i_now = self.tau_bits\n",
    "        H_UV = self.H\n",
    "        if len(H_UV) == 0: # return if H = 0\n",
    "            self.tau_bits += 1\n",
    "            return H_UV\n",
    "        # find the leading energy scale\n",
    "        [mat_H0, h0] = max(H_UV, key=term_val)\n",
    "        min_scale = abs(h0*self.tol)\n",
    "         # diagonalize the leading term\n",
    "        Us = find_rotation(mat_H0, i_now)\n",
    "        self.gates.append(Us)\n",
    "        # perform unitary transforms to the whole Hamiltonian\n",
    "        unitary_transform(Us, H_UV)\n",
    "        # and mark out diag and offdiag terms\n",
    "        H_gather = [(0 < term[0].get(i_now,0) < 3, term) for term in H_UV]\n",
    "        # off diagonal terms goes to H_offdiag\n",
    "        H_offdiag = [term for (is_offdiag, term) in H_gather \n",
    "                     if is_offdiag]\n",
    "        # H_prod = H_offdiag^2/(2*h0) -> 2nd order perturbation\n",
    "        H_prod = perturbation(H_offdiag, h0, i_now, min_scale, self.max_rate)\n",
    "        # add the 2nd order perturbation with the diag part of H\n",
    "        H_prod += [term for (is_offdiag, term) in H_gather \n",
    "                   if not is_offdiag]\n",
    "        # prepare to merge similar terms\n",
    "        H_prod.sort(key=term_mat) # strategy: merge by sorting\n",
    "        mat_last = {}\n",
    "        H_IR = []\n",
    "        for [mat, val] in H_prod: # loop of merging\n",
    "            if abs(val) > min_scale:\n",
    "                if mat != mat_last: # if mat is new\n",
    "                    H_IR.append([mat, val]) # add to H\n",
    "                    mat_last = mat # update mat_last\n",
    "                else: # if mat == mat_last\n",
    "                    H_IR[-1][1] += val # add val to\n",
    "        # mark out identity terms in the remaining physical space\n",
    "        H_gather = [(is_iden(term[0], i_now), term) for term in H_IR]\n",
    "        self.H = [term for (iden, term) in H_gather if not iden]\n",
    "        self.Heff.extend([term for (iden, term) in H_gather if iden])\n",
    "        self.tau_bits = i_now + 1 # tau bits counter inc\n",
    "        return self.H\n",
    "    \"\"\" RG flow \"\"\"\n",
    "    def flow(self, step = float('inf')):\n",
    "        if step > (self.tot_bits - self.tau_bits):\n",
    "            step = self.tot_bits - self.tau_bits\n",
    "        stp_count = 0\n",
    "        while (self.tau_bits < self.tot_bits and stp_count < step):\n",
    "            self.next_step()\n",
    "            stp_count += 1"
   ]
  },
  {
   "cell_type": "markdown",
   "metadata": {},
   "source": [
    "Test:"
   ]
  },
  {
   "cell_type": "code",
<<<<<<< HEAD
   "execution_count": 142,
=======
   "execution_count": 174,
>>>>>>> FETCH_HEAD
   "metadata": {
    "collapsed": false
   },
   "outputs": [],
   "source": [
<<<<<<< HEAD
    "model = TFIsing(256, J=1,K=1,h=0,alpha_J=0.5,alpha_K=0.5,alpha_h=0.5)"
=======
    "model = TFIsing(16, J=1,K=1,h=0,alpha_J=0.5,alpha_K=0.5,alpha_h=0.5)"
>>>>>>> FETCH_HEAD
   ]
  },
  {
   "cell_type": "code",
<<<<<<< HEAD
   "execution_count": 163,
=======
   "execution_count": 175,
>>>>>>> FETCH_HEAD
   "metadata": {
    "collapsed": false
   },
   "outputs": [],
   "source": [
    "system = SBRG(model)\n",
    "system.flow()"
   ]
  },
  {
   "cell_type": "code",
<<<<<<< HEAD
   "execution_count": 129,
=======
   "execution_count": 176,
>>>>>>> FETCH_HEAD
   "metadata": {
    "collapsed": false
   },
   "outputs": [
    {
     "data": {
      "text/plain": [
<<<<<<< HEAD
       "[[{0: 3}, 0.8591730550201672],\n",
       " [{1: 3}, 0.6145780077040786],\n",
       " [{0: 3, 1: 3, 2: 3}, 0.01829787623446171],\n",
       " [{2: 3}, 0.28104356217672355],\n",
       " [{0: 3, 2: 3, 3: 3}, 0.0022883962277687776],\n",
       " [{3: 3}, 0.17533233883358992]]"
      ]
     },
     "execution_count": 129,
=======
       "[[{0: 3}, (1.1540744791854234+0j)],\n",
       " [{1: 3}, (0.6905464383527015+0j)],\n",
       " [{2: 3}, (0.7752919020657542+0j)],\n",
       " [{3: 3}, (0.5547705947153087+0j)],\n",
       " [{4: 3}, (0.7074116952964455+0j)],\n",
       " [{5: 3}, (0.6925903301073961+0j)],\n",
       " [{6: 3}, (0.47867664796913767+0j)],\n",
       " [{7: 3}, (0.5942829076897553+0j)],\n",
       " [{8: 3}, (0.5619247631489648+0j)],\n",
       " [{9: 3}, (0.43600523474401987+0j)],\n",
       " [{10: 3}, (0.3126777535094995+0j)],\n",
       " [{11: 3}, (0.21174769884765574+0j)],\n",
       " [{12: 3}, (0.15831279280716098+0j)],\n",
       " [{13: 3}, (0.009691349865396236+0j)],\n",
       " [{0: 3,\n",
       "   1: 3,\n",
       "   2: 3,\n",
       "   3: 3,\n",
       "   4: 3,\n",
       "   5: 3,\n",
       "   6: 3,\n",
       "   7: 3,\n",
       "   8: 3,\n",
       "   9: 3,\n",
       "   10: 3,\n",
       "   11: 3,\n",
       "   12: 3,\n",
       "   13: 3,\n",
       "   14: 3},\n",
       "  (6.744502096497572e-05+0j)],\n",
       " [{14: 3}, (0.0047575830119934845+0j)],\n",
       " [{0: 3,\n",
       "   1: 3,\n",
       "   2: 3,\n",
       "   3: 3,\n",
       "   4: 3,\n",
       "   5: 3,\n",
       "   6: 3,\n",
       "   7: 3,\n",
       "   8: 3,\n",
       "   9: 3,\n",
       "   10: 3,\n",
       "   11: 3,\n",
       "   12: 3,\n",
       "   14: 3,\n",
       "   15: 3},\n",
       "  (2.2856192607407812e-05+0j)],\n",
       " [{15: 3}, (0.00013841657015388045+0j)]]"
      ]
     },
     "execution_count": 176,
>>>>>>> FETCH_HEAD
     "metadata": {},
     "output_type": "execute_result"
    }
   ],
   "source": [
    "system.Heff"
   ]
  },
  {
   "cell_type": "markdown",
   "metadata": {},
   "source": [
    "Profiling:"
   ]
  },
  {
   "cell_type": "code",
   "execution_count": 131,
   "metadata": {
    "collapsed": false
   },
   "outputs": [
    {
     "name": "stdout",
     "output_type": "stream",
     "text": [
      "The snakeviz extension is already loaded. To reload it, use:\n",
      "  %reload_ext snakeviz\n"
     ]
    }
   ],
   "source": [
    "%load_ext snakeviz"
   ]
  },
  {
   "cell_type": "code",
   "execution_count": 168,
   "metadata": {
    "collapsed": false
   },
   "outputs": [
    {
     "name": "stdout",
     "output_type": "stream",
     "text": [
      " \n",
      "*** Profile stats marshalled to file '/var/folders/tl/lwpcq5qj049ftcj7pvhkzv_h0000gn/T/tmpxi8l_r'. \n"
     ]
    }
   ],
   "source": [
    "system = SBRG(model)\n",
    "% snakeviz system.flow()"
   ]
  },
  {
   "cell_type": "markdown",
   "metadata": {},
   "source": [
    "Benchmark with Mathematica:"
   ]
  },
  {
   "cell_type": "code",
<<<<<<< HEAD
   "execution_count": 169,
=======
   "execution_count": 138,
>>>>>>> FETCH_HEAD
   "metadata": {
    "collapsed": false
   },
   "outputs": [],
   "source": [
    "model = TFIsing(16, J=1,K=1,h=0.001,alpha_J=0.2,alpha_K=0.2,alpha_h=0.2)\n",
    "export('model', model)\n",
    "system = SBRG(model)\n",
    "system.flow()\n",
    "export('Heff',system.Heff)"
   ]
  },
  {
   "cell_type": "markdown",
   "metadata": {},
   "source": [
    "##Model Hamiltonians\n",
    "###Transverse Field Ising with Interaction\n",
    "For random $J_i$, $K_i$, $h_i$ drawn from a beta distribution,\n",
    "$$H=-\\sum_{i}J_i \\sigma_i^x\\sigma_{i+1}^x+K_i \\sigma_i^z\\sigma_{i+1}^z+h_i \\sigma_i^z.$$"
   ]
  },
  {
   "cell_type": "code",
   "execution_count": 105,
   "metadata": {
    "collapsed": false
   },
   "outputs": [],
   "source": [
    "import random\n",
    "\"\"\" H of TFIsing \"\"\"\n",
    "def TFIsing(L, **para):\n",
    "    # L - number of sites (assuming PBC)\n",
    "    # model - a dict of model parameters {J, alpha_J, K, alpha_K, h, alpha_h}\n",
    "    H = []\n",
    "    # translate over the lattice by deque rotation\n",
    "    H_append = H.append\n",
    "    rnd_beta = random.betavariate\n",
    "    for i in range(L):\n",
    "        H_append([{i: 1, (i+1)%L: 1}, para['J']*rnd_beta(para['alpha_J'], 1)])\n",
    "        H_append([{i: 3, (i+1)%L: 3}, para['K']*rnd_beta(para['alpha_K'], 1)])\n",
    "        H_append([{i: 3}, para['h']*rnd_beta(para['alpha_h'], 1)])\n",
    "    H = [term for term in H if abs(term[1]) > 0]\n",
    "    return {'bits': L, 'H': H}"
   ]
  },
  {
   "cell_type": "markdown",
   "metadata": {},
   "source": [
    "##Toolbox\n",
    "###Data I/O\n",
    "JSON pickle: export to communicate with Mathematica"
   ]
  },
  {
   "cell_type": "code",
   "execution_count": 106,
   "metadata": {
    "collapsed": false
   },
   "outputs": [],
   "source": [
    "import jsonpickle\n",
    "def export(filename, obj):\n",
    "    with open(filename + '.json', 'w') as outfile:\n",
    "        outfile.write(jsonpickle.encode(obj))"
   ]
  },
  {
   "cell_type": "markdown",
   "metadata": {},
   "source": [
    "pickle: binary dump and load for python."
   ]
  },
  {
   "cell_type": "code",
   "execution_count": 107,
   "metadata": {
    "collapsed": false
   },
   "outputs": [],
   "source": [
    "import pickle\n",
    "def dump(filename, obj):\n",
    "    with open(filename + '.dat', 'bw') as outfile:\n",
    "        pickle.dump(obj, outfile)\n",
    "def load(filename):\n",
    "    with open(filename + '.dat', 'br') as infile:\n",
    "        return pickle.load(infile)"
   ]
  },
  {
   "cell_type": "markdown",
   "metadata": {},
   "source": [
    "###Visulization\n",
    "####Histogram"
   ]
  },
  {
   "cell_type": "code",
   "execution_count": 303,
   "metadata": {
    "collapsed": false
   },
   "outputs": [],
   "source": [
    "%matplotlib inline\n",
    "import matplotlib.pyplot as plt\n",
    "def hist_plot(data):\n",
    "    if len(data) > 1:\n",
    "        plt.hist(data, 30)\n",
    "        plt.xlabel(\"Energy Scale\")\n",
    "        plt.ylabel(\"Frequency\")\n",
    "        plt.show()\n",
    "    else:\n",
    "        print('hist_plot: input has only one data point.')"
   ]
  },
  {
   "cell_type": "markdown",
   "metadata": {},
   "source": [
    "#Physics\n",
    "##Level Statistics\n",
    "###Flow of Energy Scale Distribution"
   ]
  },
  {
   "cell_type": "code",
<<<<<<< HEAD
   "execution_count": 407,
   "metadata": {
    "collapsed": false
   },
=======
   "execution_count": 245,
   "metadata": {
    "collapsed": false
   },
   "outputs": [
    {
     "data": {
      "image/png": "iVBORw0KGgoAAAANSUhEUgAAAYIAAAEPCAYAAABP1MOPAAAABHNCSVQICAgIfAhkiAAAAAlwSFlz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\n",
      "text/plain": [
       "<matplotlib.figure.Figure at 0x10706fa10>"
      ]
     },
     "metadata": {},
     "output_type": "display_data"
    }
   ],
   "source": [
    "model = TFIsing(128, J=1,K=0,h=1,alpha_J=0.75,alpha_K=0.2,alpha_h=0.75)\n",
    "system = SBRG(model)\n",
    "hist_plot([abs(val) for (mat, val) in system.H])"
   ]
  },
  {
   "cell_type": "code",
   "execution_count": 189,
   "metadata": {
    "collapsed": false
   },
   "outputs": [
    {
     "name": "stdout",
     "output_type": "stream",
     "text": [
      "256\n"
     ]
    },
    {
     "data": {
      "image/png": "iVBORw0KGgoAAAANSUhEUgAAAYkAAAEPCAYAAAC3NDh4AAAABHNCSVQICAgIfAhkiAAAAAlwSFlz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\n",
      "text/plain": [
       "<matplotlib.figure.Figure at 0x1064f0d10>"
      ]
     },
     "metadata": {},
     "output_type": "display_data"
    }
   ],
   "source": [
    "system.flow(256)\n",
    "print(system.tau_bits)\n",
    "hist_plot([abs(val) for (mat, val) in system.H])"
   ]
  },
  {
   "cell_type": "code",
   "execution_count": 190,
   "metadata": {
    "collapsed": false
   },
   "outputs": [
    {
     "name": "stdout",
     "output_type": "stream",
     "text": [
      "512\n"
     ]
    },
    {
     "data": {
      "image/png": "iVBORw0KGgoAAAANSUhEUgAAAYkAAAEPCAYAAAC3NDh4AAAABHNCSVQICAgIfAhkiAAAAAlwSFlz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\nrkJggg==\n",
      "text/plain": [
       "<matplotlib.figure.Figure at 0x105e59710>"
      ]
     },
     "metadata": {},
     "output_type": "display_data"
    }
   ],
   "source": [
    "system.flow(256)\n",
    "print(system.tau_bits)\n",
    "hist_plot([abs(val) for (mat, val) in system.H])"
   ]
  },
  {
   "cell_type": "code",
   "execution_count": 191,
   "metadata": {
    "collapsed": false
   },
   "outputs": [
    {
     "name": "stdout",
     "output_type": "stream",
     "text": [
      "768\n"
     ]
    },
    {
     "data": {
      "image/png": "iVBORw0KGgoAAAANSUhEUgAAAYsAAAEPCAYAAACzwehFAAAABHNCSVQICAgIfAhkiAAAAAlwSFlz\nAAALEgAACxIB0t1+/AAAGBBJREFUeJzt3Xu0JWV95vHvIw0KeCF4aYHGAdQW2lEHEMRLxgaVMI4D\nRjNexgtelnGCMcksRwMaY6+5aEyWqEmWWSYKq51EMm1CCGRBQoOeDGOQRrlK0wIOHWmUBhUV8dbA\nb/7YdWB7ck5Xncveu7rP97PWXl317qr9/k5xqOfUW7WrUlVIkrQzD5t0AZKk/jMsJEmtDAtJUivD\nQpLUyrCQJLUyLCRJrUYWFknOSrI9yfUz2t+Z5MYkX03y4aH2M5LcnGRLkhNHVZckaf5WjPCzzwb+\nCPjMdEOS44GTgWdW1Y4kj2/a1wCvBtYABwGXJFldVQ+MsD5JUkcjO7KoqsuAu2c0/xrwoara0Sxz\nV9N+CnBOVe2oqq3ALcCxo6pNkjQ/4z5n8VTg3yb5UpKpJM9u2g8Etg0tt43BEYYkqQdGOQw1V3+/\nUFXHJTkG2AAcNsey3odEknpi3GGxDTgXoKquTPJAkscBtwMHDy23qmn7OUkMEElagKrKYtYfd1ic\nB5wA/GOS1cBeVfXtJOcDn01yJoPhp6cCm2b7gMX+wOOQZF1VrZt0HW2sc2lZ59LaFercFWqEpflD\ne2RhkeQc4IXAY5PcBvwucBZwVnM57c+ANwJU1eYkG4DNwH3AaeXtcCWpN0YWFlX12jneesMcy38Q\n+OCo6pEkLdy4h6EWLckrJtT19qr6Ysdlp0ZZyBKamnQBHU1NuoCOpiZdQEdTky6go6lJF9DB1KQL\nGJfsSqM9g3G3X/rB+Hu+cwXcelXV3b84/r4laXGS1K52gnsJ/P2jx9/nRcAb9xh/v5LUD95IUJLU\nyrCQJLUyLCRJrQwLSVIrw0KS1MqwkCS1MiwkSa0MC0lSK8NCktTKsJAktTIsJEmtDAtJUivDQpLU\nyrCQJLUyLCRJrQwLSVKrkYVFkrOSbE9y/SzvvSvJA0n2H2o7I8nNSbYkOXFUdUmS5m+URxZnAyfN\nbExyMPAS4J+H2tYArwbWNOt8IolHPZLUEyPbIVfVZcDds7x1JvCeGW2nAOdU1Y6q2grcAhw7qtok\nSfMz1r/ek5wCbKuq62a8dSCwbWh+G3DQ2AqTJO3UinF1lGQf4L0MhqAebN7JKjXaiiRJXY0tLIAn\nA4cA1yYBWAV8JclzgNuBg4eWXdW0zWLd0PTa5iVJmpZkLUu8c0zV6P6AT3IIcEFVPWOW924Fjq6q\n7zYnuD/L4DzFQcAlwFNqRnFJajIHHBcBb7y86q7nTaBzSVqUJFVVOxvJaTXKS2fPAf4JWJ3ktiRv\nnrHIg3v9qtoMbAA2M9gznzYzKCRJkzPSI4ul5pGFJM1fr48sJEm7D8NCktTKsJAktTIsJEmtDAtJ\nUivDQpLUyrCQJLUyLCRJrQwLSVIrw0KS1MqwkCS1MiwkSa0MC0lSK8NCktTKsJAktTIsJEmtDAtJ\nUivDQpLUyrCQJLUaWVgkOSvJ9iTXD7X9QZIbk1yb5Nwkjxl674wkNyfZkuTEUdUlSZq/UR5ZnA2c\nNKPtYuDpVfUs4CbgDIAka4BXA2uadT6RxKMeSeqJke2Qq+oy4O4ZbRur6oFm9gpgVTN9CnBOVe2o\nqq3ALcCxo6pNkjQ/k/zr/S3Ahc30gcC2ofe2AQeNvSJJ0qxWTKLTJO8DflZVn93JYjV787qh6bXN\nS5I0LclalnjnOPawSPIm4KXAi4aabwcOHppf1bTNYt1oCpOk3URVTQFT0/NJPrDYzxzrMFSSk4B3\nA6dU1U+G3jofeE2SvZIcCjwV2DTO2iRJcxvZkUWSc4AXAo9LchvwAQZXP+0FbEwCcHlVnVZVm5Ns\nADYD9wGnVdUcw1CSpHHLrrRPTlJznsoYqYuAN15eddfzJtC5JC1KkqqqLOYz/C6DJKmVYSFJamVY\nSJJaGRaSpFaGhSSplWEhSWplWEiSWhkWkqRWhoUkqZVhIUlqZVhIkloZFpKkVoaFJKmVYSFJamVY\nSJJaGRaSpFaGhSSplWEhSWplWEiSWo0sLJKclWR7kuuH2vZPsjHJTUkuTrLf0HtnJLk5yZYkJ46q\nLknS/I3yyOJs4KQZbacDG6tqNXBpM0+SNcCrgTXNOp9I4lGPJPXEyHbIVXUZcPeM5pOB9c30euDl\nzfQpwDlVtaOqtgK3AMeOqjZJ0vyM+6/3lVW1vZneDqxspg8Etg0ttw04aJyFSZLmtmJSHVdVJamd\nLTJ787qh6bXNS5I0LclalnjnOO6w2J7kiVV1R5IDgDub9tuBg4eWW9W0zWLdKOuTpF1eVU0BU9Pz\nST6w2M8c9zDU+cCpzfSpwHlD7a9JsleSQ4GnApvGXJskaQ4jO7JIcg7wQuBxSW4Dfhf4PWBDkrcC\nW4FXAVTV5iQbgM3AfcBpVbWzISpJ0hilbZ+c5BlVdf1OFxqTwTmOSWTIRcAbL6+663kT6FySFiVJ\nVVUW8xldhqH+JMmVSU5L8pjFdCZJ2jW1hkVVvQB4HfAk4Kok5/gNa0laXjqd4K6qm4DfAX6bwXmI\njyf5WpJXjrI4SVI/tIZFkmcl+ShwI3AC8LKqOgI4HvjoiOuTJPVAl6uh/hD4NPC+qvrRdGNVfTPJ\n74ysMklSb3QJi38P/Liq7gdIsgfwiKq6t6o+M9LqJEm90OWcxSXA3kPz+wAbR1OOJKmPuoTFI6rq\nh9MzVXUPg8CQJC0TXcLi3iRHT88keTbw49GVJEnqmy7nLH6LwS06vtXMH8DgQUWSpGWiNSyq6sok\nRwBPY3Cvja9V1Y6RVyZJ6o2uNxJ8NnBos/xRSfBKKElaPlrDIsmfA4cB1wD3D71lWEjSMtHlyOJo\nYI23DJek5avL1VBfZXBSW5K0THU5sng8sDnJJuCnTVtV1cmjK0uS1CddwmJd828BGZqWJC0TXS6d\nnUpyCPCUqrokyT5d1pMk7T663KL8V4HPAZ9smlYBfzPKoiRJ/dLlBPc7gBcAP4AHH4T0hMV0muSM\nJDckuT7JZ5M8PMn+STYmuSnJxUn2W0wfkqSl0yUsflpV0ye2SbKCRZyzaIa03gYcVVXPAPYAXgOc\nDmysqtXApc28JKkHuoTFPyZ5H7BPkpcwGJK6YBF9/gDY0XzeCgZ3sP0mcDKwvllmPfDyRfQhSVpC\nXcLidOAu4Hrg7cCFDJ7HvSBV9V3gI8A3GITE96pqI7CyqrY3i20HVi60D0nS0upyNdT9wJ82r0VL\n8mQGd7I9BPg+8Lkkr5/RZyWZY6hr3dD02uYlSZqWZC1LvHPscm+oW2dprqo6bIF9Phv4p6r6TvP5\n5wLPBe5I8sSquiPJAcCds6++boHdStLyUFVTwNT0fJIPLPYzu3xf4pih6UcAvwI8dhF9bgHen2Rv\n4CfAi4FNwL3AqcCHm3/PW0QfkqQl1GUY6tszmj6W5Crg/QvpsKquTfIZ4MvAA8BVDIa4HsXgIUtv\nBbYCr1rI50uSll6XYaijeehS2YcxGEbaYzGdVtXvA78/o/m7DI4yJEk902UY6iM8FBb34V/9krTs\ndBmGWjuGOiRJPdZlGOpd/MtvbD9499mqOnPJq5Ik9UrXJ+UdA5zPICReBlwJ3DTCuiRJPdIlLA5m\ncB+ne+DB63UvrKrXjbQySVJvdLndxxMY3Mtp2g4WeddZSdKupcuRxWeATc03rcPgBn/rd76KJGl3\n0uVqqP+Z5O8ZPNMC4E1VdfVoy5Ik9UmXYSgY3Eb8nqr6OLAtyaEjrEmS1DNdHqu6DngPDz2MaC/g\nz0dYkySpZ7ocWfwycAqDG/1RVbczuI+TJGmZ6PpY1QemZ5LsO8J6JEk91CUsPpfkk8B+SX6VwfOx\nPzXasiRJfbLTq6GSBPjfwOHAPcBq4P3NY1AlSctEl+9ZXFhV/xq4eNTFSJL6aadh0TwL+ytJjq2q\nTeMqqp++/dy5nws+elWV9qUkaTS6HFkcB7w+yT/TXBHFIEeeObqy+mpSWWFOSJqsOcMiyZOq6hvA\nLzHYS7rHkqRlamdHFn8LHFlVW5P8dVW9clxFSZL6pevtPg5byk6T7Jfkr5LcmGRzkuck2T/JxiQ3\nJbk4yX5L2ackaeG6hsVS+ziDq6yOAJ4JbGFwO5GNVbWawXc5Tt/J+pKkMUrV7Cdtk9wP/KiZ3Rv4\n8dDbVVWPXlCHyWOAq6vqsBntW4AXVtX2JE8Epqrq8BnL1GROMl8EvJRJnuD2aihJC5WkFrsPmfOc\nRVXtsZgP3olDgbuSnA08C/gK8FvAyqra3iyzHVg5ov4lSfPU5dLZUfR5FPDrVXVlko8xY8ip+X7H\nHH/GrxuaXtu8JEnTkqxliXeOcw5DjUozxHR5VR3azL8AOIPBSfTjq+qOJAcAX3AYaprDUJIWbimG\nocZ+gruq7gBuS7K6aXoxcANwAXBq03YqcN64a5MkzW4Sw1AA7wT+IslewNeBNwN7ABuSvBXYCrxq\nQrVJkmYY+zDUYjgMJUnzt0sOQ0mSdj2GhSSplWEhSWplWEiSWhkWkqRWhoUkqZVhIUlqZVhIkloZ\nFpKkVoaFJKmVYSFJamVYSJJaGRaSpFaGhSSplWEhSWplWEiSWhkWkqRWhoUkqZVhIUlqNbGwSLJH\nkquTXNDM759kY5KbklycZL9J1SZJ+nmTPLL4TWAzUM386cDGqloNXNrMS5J6YCJhkWQV8FLgU0Ca\n5pOB9c30euDlEyhNkjSLFRPq96PAu4FHD7WtrKrtzfR2YOXYq+qxJNW+1GhUVdqXWnrL8WeW+mrs\nYZHkZcCdVXV1krWzLVNVNfeOYt3Q9NrmtRxMar856X3mJH7uSf/M0uI0+9a1S/qZVeP9nzHJB4E3\nAPcBj2BwdHEucAywtqruSHIA8IWqOnzGujWZncdFDEbNJrnDNizGJx5ZaLeSpBb7Oz32cxZV9d6q\nOriqDgVeA3y+qt4AnA+c2ix2KnDeuGvTXGpCL0l90YfvWUzvFX4PeEmSm4ATmnlJUg+MfRhqMRyG\nsu/x9bs8Ofy2e1qKYahJXQ0l9dxyC8jpvqXZGRaSJs7LpPvPsJDUEw459lkfTnBLknrOsJAktTIs\nJEmtDAtJUivDQpLUyrCQJLXy0llJy5rf8ejGsJD0oEnuOCfHb8x3YVhIGuKOU7PznIUkqZVhIUlq\nZVhIkloZFpKkVoaFJKmVYSFJamVYSJJajT0skhyc5AtJbkjy1SS/0bTvn2RjkpuSXJxkv3HXJkma\n3SSOLHYA/6Wqng4cB7wjyRHA6cDGqloNXNrMS5J6YOxhUVV3VNU1zfQPgRuBg4CTgfXNYuuBl4+7\nNknS7CZ6ziLJIcCRwBXAyqra3ry1HVg5obIkSTNM7N5QSR4J/DXwm1V1T/LQvWGqqua+odm6oem1\nzUuSNC3JWpZ455iq8d84LMmewN8BF1XVx5q2LcDaqrojyQHAF6rq8Bnr1WRudHYR8FIme5M1+979\n+7Xv5dPvoO9x3aI8SS22r0lcDRXg08Dm6aBonA+c2kyfCpw37tokSbMb+5FFkhcA/we4joci/Qxg\nE7ABeBKwFXhVVX1vxroeWdj3btyvfS+ffgd970pHFmM/Z1FV/5e5j2hePM5aJEnd+A1uSVIrw0KS\n1MqwkCS1MiwkSa0MC0lSK8NCktTKsJAktTIsJEmtDAtJUivDQpLUyrCQJLUyLCRJrQwLSVIrw0KS\n1MqwkCS1MiwkSa0MC0lSK8NCktSqV2GR5KQkW5LcnOS3J12PJGmgN2GRZA/gj4GTgDXAa5McMdmq\nFmpq0gV0NDXpAjqamnQBHU1NuoCOpiZdQEdTky6gg6lJFzA2vQkL4FjglqraWlU7gL8ETplwTQs0\nNekCOpqadAEdTU26gI6mJl1AR1OTLqCjqUkX0MHUpAsYmz6FxUHAbUPz25o2SdKErZh0AUOq22In\nfH+0Zczm23sC+4y/X0nqh1R13EePWJLjgHVVdVIzfwbwQFV9eGiZfhQrSbuYqspi1u9TWKwAvga8\nCPgmsAl4bVXdONHCJEn9GYaqqvuS/DrwD8AewKcNCknqh94cWUiS+qs3V0N1+UJekj9s3r82yZHz\nWbcndW5Ncl2Sq5NsmmSdSQ5PcnmSnyR513zW7VGdY9meHWp8XfPf+rokX0zyzK7r9qjOPv1untLU\neXWSryQ5oeu6PaqzN9tzaLljktyX5JXzXReAqpr4i8Gw0y3AIcCewDXAETOWeSlwYTP9HOBLXdft\nQ53N/K3A/j3Zno8Hng38D+Bd81m3D3WOa3t2rPG5wGOa6ZN6/Ls5a509/N3cd2j6GQy+f9XH7Tlr\nnX3bnkPLfR74O+CVC9mefTmy6PKFvJOB9QBVdQWwX5Indlx30nWuHHp/UVckLFWdVXVXVX0Z2DHf\ndXtS57RRb88uNV5eVdOXdF8BrOq6bk/qnNaX3817h2YfCXy767o9qXNaL7Zn453AXwF3LWBdoD/D\nUF2+kDfXMgd2WHepLKZOGHyX5JIkX07ythHV2FbDKNedr8X2NY7tOd8a3wpcuMB1F2MxdULPfjeT\nvDzJjcBFwG/MZ90e1Ak92p5JDmIQAn8yVFundYf15WqormfZx5HUO7PYOl9QVd9M8nhgY5ItVXXZ\nEtU2bDFXLYzziofF9vX8qvrWiLdn5xqTHA+8BXj+fNddAoupE8azLaFjnVV1HnBekl8E/leSw0dQ\ny05L6LTQjDqBpzVv9Wl7fgw4vaoqSXho/zSv38++HFncDhw8NH8wg5Tb2TKrmmW6rLtUFlrn7QBV\n9c3m37uAv2FwGDipOkex7nwtqq+q+lbz7yi3Z6cam5PFfwacXFV3z2fdHtQ5rm3Zuc6hui5j8Eft\n/s1yvdqe06brTPLYZr5P2/No4C+T3Aq8EvhEkpM7rvuQUZ+A6XiSZgXwdQYnWvai/cTxcTx0ErF1\n3Z7UuQ/wqGZ6X+CLwImTqnNo2XX8/AnuXm3PndQ5lu3Z8b/5kxicKDxuoT/fhOvs1e8m8GQeuqz/\nKODrPd2ec9XZq+05Y/mzgVcsaN1R/AAL/KH/HYNvcN8CnNG0vR14+9Ayf9y8fy1w1M7W7VudwGHN\nf4xrgK9Ouk7giQzGK78P3A18A3hk37bnXHWOc3t2qPFTwHeAq5vXpj7+bs5VZw9/N9/T1HE1cBlw\nTE+356x19m17zlj2wbCY7/b0S3mSpFZ9OWchSeoxw0KS1MqwkCS1MiwkSa0MC0lSK8NCktTKsNBu\nJcn9zW2hp1/vmXRNAEne0tyy+tok1zffoF3I5/xwqWuTuvB7FtqtJLmnqh61xJ+5oqruW8T6q4Ap\n4MiquifJPsATqmrrAj5ryX8+qQuPLLQsNA+jWdc8pOa6JE9r2vdNclaSK5JcNf0Xf5I3JTk/yaUM\nbgS3d5INSW5Icm6SLyU5Osmbk3x0qJ+3JTlzRvdPAO4B7gWoqh9NB0WSpyS5JMk1TW2HNjVdMlTr\nrEchSd6dZFNztLJuqbeZNMyw0O5m7xnDUP+xaS/grqo6msGtmv9r0/4+4NKqeg5wAvAHzV/+AEcy\neFDM8cA7gO9U1dOB9zO4OVsBG4D/kGSPZp03AZ+eUdM1wHbg1iaYXjb03l8Af1RV/4bBw4nuAH4C\n/HJT6wnAR2b+kElOBJ5SVcc2dR7d3PlUGom+3KJcWio/rqoj53jv3Obfq4BXNNMnMtjZT4fHwxnc\ncK+AjVX1vab9+Qxu9UxV3ZDkumb63iSfbz5jC7BnVd0w3GlVPQCclOQY4EXAR5McDZwJHFhVf9ss\n9zOAJHsCH2p2/g8AByZ5QlXdOfSxJwInJrm6md8XeAqDexRJS86w0HLy0+bf+/n53/1XVNXNwwsm\neQ7NsNFw8xyf+ykGRyg3AmfN1XlVXQlcmWQjgxu6/YsjhsbrgMcxuAnl/c2tpR8xy3Ifqqo/nas/\naSk5DKXl7h8YesJZkumjkpnB8EXgVc0yaxg8cxmAqtrE4Lkl/wk4Z2YHSQ5IctRQ05HA1qr6IbAt\nySnNcg9PsjfwaODOJiiOB/7VHHW/Jcm+zboHNQ/akUbCIwvtbvYeGpoBuKiq3jtjmeKhp4T9d+Bj\nzbDSw4D/x+A56sPLAHwCWJ/kBmALcAOD26ZP2wA8qx56xvWwPRmcCzmQwfmIO4H/3Lz3BuCTSf4b\ng+eM/wqD8xgXNDV9mcERy3DtVNXGJEcAlw8efsY9wOv5+WcsS0vGS2elDpI8jMH5iJ8meTKwEVg9\nfUltkguAM6vqC5OsUxoVjyykbvYFPt+cfA7wa1V1X5L9gCuAawwK7c48spAktfIEtySplWEhSWpl\nWEiSWhkWkqRWhoUkqZVhIUlq9f8BrNK+Ba0kb6kAAAAASUVORK5CYII=\n",
      "text/plain": [
       "<matplotlib.figure.Figure at 0x1064f7fd0>"
      ]
     },
     "metadata": {},
     "output_type": "display_data"
    }
   ],
   "source": [
    "system.flow(256)\n",
    "print(system.tau_bits)\n",
    "hist_plot([abs(val) for (mat, val) in system.H])"
   ]
  },
  {
   "cell_type": "code",
   "execution_count": 192,
   "metadata": {
    "collapsed": false
   },
   "outputs": [
    {
     "name": "stdout",
     "output_type": "stream",
     "text": [
      "896\n"
     ]
    },
    {
     "data": {
      "image/png": "iVBORw0KGgoAAAANSUhEUgAAAYsAAAEPCAYAAACzwehFAAAABHNCSVQICAgIfAhkiAAAAAlwSFlz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\nK8tCktTKspAktbIsJEmt/j8zfj1MvXrZbgAAAABJRU5ErkJggg==\n",
      "text/plain": [
       "<matplotlib.figure.Figure at 0x1064f7b90>"
      ]
     },
     "metadata": {},
     "output_type": "display_data"
    }
   ],
   "source": [
    "system.flow(128)\n",
    "print(system.tau_bits)\n",
    "hist_plot([abs(val) for (mat, val) in system.H])"
   ]
  },
  {
   "cell_type": "code",
   "execution_count": 193,
   "metadata": {
    "collapsed": false
   },
   "outputs": [
    {
     "name": "stdout",
     "output_type": "stream",
     "text": [
      "960\n"
     ]
    },
    {
     "data": {
      "image/png": "iVBORw0KGgoAAAANSUhEUgAAAYYAAAEPCAYAAABGP2P1AAAABHNCSVQICAgIfAhkiAAAAAlwSFlz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\n",
      "text/plain": [
       "<matplotlib.figure.Figure at 0x1054ba0d0>"
      ]
     },
     "metadata": {},
     "output_type": "display_data"
    }
   ],
   "source": [
    "system.flow(64)\n",
    "print(system.tau_bits)\n",
    "hist_plot([abs(val) for (mat, val) in system.H])"
   ]
  },
  {
   "cell_type": "code",
   "execution_count": 246,
   "metadata": {
    "collapsed": true
   },
>>>>>>> FETCH_HEAD
   "outputs": [],
   "source": [
    "realization = 100\n",
    "alpha = 1.0\n",
    "N0 = 128\n",
    "steps = [0, 32, 32, 32, 16, 8, 4]\n",
    "data = {}\n",
    "N = N0\n",
    "for stp in steps:\n",
    "    N -= stp\n",
    "    data[N] = []\n",
    "for i in range(realization):\n",
    "    model = TFIsing(N0, J=1,K=0,h=1,alpha_J=alpha,alpha_K=alpha,alpha_h=alpha)\n",
    "    system = SBRG(model)\n",
    "    for stp in steps:\n",
    "        system.flow(stp)\n",
    "        data[system.tot_bits - system.tau_bits].extend([abs(val) for (mat, val) in system.H])\n",
    "export('RGflow_J1K0h1_a10_128', data)"
   ]
  },
  {
   "cell_type": "code",
   "execution_count": 428,
   "metadata": {
    "collapsed": true
   },
   "outputs": [],
   "source": [
    "realization = 100\n",
    "alpha = 1.0\n",
    "N0 = 256\n",
    "steps = [0, 64, 32, 32, 32, 32, 16, 16, 16, 8, 4]\n",
    "data = {}\n",
    "N = N0\n",
    "for stp in steps:\n",
    "    N -= stp\n",
    "    data[N] = []\n",
    "for i in range(realization):\n",
    "    model = TFIsing(N0, J=1,K=1,h=1,alpha_J=alpha,alpha_K=alpha,alpha_h=alpha)\n",
    "    system = SBRG(model)\n",
    "    for stp in steps:\n",
    "        system.flow(stp)\n",
    "        data[system.tot_bits - system.tau_bits].extend([abs(val) for (mat, val) in system.H])\n",
    "export('RGflow_J1K1h1_a10_256', data)"
   ]
  },
  {
   "cell_type": "code",
<<<<<<< HEAD
   "execution_count": 435,
=======
   "execution_count": 247,
>>>>>>> FETCH_HEAD
   "metadata": {
    "collapsed": false
   },
   "outputs": [
    {
     "data": {
<<<<<<< HEAD
      "image/png": "iVBORw0KGgoAAAANSUhEUgAAAY8AAAEPCAYAAAC6Kkg/AAAABHNCSVQICAgIfAhkiAAAAAlwSFlz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\nUmeGhySps/8HsVdcQoEPL/AAAAAASUVORK5CYII=\n",
      "text/plain": [
       "<matplotlib.figure.Figure at 0x1061764d0>"
=======
      "image/png": "iVBORw0KGgoAAAANSUhEUgAAAYIAAAEPCAYAAABP1MOPAAAABHNCSVQICAgIfAhkiAAAAAlwSFlz\nAAALEgAACxIB0t1+/AAAE4FJREFUeJzt3Xu0bWdd3vHvk5NAciIhtRgkBJogEkGR5hxu5TIIiDSl\nMahQFUEFWrWtF3RUEaGW03a0VDu4SDtkIEIGDCmWS1qCRuEE2GJVciFXcjFiOUq4JIiVXEjpSfLr\nH3NuzmZzLnPvtdac66z3+xljj72u7/ytd+81nzXfueZ8U1VIktp1zNQFSJKmZRBIUuMMAklqnEEg\nSY0zCCSpcQaBJDVuYUGQ5K1Jbkly7YbbvjHJ3iQ3JflgkpMXtXxJ0jCL3CI4Hzhn020vB/ZW1SOA\nD/XXJUkTyiIPKEtyOvD+qnp0f/1G4GlVdUuSbwbWqurbFlaAJOmIxt5H8MCquqW/fAvwwJGXL0na\nZLKdxdVtinh+C0ma2LEjL++WJN9cVZ9P8iDg1oM9KIkBIUnbUFXZ6nPGDoILgR8DfrX//T8P9cDt\nvJhVlGRPVe2Zuo5lYF8ccLT3Rfdhb9bPe6FrY0//s/Xnr9p6Zrsfohf59dF3An8CnJnk00leDPwn\n4LuT3AQ8o78uSZrQwrYIqur5h7jrmYtapiRp6zyyePmtTV3AElmbuoAlsjZ1Acvj7KkLOOot9DiC\n7UpSqzZ2J+mA+e4j2P7zV209s911p1sEktQ4g0CSGmcQSFLjDAJJapxBIEmNMwgkqXEGgSQ1ziCQ\npMYZBJLUOINAkhpnEEhS4wwCSWqcQSBJjTMIJKlxBoEkNc4gkKTGjT15vUa23cmsN1u1CTwkHWAQ\nNGEeM0FJWlUODUlS4wwCSWqcQSBJjTMIJKlxBoEkNc4gkKTGGQSS1DiDQJIaZxBIUuMMAklqnEEg\nSY0zCCSpcQaBJDXOIJCkxhkEktQ4g0CSGjdJECT55STXJbk2yX9Lct8p6pAkTRAESU4HfhzYVVWP\nBnYAPzR2HZKkzhRTVd4G7Ad2JrkH2Al8ZoI6JElMEARV9TdJXgP8FXAX8IGqunjz45J814yLuqSq\n7pixDUlaeaMHQZJvAX4OOB34EvDuJC+oqnd87SNP/b0Dl+93N9z/7uFLuXIn7N8NXDtrvdI8Jamp\nawCoqkxdg+b6//BvZ3nyFENDjwX+pKq+CJDkAuBJwKYg+MzGHchb3Jl8xm2wb4YSpUWa5b2fGZ+/\n3oaWx+x/z6raA5DkVdtpYYpvDd0IPDHJCUkCPBO4foI6JElMEARVdTXwduBy4Jr+5t8cuw5JUmeK\noSGq6teAX5ti2ZKkr+WRxZLUOINAkhpnEEhS4wwCSWqcQSBJjTMIJKlxBoEkNc4gkKTGGQSS1DiD\nQJIaZxBIUuMMAklqnEEgSY0zCCSpcQaBJDXOIJCkxhkEktQ4g0CSGjfJVJUjuSbJTA1U1WwNCIAk\nNY92Zvl7LEMNq2JefbkKVqUvVjkIgFn+Rs2/3+ds1vfLPP4ey1DDqrAvDzj61zMODUlS4wwCSWqc\nQSBJjTMIJKlxBoEkNc4gkKTGGQSS1DiDQJIaZxBIUuMMAklqnEEgSY0zCCSpcQaBJDXOIJCkxhkE\nktS4SYIgyclJ3pPkhiTXJ3niFHVIkqabmObXgYuq6nlJjgVOnKgOSWre6EGQ5P7AU6vqxwCq6m7g\nS2PXIUnqHHFoKMmj57zMM4AvJDk/yRVJ3pxk55yXIUkaaMg+gjcmuSzJv+w/zc/qWGAX8BtVtQu4\nE3j5HNqVJG3DEYeGquopSR4BvAS4IsmlwPlV9cFtLvNm4Oaquqy//h4OGgR7Nlw+u/9pS5JZZwhf\nKfaHtNkaAEn2zNJKqoa9t/qdut8LvIFuTP8Y4BVV9d4tLzT5KPDPquqm/gWcUFW/tOH+glne82fc\nBvtOmq2NUFWZoYGZzd4PAGEebczSF8vxOqbvB5hHX0z/Opbj7zmPNlbv75mktvOajrhFkOQxwIuA\nc4G9wLlVdUWSU4GPAVsOAuBngHckuQ/wF8CLt9GGJGkOhnxr6A3AW4BXVtWX12+sqs8m+dfbWWhV\nXQ08bjvPlSTN15Ag+MfAXVV1D0CSHcDxVXVnVb19odVJkhZuyLeGLgZO2HB9J90QkSRpBQwJguOr\n6o71K1V1O10YSJJWwJAguDPJ7vUrSR4L3LW4kiRJYxqyj+DngHcl+Vx//UHADy6uJEnSmIYcUHZZ\nkkcCZ9J94fXPqmr/wiuTJI1i6EnnHkt3jqBjgV1J8BtDkrQahhxQ9tvAw4CrgHs23GUQSNIKGLJF\nsBt4VA09F4Uk6agy5FtDn6DbQSxJWkFDtgi+Cbi+P+voV/rbqqrOW1xZkqSxDAmCPf3vojtV3vpl\nSdIKGPL10bUkpwMPr6qL+9nEpprrWJI0Z0OmqvwJ4N3Am/qbTgP+xyKLkiSNZ8jO4p8CngLcBlBV\nNwGnLLIoSdJ4hgTBV6pqfSfx+kxl7iOQpBUxJAj+MMkrgZ1JvptumOj9iy1LkjSWIUHwcuALwLXA\nTwIXAduamUyStHwGT14/Jiev7ytYoknCj/7JzqfvB1ieyc5nN/Xfcx5tzOvtPf3fc4zJ6z91kJur\nqh621YVJWhbLsAJdBssQqtMbcjzAxknmjweeB/zdxZQjSRrbtoaGklxRVbsWUM96+w4NsSxDKl0b\nDg11bazO0NDRXsM82lidGsYYGtrNgUqPoZubYMdWFyRJWk5DhoZew4EguBvYB/zAogqSJI1ryLmG\nzh6hDknSRIYMDf0rvn4Q66tnIa2q1869KknSaIbOUPY44EK6ADgXuAy4aYF1SZJGMiQIHgLsqqrb\nAZK8Crioql6w0MokSaMYcoqJU4D9G67vx7OPStLKGLJF8Hbg0iQX0A0NfS/wtoVWJUkazaADyvpj\nCZ7SX/1oVV250KI8oKyrYCkOxOra8ICyrg0PKFuWGubRxurUMOsBZUOGhgB2ArdX1a8DNyc5Y6sL\nkiQtpyFTVe4BXkZ3OmqA+wC/vcCaJEkjGrJF8H3Ac4A7AarqM8D9FlmUJGk8Q6eqvHf9SpITF1iP\nJGlkQ4Lg3UneBJyc5CeADwG/tdiyJEljOezXR5ME+O/AtwG3A48AfqWq9s664CQ7gMuBm6vqe2Zt\nT5K0PUOOI7ioqr4D+OCcl/1S4Hrc3yBJkzrs0FB1Bxl8PMnj57nQJKcBz6YbYlqNud4k6Sg1ZIvg\nicALk/wl/TeH6DLiO2dY7uuAXwROmqENSdIcHDIIkjy0qv4K+Id0h77N5ZN7knOBW6vqyiRnz6NN\nSdL2HW6L4H3AWVW1L8l7q+q5c1rmk4DzkjwbOB44Kcnbq+pHv/ZhezZcPrv/0VS6UyNIWi5rwFcP\n/N22Q55rKMmVVXXW5svzlORpwC9s/taQ5xrqK1iKc/TMo43VqcFzDS1LDfNoY3VqGOtcQ4vkJ01J\nmtDhtgjuAb7cXz0BuGvD3VVVC9vR6xZBX4FbBEtXg1sEy1LDPNpYnRpm3SI45D6CqtoxS2mSpKPD\nMgwNSZImZBBIUuMMAklqnEEgSY0zCCSpcQaBJDXOIJCkxhkEktQ4g0CSGmcQSFLjDAJJapxBIEmN\nMwgkqXEGgSQ1ziCQpMYZBJLUOINAkhp3yBnKJH29bqpJabUYBNKWzGOOW2m5ODQkSY0zCCSpcQaB\nJDXOIJCkxhkEktQ4g0CSGmcQSFLjDAJJapxBIEmNMwgkqXEGgSQ1ziCQpMYZBJLUOINAkhpnEEhS\n4wwCSWrc6EGQ5CFJPpLkuiSfSPKzY9cgSTpgihnK9gM/X1VXJfkG4ONJ9lbVDRPUIknNG32LoKo+\nX1VX9ZfvAG4ATh27DklSZ9J9BElOB84CLpmyDklq2WST1/fDQu8BXtpvGWyyZ8Pls/ufcSWZdaZy\nqsrZyiUtyBoASfbM0kqqZl7XbX2hyXHA7wK/X1WvP8j9BbPUdcZtsO+k2doIsz2/a2OWIJi9H7oa\npm/DGubXhjXMr43VqWF9PZOktrPOmeJbQwHeAlx/sBCQJI1rin0ETwZeCDw9yZX9zzkT1CFJYoJ9\nBFX1v/BANklaGq6QJalxBoEkNc4gkKTGGQSS1DiDQJIaZxBIUuMMAklqnEEgSY0zCCSpcQaBJDXO\nIJCkxhkEktQ4g0CSGmcQSFLjDAJJapxBIEmNMwgkqXGjz1DWmm4CeklaXgbBws2SA5lbFZJ0KA4N\nSVLjDAJJapxBIEmNMwgkqXEGgSQ1ziCQpMYZBJLUOINAkhpnEEhS4wwCSWqcQSBJjTMIJKlxBoEk\nNc4gkKTGGQSS1DiDQJIaN0kQJDknyY1J/jzJL01RgySpM3oQJNkB/FfgHOBRwPOTPHLsOo4ea1MX\nsETWpi5giaxNXcASWZu6gKPeFFsEjwc+WVX7qmo/8DvAcyao4yixNnUBS2Rt6gKWyNrUBSyRtakL\nOOpNEQQPBj694frN/W2SpAlMMXn9wNncn/Gl7S/iczu3/1xJakuqBq6X57XA5InAnqo6p7/+y8C9\nVfWrGx4zblGStCKqKlt9zhRBcCzwZ8B3AZ8FLgWeX1U3jFqIJAmYYGioqu5O8tPAB4AdwFsMAUma\nzuhbBJKk5TLpkcVDDixL8ob+/quTnDV2jWM5Ul8keUHfB9ck+eMk3zlFnWMYesBhkscluTvJ949Z\n35gGvkfOTnJlkk8kWRu5xNEMeI88IMkfJLmq74sXTVDmwiV5a5Jbklx7mMdsbb1ZVZP80A0LfRI4\nHTgOuAp45KbHPBu4qL/8BOBjU9W7BH3xD4D795fPabkvNjzuw8DvAs+duu4J/y9OBq4DTuuvP2Dq\nuifsiz3Aq9f7AfgicOzUtS+gL54KnAVce4j7t7zenHKLYMiBZecBbwOoqkuAk5M8cNwyR3HEvqiq\nP62q9a/UXgKcNnKNYxl6wOHPAO8BvjBmcSMb0hc/DLy3qm4GqKq/HrnGsQzpi88BJ/WXTwK+WFV3\nj1jjKKrqj4D/c5iHbHm9OWUQDDmw7GCPWcUV4FYPsvunwEULrWg6R+yLJA+mWwm8sb9pVXd0Dfm/\n+FbgG5N8JMnlSX5ktOrGNaQv3gx8e5LPAlcDLx2ptmWz5fXmFAeUrRv65t38ndhVfNMPfk1Jng68\nBHjy4sqZ1JC+eD3w8qqqJOHr/0dWxZC+OA7YRfd17J3Anyb5WFX9+UIrG9+QvngFcFVVnZ3kW4C9\nSR5TVbcvuLZltKX15pRB8BngIRuuP4QuuQ73mNP621bNkL6g30H8ZuCcqjrcpuHRbEhf7AZ+p8sA\nHgD8oyT7q+rCcUoczZC++DTw11V1F3BXko8CjwFWLQiG9MWTgP8AUFV/keRTwJnA5aNUuDy2vN6c\ncmjocuBbk5ye5D7ADwKb38gXAj8KXz0i+W+r6pZxyxzFEfsiyUOBC4AXVtUnJ6hxLEfsi6p6WFWd\nUVVn0O0n+BcrGAIw7D3yPuApSXYk2Um3c/D6kescw5C+uBF4JkA/Jn4m8L9HrXI5bHm9OdkWQR3i\nwLIkP9nf/6aquijJs5N8ErgTePFU9S7SkL4A/g3wd4A39p+E91fV46eqeVEG9kUTBr5HbkzyB8A1\nwL3Am6tq5YJg4P/FfwTOT3I13Yfcl1XV30xW9IIkeSfwNOABST4NvIpuiHDb600PKJOkxjlVpSQ1\nziCQpMYZBJLUOINAkhpnEEhS4wwCSWqcQaCjTpJ7+tMur/+8bOqaAJK8pD9N+NVJrk1y3jbbuWPe\ntUmH43EEOuokub2q7jfnNo+d5UyVSU4D1oCzqur2/ijfU6pq3zbamvvrkw7HLQKtjCT7kuxJ8vH+\nk/mZ/e0n9pN5XJLkivVP6klelOTCJB+iO0HZCUneleS6JBck+ViS3UlenOR1G5bz40leu2nxpwC3\n0x3JSVV9eT0Ekjw8ycX9hCkfT3JGX9PFG2o96NZDkl9Mcmm/lbFn3n0mgUGgo9MJm4aG/kl/ewFf\nqKrddKeo/oX+9lcCH6qqJwDPAP5z/4kdugk+nltVTwd+iu4c9t8O/Ardye0KeBfwPUl29M95EfCW\nTTVdBdwCfKoPnXM33PcO4L9U1d+nm2Do88D/Bb6vr/UZwGs2v8gkzwIe3p9K5Cxgd5Knbq2rpCOb\n8uyj0nbdVVWHmn7vgv73FcD6FJbPoluRrwfDfYGH0q3k91bV3/a3P5nuFNdU1XVJrukv35nkw30b\nNwLHVdV1GxdaVfcC5yR5HN0poV+XZDfwWuDUqnpf/7j/B5DkOODV/Yr9XuDUJKdU1a0bmn0W8Kwk\nV/bXTwQeDvzRsG6ShjEItGq+0v++h6/9//7+zefoT/IE+qGcjTcfot3fotuyuAF466EWXlWXAZcl\n2Qucz0E+6fdeQHcK7V1VdU9/yuTjD/K4V1fVbx5qedI8ODSkFnwA+Nn1Kzkwmffmlf4fAz/QP+ZR\nwKPX76iqS+nO6/7DwDs3LyDJg5Ls2nDTWcC+qroDuDnJc/rH3TfJCXRTKd7ah8DTgb93iLpfkuTE\n/rkPTvJNw1+2NIxbBDoanbBhuATg96vqFZseUxyYlenfA6/vh3qOoTtH/XmbHgPwG8DbklxHd277\n64Avbbj/XcBjNswdvdFxdPseTqUb/78V+Of9fT8CvCnJvwP2A8+j22/w/r6my+m2NDbWTlXtTfJI\nulnHoNsZ/UJWe55mTcCvj0q9JMfQjf9/Jf1Uh8Aj1r9WmuT9wGur6iNT1inNm1sE0gEnAh/ud+SG\nbuazu5OcDFxCNx+uIaCV4xaBJDXOncWS1DiDQJIaZxBIUuMMAklqnEEgSY0zCCSpcf8f1BkQD0GS\nfoEAAAAASUVORK5CYII=\n",
      "text/plain": [
       "<matplotlib.figure.Figure at 0x105dbe950>"
>>>>>>> FETCH_HEAD
      ]
     },
     "metadata": {},
     "output_type": "display_data"
    }
   ],
   "source": [
    "hist_plot(data[192])"
   ]
  },
  {
   "cell_type": "markdown",
   "metadata": {},
   "source": [
<<<<<<< HEAD
    "###E-Tensor Distribution\n",
    "\n",
    "**MAKE SURE**: Data collected with back correction turned off."
=======
    "Distribution of $E_{ij}$ (2nd order):"
   ]
  },
  {
   "cell_type": "code",
   "execution_count": 134,
   "metadata": {
    "collapsed": false
   },
   "outputs": [
    {
     "name": "stdout",
     "output_type": "stream",
     "text": [
      "hist_plot: input has only one data point.\n"
     ]
    }
   ],
   "source": [
    "hist_plot([abs(val) for [mat, val] in system.Heff if len(mat) == 2])"
   ]
  },
  {
   "cell_type": "markdown",
   "metadata": {},
   "source": [
    "Distribution of $E_{ijk}$ (3rd order):"
>>>>>>> FETCH_HEAD
   ]
  },
  {
   "cell_type": "code",
<<<<<<< HEAD
   "execution_count": 357,
   "metadata": {
    "collapsed": false
   },
   "outputs": [],
   "source": [
=======
   "execution_count": 135,
   "metadata": {
    "collapsed": false
   },
   "outputs": [
    {
     "name": "stdout",
     "output_type": "stream",
     "text": [
      "hist_plot: input has only one data point.\n"
     ]
    }
   ],
   "source": [
    "hist_plot([abs(val) for [mat, val] in system.Heff if len(mat) == 3])"
   ]
  },
  {
   "cell_type": "markdown",
   "metadata": {},
   "source": [
    "Distribution of $E_{ijkl}$ (4th order):"
   ]
  },
  {
   "cell_type": "code",
   "execution_count": 125,
   "metadata": {
    "collapsed": false
   },
   "outputs": [
    {
     "data": {
      "image/png": "iVBORw0KGgoAAAANSUhEUgAAAYYAAAEPCAYAAABGP2P1AAAABHNCSVQICAgIfAhkiAAAAAlwSFlz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\nP1qTxZovWLyFAAAAAElFTkSuQmCC\n",
      "text/plain": [
       "<matplotlib.figure.Figure at 0x105db0710>"
      ]
     },
     "metadata": {},
     "output_type": "display_data"
    }
   ],
   "source": [
    "hist_plot([abs(val) for [mat, val] in system.Heff if len(mat) == 4])"
   ]
  },
  {
   "cell_type": "markdown",
   "metadata": {},
   "source": [
    "###E-Tensor Distribution\n",
    "\n",
    "**MAKE SURE**: Data collected with back correction turned off."
   ]
  },
  {
   "cell_type": "code",
   "execution_count": 344,
   "metadata": {
    "collapsed": false
   },
   "outputs": [],
   "source": [
>>>>>>> FETCH_HEAD
    "alpha = 1.0\n",
    "realization = 200\n",
    "ns = list(range(1,11))\n",
    "data = {n: [] for n in ns}\n",
    "for i in range(realization):\n",
<<<<<<< HEAD
    "    model = TFIsing(128, J=0,K=1,h=1,alpha_J=alpha,alpha_K=alpha,alpha_h=alpha)\n",
    "    system = SBRG(model)\n",
    "    system.max_rate = 3.\n",
    "    system.flow()\n",
    "    for n in ns:\n",
    "        data[n].extend([abs(val) for [mat, val] in system.Heff if len(mat) == n])\n",
    "#export('Estat_J0K1h1_a10_on', data)"
=======
    "    model = TFIsing(128, J=1,K=0,h=1,alpha_J=alpha,alpha_K=alpha,alpha_h=alpha)\n",
    "    system = SBRG(model)\n",
    "    system.flow()\n",
    "    for n in ns:\n",
    "        data[n].extend([abs(val) for [mat, val] in system.Heff if len(mat) == n])\n",
    "export('Estat_J1K0h1_a10_off', data)"
>>>>>>> FETCH_HEAD
   ]
  },
  {
   "cell_type": "code",
<<<<<<< HEAD
   "execution_count": 362,
=======
   "execution_count": 345,
>>>>>>> FETCH_HEAD
   "metadata": {
    "collapsed": false
   },
   "outputs": [
    {
     "data": {
<<<<<<< HEAD
      "image/png": "iVBORw0KGgoAAAANSUhEUgAAAY4AAAEPCAYAAABV6CMBAAAABHNCSVQICAgIfAhkiAAAAAlwSFlz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\nUnjp4QAAAABJRU5ErkJggg==\n",
      "text/plain": [
       "<matplotlib.figure.Figure at 0x105470e50>"
=======
      "image/png": "iVBORw0KGgoAAAANSUhEUgAAAY4AAAEPCAYAAABV6CMBAAAABHNCSVQICAgIfAhkiAAAAAlwSFlz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\n",
      "text/plain": [
       "<matplotlib.figure.Figure at 0x105a6ba50>"
>>>>>>> FETCH_HEAD
      ]
     },
     "metadata": {},
     "output_type": "display_data"
    }
   ],
   "source": [
    "hist_plot(data[1])"
   ]
  },
  {
   "cell_type": "code",
   "execution_count": null,
   "metadata": {
    "collapsed": true
   },
   "outputs": [],
   "source": []
  }
 ],
 "metadata": {
  "kernelspec": {
   "display_name": "Python 3",
   "language": "python",
   "name": "python3"
  },
  "language_info": {
   "codemirror_mode": {
    "name": "ipython",
    "version": 3
   },
   "file_extension": ".py",
   "mimetype": "text/x-python",
   "name": "python",
   "nbconvert_exporter": "python",
   "pygments_lexer": "ipython3",
   "version": "3.3.0"
  }
 },
 "nbformat": 4,
 "nbformat_minor": 0
}
