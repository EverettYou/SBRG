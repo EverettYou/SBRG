{
 "cells": [
  {
   "cell_type": "markdown",
   "metadata": {},
   "source": [
    "Initialization:"
   ]
  },
  {
   "cell_type": "code",
   "execution_count": 4,
   "metadata": {
    "collapsed": false
   },
   "outputs": [],
   "source": [
    "%reload_ext snakeviz\n",
    "%matplotlib inline\n",
    "%run SBRG.py"
   ]
  },
  {
   "cell_type": "markdown",
   "metadata": {},
   "source": [
    "#Core Code"
   ]
  },
  {
   "cell_type": "markdown",
   "metadata": {},
   "source": [
    "## Pauli Algebra\n",
    "- Each Pauli monomial (call a `term`) is represented as a list like `[mat, val]`, where\n",
    "  - `mat` is a dict recording the Pauli matrix indices in the sparse form, as `{3: 1, 5: 2, ..}` \n",
    "  - `val` is a **real** number recording the coefficient of that term.\n",
    "     - We will only deal with real coefficient now!\n",
    "- Each Pauli polynomial is represented as a list of Pauli monomials."
   ]
  },
  {
   "cell_type": "markdown",
   "metadata": {},
   "source": [
    "###Dot Product\n",
    "- Single-bit dot product rule is stored in a dict `DOT_RULES`, each entry is  like `(i,j): (k,n)` formulating $\\sigma^i\\sigma^j=\\text{i}^n\\sigma^k$ (where $n=0,\\pm1$ is the power of $\\text{i}$).\n",
    "- Multi-bit dot product is carried out by mapping the `DOT_RULES` to the pair of Pauli indices, and collect the resulting indices and powers. The posers are sum together to obtain the finnal power.\n",
    "- `dot(term1, term2, n0 = 0)` dot product of two terms. The optional `n0` gives the addtional powers of $\\text{i}$ to be timed, the result will be: $$\\text{i}^{n_0}h_{[\\mu]_1}h_{[\\mu]_2}\\sigma^{[\\mu]_1}\\sigma^{[\\mu]_2}$$\n",
    "   - subroutine `merge(mat1_get, mat2_get, mat1_keys, mat2_keys)` merges two dicts `mat1` and `mat2` (providing the get method and the keys), missing keys are treated by 0 value. This creates a list of non-trivial pair of Pauli indices `merged = [[i, mu1, mu2], ...]` where `i` index the qubit position and `mu1`, `mu2` are Pauli indices to be dotted.\n",
    "   - subroutine `dotover(merged)` transform every element `[i, mu1, mu2]` in `merged` to `[i, mu, n]` by applying the DOT_RULES\n",
    "   - `powofi(merged, n0)` calculate the power of $\\text{i}$ (mod 4) from the dotted `merged` given the shift of `n0`.\n",
    "   - `newmat(merged)` construct new matrix dict from the dotted `merged`."
   ]
  },
  {
   "cell_type": "code",
   "execution_count": 2,
   "metadata": {
    "collapsed": false
   },
   "outputs": [
    {
     "data": {
      "text/plain": [
       "[{0: 3, 1: 3, 2: 3, 3: 3}, 0.001959416187641243]"
      ]
     },
     "execution_count": 2,
     "metadata": {},
     "output_type": "execute_result"
    }
   ],
   "source": [
    "a1 = [{0: 2, 1: 2, 2: 3}, 0.06389459153589115]\n",
    "a2 = [{0: 1, 1: 1, 3: 3}, -0.030666385691511793]\n",
    "dot(a1, a2)"
   ]
  },
  {
   "cell_type": "markdown",
   "metadata": {},
   "source": [
    "###Find Rotation to Diagonalize Pauli Matrix\n",
    "**Goal**: rotate $\\sigma^{[0|3..][\\mu]}$ to the block diagonal form $\\sigma^{[0..]3[0..]}$ with 3 at the intent position, and the transformation must respect all the $\\sigma^3$ symmetries before the intent position.\n",
    "\n",
    "**Algorithm**:\n",
    "- If $[\\mu]$ contains 1|2 (once the first 1|2 found, break): rotate that bit to 3 while eliminating other bits to 0 by `C4`, and move 3 to the the intent position by `SWAP` if necessary.\n",
    "- Elseif $[\\mu]$ has no 1|2 but 3 exist:\n",
    "  - If there are multiple 3's (*for the whole indices*): need two `C4` rotations\n",
    "    - If there is a 3 at the intent position: do the double-`C4` at that position, and no `SWAP` needed.\n",
    "    - Elseif the intent position is 0: do the double-`C4` at the position of the last 3, followed by `SWAP`.\n",
    "  - Elseif there is only one 3: just do a `SWAP` (if 3 sits at intent position, no transformation needed).\n",
    "- Else $[\\mu]$ is $[0..]$: no transform needed (but such matrixes should have already been ascribed to the conserved quantity and should not appear)."
   ]
  },
  {
   "cell_type": "code",
   "execution_count": 3,
   "metadata": {
    "collapsed": false
   },
   "outputs": [
    {
     "data": {
      "text/plain": [
       "[['C4', [{0: 2, 5: 3}, -1.0]]]"
      ]
     },
     "execution_count": 3,
     "metadata": {},
     "output_type": "execute_result"
    }
   ],
   "source": [
    "find_rotation({0: 1, 5: 3}, 0)"
   ]
  },
  {
   "cell_type": "markdown",
   "metadata": {},
   "source": [
    "The result of `find_rotation` is a list of unitary transformations: each element is of the following form:\n",
    "- `['C4',[{...},z]]`: C4 rotation with C4 generator.\n",
    "- `['SWAP',[i, j]]`: SWAP operation btw i & j bit.\n",
    "\n",
    "The unitary transformations are implemented by\n",
    "- `unitary_fd(Us, H)`: forward transfrom from boundary to bulk,\n",
    "- `unitary_bk(Us, H)`: backward transform from bulk to boundary (`Us` still given by the forward order),\n",
    "where `Us` is a list of transformations (action implemented in sequencial order), and `H` is the Pauli polynomial (or a list of Pauli monomials) to be acted."
   ]
  },
  {
   "cell_type": "code",
   "execution_count": 4,
   "metadata": {
    "collapsed": false
   },
   "outputs": [
    {
     "name": "stdout",
     "output_type": "stream",
     "text": [
      "[['C4', [{0: 2, 5: 3, 7: 3}, 1.0]], ['C4', [{0: 2}, -1]]]\n"
     ]
    },
    {
     "data": {
      "text/plain": [
       "[[{0: 3}, 1.0], [{0: 3, 5: 1, 7: 2}, 1.0]]"
      ]
     },
     "execution_count": 4,
     "metadata": {},
     "output_type": "execute_result"
    }
   ],
   "source": [
    "H = [[{0: 3, 5: 3, 7: 3}, 1], [{0: 3, 5: 2, 7: 1}, 1]]\n",
    "Us = find_rotation(H[0][0],0)\n",
    "print(Us)\n",
    "unitary_fd(Us,H)\n",
    "H"
   ]
  },
  {
   "cell_type": "code",
   "execution_count": 5,
   "metadata": {
    "collapsed": false
   },
   "outputs": [
    {
     "data": {
      "text/plain": [
       "[[{0: 3, 5: 3, 7: 3}, 1.0], [{0: 3, 5: 2, 7: 1}, 1.0]]"
      ]
     },
     "execution_count": 5,
     "metadata": {},
     "output_type": "execute_result"
    }
   ],
   "source": [
    "unitary_bk(Us, H)\n",
    "H"
   ]
  },
  {
   "cell_type": "markdown",
   "metadata": {},
   "source": [
    "###Compute and Control 2nd Order Perturbation\n",
    "Given the off-diagonal terms $\\Sigma_0=\\sum_{[\\mu]}h_{[\\mu]}\\sigma^{[\\mu]}$ and $H_0=h_0\\sigma^{3[0..]}$, the 2nd order perturbation is then given by:\n",
    "$$\\begin{split}\n",
    "H_2 &= \\frac{1}{2h_0^2} H_0\\Sigma_0^2 = \\frac{1}{2h_0} \\sigma^{3[0..]}\\Sigma_0^2\\\\\n",
    "&=\\Big(\\frac{1}{2h_0}\\sum_{[\\mu]}h_{[\\mu]}^2\\Big)\\sigma^{3[0..]}+ \\sum_{[\\mu]_1<[\\mu]_2}\\frac{h_{[\\mu]_1}h_{[\\mu]_2}}{h_0}\\;\\sigma^{3[0..]}\\,\\Re[\\sigma^{[\\mu]_1}\\sigma^{[\\mu]_2}].\n",
    "\\end{split}$$\n",
    "- the first term is a backward correction to the leading energy scale,\n",
    "- the second term generates new terms and should be controlled,\n",
    "- $\\Re$ of Pauli matrices is non-vanishing only of the matrices commute.\n",
    "\n",
    "The growth the Hamiltonian is controlled by:\n",
    "- energy scale truncation `min_scale`: terms with energy scale less then `min_scale` will be neglected,\n",
    "- term number truncation `max_rate`: the perturbed H contains at most `max_rate`$\\times$ number of $H_\\text{offdiag}$ terms."
   ]
  },
  {
   "cell_type": "markdown",
   "metadata": {},
   "source": [
    "##Spectrum Bifurcation RG\n",
    "Generic Hamiltonian: qubit models\n",
    "$$H=\\sum_{[\\mu]}h_{[\\mu]}\\sigma^{[\\mu]},$$\n",
    "where $\\sigma^{[\\mu]}=\\sigma^{\\mu_1}\\otimes\\sigma^{\\mu_2}\\otimes\\sigma^{\\mu_3}\\otimes\\cdots$ denotes the product of Pauli matrices (quantum gates). The key assumption is $h_{[\\mu]}$ should be sufficiently random."
   ]
  },
  {
   "cell_type": "markdown",
   "metadata": {},
   "source": [
    "###RG Kernel\n",
    "**Algorithm**:\n",
    "- Find leading energy scale\n",
    "- Find Clifford algebra rotation $R$ that\n",
    "  - diagonalize the leading energy scale\n",
    "  - at the same time transform the other terms in the Hamiltonian (note that the term ordering is lost in this step)\n",
    "- Gather diagonal and off-diagonal terms\n",
    "    $$H = H_0 + \\Delta_0 + \\Sigma_0$$\n",
    "   where $H_0^2 = h_0^2$, $H_0\\Delta_0 = \\Delta_0H_0$, $H_0\\Sigma_0 = -\\Sigma_0H_0$.\n",
    "  - diagonal terms goes to new Hamiltonian\n",
    "  - off-diagonal terms renormalized by 2nd order perturbation, which generates effective terms in the diagonal blocks.[1]\n",
    "    $$H = H_0 + \\Delta_0 + \\frac{1}{2h_0^2} H_0\\Sigma_0^2.$$\n",
    "    The perturbation can be carried out by the unitary transform\n",
    "    $$U = \\exp\\left(-\\frac{1}{2h_0^2}H_0\\Sigma_0\\right).$$"
   ]
  },
  {
   "cell_type": "markdown",
   "metadata": {},
   "source": [
    "###Build Circuit\n",
    "- Clifford gates are collected in forward order along the RG flow. As the flow finishes, `self.gates` will hold the Clifford gates $R = R_\\text{C4}R_\\text{SWAP}R_\\text{C4}R_\\text{C4}R_\\text{SWAP}R_\\text{SWAP}\\cdots$\n",
    "- To build the circuit,\n",
    "  - first move all the SWAP gates to the end by commuting over the C4 gates.\n",
    "    $$ \\text{physical} \\xrightarrow{C_4} \\text{emergent (ordered by realspace location)} \\xrightarrow{SWAP} \\text{emergent (ordered by energy scale)}$$\n",
    "  - then absorb SWAP gates to Heff by backward action. (In this way, the locality is mostly preserved.)\n",
    "  \n",
    "**Algorithm**: reorder Heff mat inds\n",
    "- starting from a ordered list of inds: `blk = [0,1,2...]` the elements labels the qubit positions of energy-scale-ordered Hilbert space. \n",
    "- apply SWAP in backward order to the list, permutes the energy-scale labels to the real-space positions.\n",
    "- so the mat ind of Heff must be brought back to real-sapce by the value-to-index mapping of `blk`."
   ]
  },
  {
   "cell_type": "markdown",
   "metadata": {},
   "source": [
    "###Test"
   ]
  },
  {
   "cell_type": "code",
   "execution_count": 6,
   "metadata": {
    "collapsed": false
   },
   "outputs": [],
   "source": [
    "model = TFIsing(4, J=1,K=0,h=1,alpha_J=1.,alpha_K=1.,alpha_h=1.)"
   ]
  },
  {
   "cell_type": "code",
   "execution_count": 72,
   "metadata": {
    "collapsed": false
   },
   "outputs": [
    {
     "data": {
      "text/plain": [
       "764"
      ]
     },
     "execution_count": 72,
     "metadata": {},
     "output_type": "execute_result"
    }
   ],
   "source": [
    "%run SBRG.py\n",
    "system = SBRG(model)\n",
    "system.max_rate = 0.5\n",
    "system.flow()\n",
    "len(system.trash)"
   ]
  },
  {
   "cell_type": "markdown",
   "metadata": {},
   "source": [
    "Profiling:"
   ]
  },
  {
   "cell_type": "code",
   "execution_count": 12,
   "metadata": {
    "collapsed": false
   },
   "outputs": [
    {
     "name": "stdout",
     "output_type": "stream",
     "text": [
      " \n",
      "*** Profile stats marshalled to file '/var/folders/tl/lwpcq5qj049ftcj7pvhkzv_h0000gn/T/tmp3483ly'. \n"
     ]
    }
   ],
   "source": [
    "system = SBRG(model)\n",
    "% snakeviz system.flow()"
   ]
  },
  {
   "cell_type": "markdown",
   "metadata": {},
   "source": [
    "Benchmark with Mathematica:"
   ]
  },
  {
   "cell_type": "code",
   "execution_count": 7,
   "metadata": {
    "collapsed": false
   },
   "outputs": [
    {
     "data": {
      "text/plain": [
       "[]"
      ]
     },
     "execution_count": 7,
     "metadata": {},
     "output_type": "execute_result"
    }
   ],
   "source": [
    "model = TFIsing(16, J=1,K=1,h=1,alpha_J=0.2,alpha_K=0.2,alpha_h=0.2)\n",
    "export('model', model)\n",
    "system = SBRG(model)\n",
    "system.tol = 1.e-8\n",
    "system.max_rate = 2.\n",
    "system.recover = False\n",
    "system.flow()\n",
    "export('Heff',system.Heff)\n",
    "system.trash"
   ]
  },
  {
   "cell_type": "markdown",
   "metadata": {},
   "source": [
    "##Model Hamiltonians\n",
    "###Transverse Field Ising with Interaction\n",
    "For random $J_i$, $K_i$, $h_i$ drawn from a beta distribution,\n",
    "$$H=-\\sum_{i}J_i \\sigma_i^x\\sigma_{i+1}^x+K_i \\sigma_i^z\\sigma_{i+1}^z+h_i \\sigma_i^z.$$"
   ]
  },
  {
   "cell_type": "markdown",
   "metadata": {},
   "source": [
    "#Physics\n",
    "##Level Statistics\n",
    "###Flow of Energy Scale Distribution"
   ]
  },
  {
   "cell_type": "code",
   "execution_count": 407,
   "metadata": {
    "collapsed": false
   },
   "outputs": [],
   "source": [
    "realization = 100\n",
    "alpha = 1.0\n",
    "N0 = 128\n",
    "steps = [0, 32, 32, 32, 16, 8, 4]\n",
    "data = {}\n",
    "N = N0\n",
    "for stp in steps:\n",
    "    N -= stp\n",
    "    data[N] = []\n",
    "for i in range(realization):\n",
    "    model = TFIsing(N0, J=1,K=0,h=1,alpha_J=alpha,alpha_K=alpha,alpha_h=alpha)\n",
    "    system = SBRG(model)\n",
    "    for stp in steps:\n",
    "        system.flow(stp)\n",
    "        data[system.tot_bits - system.tau_bits].extend([abs(val) for (mat, val) in system.H])\n",
    "export('RGflow_J1K0h1_a10_128', data)"
   ]
  },
  {
   "cell_type": "code",
   "execution_count": 428,
   "metadata": {
    "collapsed": true
   },
   "outputs": [],
   "source": [
    "realization = 100\n",
    "alpha = 1.0\n",
    "N0 = 256\n",
    "steps = [0, 64, 32, 32, 32, 32, 16, 16, 16, 8, 4]\n",
    "data = {}\n",
    "N = N0\n",
    "for stp in steps:\n",
    "    N -= stp\n",
    "    data[N] = []\n",
    "for i in range(realization):\n",
    "    model = TFIsing(N0, J=1,K=1,h=1,alpha_J=alpha,alpha_K=alpha,alpha_h=alpha)\n",
    "    system = SBRG(model)\n",
    "    for stp in steps:\n",
    "        system.flow(stp)\n",
    "        data[system.tot_bits - system.tau_bits].extend([abs(val) for (mat, val) in system.H])\n",
    "export('RGflow_J1K1h1_a10_256', data)"
   ]
  },
  {
   "cell_type": "code",
   "execution_count": 435,
   "metadata": {
    "collapsed": false
   },
   "outputs": [
    {
     "data": {
      "image/png": "[encoded data removed]",
      "text/plain": [
       "<matplotlib.figure.Figure at 0x1061764d0>"
      ]
     },
     "metadata": {},
     "output_type": "display_data"
    }
   ],
   "source": [
    "hist_plot(data[192])"
   ]
  },
  {
   "cell_type": "markdown",
   "metadata": {},
   "source": [
    "###E-Tensor Distribution\n",
    "\n",
    "**MAKE SURE**: Data collected with back correction turned off."
   ]
  },
  {
   "cell_type": "code",
   "execution_count": 357,
   "metadata": {
    "collapsed": false
   },
   "outputs": [],
   "source": [
    "alpha = 1.0\n",
    "realization = 200\n",
    "ns = list(range(1,11))\n",
    "data = {n: [] for n in ns}\n",
    "for i in range(realization):\n",
    "    model = TFIsing(128, J=0,K=1,h=1,alpha_J=alpha,alpha_K=alpha,alpha_h=alpha)\n",
    "    system = SBRG(model)\n",
    "    system.max_rate = 3.\n",
    "    system.flow()\n",
    "    for n in ns:\n",
    "        data[n].extend([abs(val) for [mat, val] in system.Heff if len(mat) == n])\n",
    "#export('Estat_J0K1h1_a10_on', data)"
   ]
  },
  {
   "cell_type": "code",
   "execution_count": 362,
   "metadata": {
    "collapsed": false
   },
   "outputs": [
    {
     "data": {
      "image/png": "[encoded data removed]",
      "text/plain": [
       "<matplotlib.figure.Figure at 0x105470e50>"
      ]
     },
     "metadata": {},
     "output_type": "display_data"
    }
   ],
   "source": [
    "hist_plot(data[1])"
   ]
  },
  {
   "cell_type": "markdown",
   "metadata": {},
   "source": [
    "###Conserved Quantity\n",
    "Reconstruct emergent conserved quantities in terms of the original qubits."
   ]
  },
  {
   "cell_type": "code",
   "execution_count": 200,
   "metadata": {
    "collapsed": false
   },
   "outputs": [
    {
     "data": {
      "text/plain": [
       "[[{1: 1, 2: 1}, 0.9893477018529714],\n",
       " [{0: 1, 7: 1}, 0.9765818944947422],\n",
       " [{2: 1, 3: 1}, 0.9362473961730203],\n",
       " [{0: 1, 1: 1}, 0.819643519828954],\n",
       " [{6: 1, 7: 1}, 0.814223205952669],\n",
       " [{4: 1, 5: 1}, 0.6193696176364678],\n",
       " [{3: 1, 4: 1}, 0.6055116251502947],\n",
       " [{0: 3, 1: 3, 2: 3, 3: 3, 4: 3, 5: 2, 6: 2, 7: 3}, -0.0]]"
      ]
     },
     "execution_count": 200,
     "metadata": {},
     "output_type": "execute_result"
    }
   ],
   "source": [
    "system.taus"
   ]
  },
  {
   "cell_type": "markdown",
   "metadata": {},
   "source": [
    "Export data of conserved quantity"
   ]
  },
  {
   "cell_type": "code",
   "execution_count": 199,
   "metadata": {
    "collapsed": false
   },
   "outputs": [
    {
     "data": {
      "text/plain": [
       "0"
      ]
     },
     "execution_count": 199,
     "metadata": {},
     "output_type": "execute_result"
    }
   ],
   "source": [
    "alpha = 1.\n",
    "model = TFIsing(8, J=1.,K=0.,h=0.01,alpha_J=alpha,alpha_K=alpha,alpha_h=alpha)\n",
    "system = SBRG(model)\n",
    "system.max_rate = 2.\n",
    "system.flow()\n",
    "#export('system_test', system)\n",
    "len(system.trash)"
   ]
  },
  {
   "cell_type": "markdown",
   "metadata": {},
   "source": [
    "###Stablizer State and Entanglement Entropy\n",
    "**Push Gates:**\n",
    "The circuit is a unitary transformation $U=R_1R_2R_3\\cdots$. To push $R_2$ over $R_3$ corresponds to $R_3 \\to R_2 R_3 R_2^\\dagger$, so it is a *backward* unitary transform by $R_2$ on $R_3$."
   ]
  },
  {
   "cell_type": "code",
   "execution_count": 5,
   "metadata": {
    "collapsed": true
   },
   "outputs": [],
   "source": [
    "model = TFIsing(8, J=1.,K=0.5,h=0.0,alpha_J=1.,alpha_K=1.,alpha_h=1.)\n",
    "system = SBRG(model).flow()\n",
    "export('system_test', system)"
   ]
  },
  {
   "cell_type": "code",
   "execution_count": 11,
   "metadata": {
    "collapsed": false
   },
   "outputs": [
    {
     "data": {
      "text/plain": [
       "1.0"
      ]
     },
     "execution_count": 11,
     "metadata": {},
     "output_type": "execute_result"
    }
   ],
   "source": [
    "system.entropy([3,4])"
   ]
  },
  {
   "cell_type": "code",
   "execution_count": 7,
   "metadata": {
    "collapsed": false
   },
   "outputs": [
    {
     "data": {
      "text/plain": [
       "[[{6: 1, 7: 1}, 0.9267800320583462],\n",
       " [{5: 1, 6: 1}, 0.8705916569585502],\n",
       " [{0: 1, 1: 1}, 0.8269787726190353],\n",
       " [{0: 1, 7: 1}, 0.6695208160712739],\n",
       " [{4: 1, 5: 1}, 0.6356709745095795],\n",
       " [{2: 1, 3: 1}, 0.3064095387647209],\n",
       " [{1: 1, 2: 1}, 0.3930882550300293],\n",
       " [{0: 2, 1: 2, 2: 2, 3: 3, 4: 3, 5: 2, 6: 2, 7: 2}, -0.017668802970686424]]"
      ]
     },
     "execution_count": 7,
     "metadata": {},
     "output_type": "execute_result"
    }
   ],
   "source": [
    "system.taus"
   ]
  },
  {
   "cell_type": "code",
   "execution_count": null,
   "metadata": {
    "collapsed": true
   },
   "outputs": [],
   "source": []
  }
 ],
 "metadata": {
  "kernelspec": {
   "display_name": "Python 3",
   "language": "python",
   "name": "python3"
  },
  "language_info": {
   "codemirror_mode": {
    "name": "ipython",
    "version": 3
   },
   "file_extension": ".py",
   "mimetype": "text/x-python",
   "name": "python",
   "nbconvert_exporter": "python",
   "pygments_lexer": "ipython3",
   "version": "3.3.0"
  }
 },
 "nbformat": 4,
 "nbformat_minor": 0
}
