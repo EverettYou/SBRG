{
 "cells": [
  {
   "cell_type": "markdown",
   "metadata": {},
   "source": [
    "Initialization:"
   ]
  },
  {
   "cell_type": "code",
   "execution_count": 149,
   "metadata": {
    "collapsed": false
   },
   "outputs": [],
   "source": [
    "%reload_ext snakeviz\n",
    "%matplotlib inline\n",
    "%run SBRG.py"
   ]
  },
  {
   "cell_type": "markdown",
   "metadata": {},
   "source": [
    "#Core Code"
   ]
  },
  {
   "cell_type": "markdown",
   "metadata": {},
   "source": [
    "## Pauli Algebra\n",
    "- Each Pauli monomial (call a `term`) is represented as a list like `[mat, val]`, where\n",
    "  - `mat` is a dict recording the Pauli matrix indices in the sparse form, as `{3: 1, 5: 2, ..}` \n",
    "  - `val` is a **real** number recording the coefficient of that term.\n",
    "     - We will only deal with real coefficient now! Because Hamiltonian is Hermitian, and the unitary gates can be represented by their generators which are also Hermitian.\n",
    "- Each Pauli polynomial is stored as a list of Pauli monomials."
   ]
  },
  {
   "cell_type": "markdown",
   "metadata": {},
   "source": [
    "###Dot Product\n",
    "- Single-bit dot product rule is stored in a dict `DOT_RULES`, each entry is  like `(i,j): (k,n)` formulating $\\sigma^i\\sigma^j=\\text{i}^n\\sigma^k$ (where $n=0,\\pm1$ is the power of $\\text{i}$).\n",
    "- Multi-bit dot product is carried out by mapping the `DOT_RULES` to the pair of Pauli indices, and collect the resulting indices and powers. The posers are sum together to obtain the finnal power.\n",
    "- `dot(term1, term2, n0 = 0)` dot product of two terms. The optional `n0` gives the addtional powers of $\\text{i}$ to be timed, the result will be: $$\\text{i}^{n_0}h_{[\\mu]_1}h_{[\\mu]_2}\\sigma^{[\\mu]_1}\\sigma^{[\\mu]_2}$$\n",
    "   - subroutine `merge(mat1_get, mat2_get, mat1_keys, mat2_keys)` merges two dicts `mat1` and `mat2` (providing the get method and the keys), missing keys are treated by 0 value. This creates a list of non-trivial pair of Pauli indices `merged = [[i, mu1, mu2], ...]` where `i` index the qubit position and `mu1`, `mu2` are Pauli indices to be dotted.\n",
    "   - subroutine `dotover(merged)` transform every element `[i, mu1, mu2]` in `merged` to `[i, mu, n]` by applying the DOT_RULES\n",
    "   - `powofi(merged, n0)` calculate the power of $\\text{i}$ (mod 4) from the dotted `merged` given the shift of `n0`.\n",
    "   - `newmat(merged)` construct new matrix dict from the dotted `merged`."
   ]
  },
  {
   "cell_type": "code",
   "execution_count": 2,
   "metadata": {
    "collapsed": false
   },
   "outputs": [
    {
     "data": {
      "text/plain": [
       "[{0: 3, 1: 3, 2: 3, 3: 3}, 0.001959416187641243]"
      ]
     },
     "execution_count": 2,
     "metadata": {},
     "output_type": "execute_result"
    }
   ],
   "source": [
    "a1 = [{0: 2, 1: 2, 2: 3}, 0.06389459153589115]\n",
    "a2 = [{0: 1, 1: 1, 3: 3}, -0.030666385691511793]\n",
    "dot(a1, a2)"
   ]
  },
  {
   "cell_type": "markdown",
   "metadata": {},
   "source": [
    "###Find Rotation to Diagonalize Pauli Matrix\n",
    "**Goal**: rotate $\\sigma^{[0|3..][\\mu]}$ to the block diagonal form $\\sigma^{[0..]3[0..]}$ with 3 at the intent position, and the transformation must respect all the $\\sigma^3$ symmetries before the intent position.\n",
    "\n",
    "**Algorithm**:\n",
    "- If $[\\mu]$ contains 1|2 (once the first 1|2 found, break): rotate that bit to 3 while eliminating other bits to 0 by `C4`, and move 3 to the the intent position by `SWAP` if necessary.\n",
    "- Elseif $[\\mu]$ has no 1|2 but 3 exist:\n",
    "  - If there are multiple 3's (*for the whole indices*): need two `C4` rotations\n",
    "    - If there is a 3 at the intent position: do the double-`C4` at that position, and no `SWAP` needed.\n",
    "    - Elseif the intent position is 0: do the double-`C4` at the position of the last 3, followed by `SWAP`.\n",
    "  - Elseif there is only one 3: just do a `SWAP` (if 3 sits at intent position, no transformation needed).\n",
    "- Else $[\\mu]$ is $[0..]$: no transform needed (but such matrixes should have already been ascribed to the conserved quantity and should not appear)."
   ]
  },
  {
   "cell_type": "code",
   "execution_count": 3,
   "metadata": {
    "collapsed": false
   },
   "outputs": [
    {
     "data": {
      "text/plain": [
       "[['C4', [{0: 2, 5: 3}, -1.0]]]"
      ]
     },
     "execution_count": 3,
     "metadata": {},
     "output_type": "execute_result"
    }
   ],
   "source": [
    "find_rotation({0: 1, 5: 3}, 0)"
   ]
  },
  {
   "cell_type": "markdown",
   "metadata": {},
   "source": [
    "The result of `find_rotation` is a list of unitary transformations: each element is of the following form:\n",
    "- `['C4',[{...},z]]`: C4 rotation with C4 generator.\n",
    "- `['SWAP',[i, j]]`: SWAP operation btw i & j bit.\n",
    "\n",
    "The unitary transformations are implemented by\n",
    "- `unitary_fd(Us, H)`: forward transfrom from boundary to bulk,\n",
    "- `unitary_bk(Us, H)`: backward transform from bulk to boundary (`Us` still given by the forward order),\n",
    "where `Us` is a list of transformations (action implemented in sequencial order), and `H` is the Pauli polynomial (or a list of Pauli monomials) to be acted."
   ]
  },
  {
   "cell_type": "code",
   "execution_count": 4,
   "metadata": {
    "collapsed": false
   },
   "outputs": [
    {
     "name": "stdout",
     "output_type": "stream",
     "text": [
      "[['C4', [{0: 2, 5: 3, 7: 3}, 1.0]], ['C4', [{0: 2}, -1]]]\n"
     ]
    },
    {
     "data": {
      "text/plain": [
       "[[{0: 3}, 1.0], [{0: 3, 5: 1, 7: 2}, 1.0]]"
      ]
     },
     "execution_count": 4,
     "metadata": {},
     "output_type": "execute_result"
    }
   ],
   "source": [
    "H = [[{0: 3, 5: 3, 7: 3}, 1], [{0: 3, 5: 2, 7: 1}, 1]]\n",
    "Us = find_rotation(H[0][0],0)\n",
    "print(Us)\n",
    "unitary_fd(Us,H)\n",
    "H"
   ]
  },
  {
   "cell_type": "code",
   "execution_count": 5,
   "metadata": {
    "collapsed": false
   },
   "outputs": [
    {
     "data": {
      "text/plain": [
       "[[{0: 3, 5: 3, 7: 3}, 1.0], [{0: 3, 5: 2, 7: 1}, 1.0]]"
      ]
     },
     "execution_count": 5,
     "metadata": {},
     "output_type": "execute_result"
    }
   ],
   "source": [
    "unitary_bk(Us, H)\n",
    "H"
   ]
  },
  {
   "cell_type": "markdown",
   "metadata": {},
   "source": [
    "###Compute and Control 2nd Order Perturbation\n",
    "Given the off-diagonal terms $\\Sigma_0=\\sum_{[\\mu]}h_{[\\mu]}\\sigma^{[\\mu]}$ and $H_0=h_0\\sigma^{3[0..]}$, the 2nd order perturbation is then given by:\n",
    "$$\\begin{split}\n",
    "H_2 &= \\frac{1}{2h_0^2} H_0\\Sigma_0^2 = \\frac{1}{2h_0} \\sigma^{3[0..]}\\Sigma_0^2\\\\\n",
    "&=\\Big(\\frac{1}{2h_0}\\sum_{[\\mu]}h_{[\\mu]}^2\\Big)\\sigma^{3[0..]}+ \\sum_{[\\mu]_1<[\\mu]_2}\\frac{h_{[\\mu]_1}h_{[\\mu]_2}}{h_0}\\;\\sigma^{3[0..]}\\,\\Re[\\sigma^{[\\mu]_1}\\sigma^{[\\mu]_2}].\n",
    "\\end{split}$$\n",
    "- the first term is a backward correction to the leading energy scale,\n",
    "- the second term generates new terms and should be controlled,\n",
    "- $\\Re$ of Pauli matrices is non-vanishing only of the matrices commute.\n",
    "\n",
    "The growth the Hamiltonian is controlled by:\n",
    "- energy scale truncation `min_scale`: terms with energy scale less then `min_scale` will be neglected,\n",
    "- term number truncation `max_rate`: the perturbed H contains at most `max_rate`$\\times$ number of $H_\\text{offdiag}$ terms."
   ]
  },
  {
   "cell_type": "markdown",
   "metadata": {},
   "source": [
    "##Spectrum Bifurcation RG\n",
    "Generic Hamiltonian: qubit models\n",
    "$$H=\\sum_{[\\mu]}h_{[\\mu]}\\sigma^{[\\mu]},$$\n",
    "where $\\sigma^{[\\mu]}=\\sigma^{\\mu_1}\\otimes\\sigma^{\\mu_2}\\otimes\\sigma^{\\mu_3}\\otimes\\cdots$ denotes the product of Pauli matrices (quantum gates). The key assumption is $h_{[\\mu]}$ should be sufficiently random."
   ]
  },
  {
   "cell_type": "markdown",
   "metadata": {},
   "source": [
    "###RG Kernel\n",
    "**Algorithm**:\n",
    "- Find leading energy scale\n",
    "- Find Clifford algebra rotation $R$ that\n",
    "  - diagonalize the leading energy scale\n",
    "  - at the same time transform the other terms in the Hamiltonian (note that the term ordering is lost in this step)\n",
    "- Gather diagonal and off-diagonal terms\n",
    "    $$H = H_0 + \\Delta_0 + \\Sigma_0$$\n",
    "   where $H_0^2 = h_0^2$, $H_0\\Delta_0 = \\Delta_0H_0$, $H_0\\Sigma_0 = -\\Sigma_0H_0$.\n",
    "  - diagonal terms goes to new Hamiltonian\n",
    "  - off-diagonal terms renormalized by 2nd order perturbation, which generates effective terms in the diagonal blocks.[1]\n",
    "    $$H = H_0 + \\Delta_0 + \\frac{1}{2h_0^2} H_0\\Sigma_0^2.$$\n",
    "    The perturbation can be carried out by the unitary transform\n",
    "    $$U = \\exp\\left(-\\frac{1}{2h_0^2}H_0\\Sigma_0\\right).$$"
   ]
  },
  {
   "cell_type": "markdown",
   "metadata": {},
   "source": [
    "###Restore Locality\n",
    "- Clifford gates are collected in forward order along the RG flow. At the end of the flow, `self.gates` will hold the Clifford gates $R = R_\\text{C4}R_\\text{SWAP}R_\\text{C4}R_\\text{C4}R_\\text{SWAP}R_\\text{SWAP}\\cdots$\n",
    "- The emergent qubits are arranged by their *energy scale*: first/last bit - heighest/lowest frequency. Such arrangement is good to improve the computational efficiency during the RG flow, but the *realspace position* of these emergent qubits are scrambled, and the original locality is lost.\n",
    "- To restore the original locality,\n",
    "  - first move all the SWAP gates to the end by commuting over the C4 gates.\n",
    "    $$ \\text{physical} \\xrightarrow{C_4} \\text{emergent (ordered by realspace location)} \\xrightarrow{SWAP} \\text{emergent (ordered by energy scale)}$$\n",
    "  - then absorb SWAP gates to `Heff` by backward action. In this way, the locality is mostly restored (at least localized to each entanglement block).\n",
    "  \n",
    "**Algorithm**: reorder the matrix indices in `Heff`\n",
    "- starting from a ordered list of inds: `blk = [0,1,2...]` the elements labels the qubit positions of energy-scale-ordered Hilbert space. \n",
    "- apply SWAP in backward order to the list, permutes the energy-scale labels to the real-space positions.\n",
    "- so the mat ind of `Heff` must be brought back to real-sapce by the value-to-index mapping of `blk`."
   ]
  },
  {
   "cell_type": "markdown",
   "metadata": {},
   "source": [
    "###Test"
   ]
  },
  {
   "cell_type": "code",
   "execution_count": 134,
   "metadata": {
    "collapsed": false
   },
   "outputs": [],
   "source": [
    "model = TFIsing(128, J=1,K=1,h=0,alpha_J=0.1)"
   ]
  },
  {
   "cell_type": "code",
   "execution_count": 135,
   "metadata": {
    "collapsed": false
   },
   "outputs": [
    {
     "data": {
      "text/plain": [
       "0"
      ]
     },
     "execution_count": 135,
     "metadata": {},
     "output_type": "execute_result"
    }
   ],
   "source": [
    "system = SBRG(model)\n",
    "system.max_rate = 2.\n",
    "system.make_Hblk = False\n",
    "system.flow()\n",
    "len(system.trash)"
   ]
  },
  {
   "cell_type": "code",
   "execution_count": 136,
   "metadata": {
    "collapsed": false
   },
   "outputs": [
    {
     "data": {
      "text/plain": [
       "[{36: 3}]"
      ]
     },
     "execution_count": 136,
     "metadata": {},
     "output_type": "execute_result"
    }
   ],
   "source": [
    "[mat for mat, val in system.taus if mat_span(mat, 128)%2 == 0]"
   ]
  },
  {
   "cell_type": "markdown",
   "metadata": {},
   "source": [
    "Profiling:"
   ]
  },
  {
   "cell_type": "code",
   "execution_count": 19,
   "metadata": {
    "collapsed": false
   },
   "outputs": [
    {
     "name": "stdout",
     "output_type": "stream",
     "text": [
      " \n",
      "*** Profile stats marshalled to file '/var/folders/tl/lwpcq5qj049ftcj7pvhkzv_h0000gn/T/tmp7idjtn'. \n"
     ]
    }
   ],
   "source": [
    "system = SBRG(model)\n",
    "system.make_Hblk = False\n",
    "% snakeviz system.flow()"
   ]
  },
  {
   "cell_type": "markdown",
   "metadata": {},
   "source": [
    "Benchmark with Mathematica:"
   ]
  },
  {
   "cell_type": "code",
   "execution_count": 7,
   "metadata": {
    "collapsed": false
   },
   "outputs": [
    {
     "data": {
      "text/plain": [
       "[]"
      ]
     },
     "execution_count": 7,
     "metadata": {},
     "output_type": "execute_result"
    }
   ],
   "source": [
    "model = TFIsing(16, J=1,K=1,h=1,alpha_J=0.2,alpha_K=0.2,alpha_h=0.2)\n",
    "export('model', model)\n",
    "system = SBRG(model)\n",
    "system.tol = 1.e-8\n",
    "system.max_rate = 2.\n",
    "system.recover = False\n",
    "system.flow()\n",
    "export('Heff',system.Heff)\n",
    "system.trash"
   ]
  },
  {
   "cell_type": "markdown",
   "metadata": {},
   "source": [
    "##Model Hamiltonians\n",
    "###Transverse Field Ising with Interaction\n",
    "For random $J_i$, $K_i$, $h_i$ drawn from a beta distribution,\n",
    "$$H=-\\sum_{i}J_i \\sigma_i^x\\sigma_{i+1}^x+K_i \\sigma_i^z\\sigma_{i+1}^z+h_i \\sigma_i^z.$$"
   ]
  },
  {
   "cell_type": "markdown",
   "metadata": {},
   "source": [
    "###Kitaev Random Interaction Model\n",
    "For random $J_{ijkl}$ drawn from a beta distribution,\n",
    "$$H=\\sum J_{ijkl}\\chi_i\\chi_j\\chi_k\\chi_l.$$"
   ]
  },
  {
   "cell_type": "code",
   "execution_count": 50,
   "metadata": {
    "collapsed": false
   },
   "outputs": [
    {
     "name": "stdout",
     "output_type": "stream",
     "text": [
      "210946\n"
     ]
    }
   ],
   "source": [
    "random.seed(1)\n",
    "system = SBRG(KitaevRIM(7,1.))\n",
    "system.max_rate = 80.\n",
    "system.flow()\n",
    "print(len(system.trash))\n",
    "export('system_KRIM_7', system)"
   ]
  },
  {
   "cell_type": "markdown",
   "metadata": {},
   "source": [
    "2nd version: control the number of terms.\n",
    "- L9M9: 1,2,3,5,14,18"
   ]
  },
  {
   "cell_type": "code",
   "execution_count": 250,
   "metadata": {
    "collapsed": false
   },
   "outputs": [
    {
     "name": "stdout",
     "output_type": "stream",
     "text": [
      "0 10\n"
     ]
    }
   ],
   "source": [
    "random.seed() \n",
    "system = SBRG(KitaevRIM2(9,9))\n",
    "system.max_rate = 100.\n",
    "system.flow()\n",
    "print(len(system.trash),len(system.Heff))"
   ]
  },
  {
   "cell_type": "markdown",
   "metadata": {},
   "source": [
    "####Level Statistics\n",
    "Try to do level statistics by scipy sparse array. Turns out to be too slow."
   ]
  },
  {
   "cell_type": "code",
   "execution_count": 28,
   "metadata": {
    "collapsed": false
   },
   "outputs": [],
   "source": [
    "model = KitaevRIM(9,1.)"
   ]
  },
  {
   "cell_type": "code",
   "execution_count": 30,
   "metadata": {
    "collapsed": false
   },
   "outputs": [
    {
     "data": {
      "image/png": "[encoded data removed]",
      "text/plain": [
       "<matplotlib.figure.Figure at 0x1035b1910>"
      ]
     },
     "metadata": {},
     "output_type": "display_data"
    }
   ],
   "source": [
    "from scipy import sparse, linalg\n",
    "PAULI = {\n",
    "    0: sparse.coo_matrix(np.array([[1+0j,0],[0,1+0j]])),\n",
    "    1: sparse.coo_matrix(np.array([[0,1+0j],[1+0j,0]])),\n",
    "    2: sparse.coo_matrix(np.array([[0,-1j],[1j,0]])),\n",
    "    3: sparse.coo_matrix(np.array([[1+0j,0],[0,-1+0j]])),\n",
    "}\n",
    "def represent(mat, N):\n",
    "    A = sparse.identity(1)\n",
    "    for i in range(N):\n",
    "        mu = mat.get(i,0)\n",
    "        A = sparse.kron(A, PAULI[mu],format='coo')\n",
    "    return A.asformat('csr')\n",
    "def levstat(H, N):\n",
    "    Hmat = sum(represent(mat, N)*val for mat, val in H).toarray()\n",
    "    vals = linalg.eigh(Hmat,eigvals_only=True,turbo=True,overwrite_a=True,check_finite=False)\n",
    "    diff = [x for x in np.ediff1d(vals) if abs(x)>1e-10]\n",
    "    return [x/y for x, y in zip(diff[:-1],diff[1:])]\n",
    "hist_plot(levstat(model['H'], model['bits']))"
   ]
  },
  {
   "cell_type": "markdown",
   "metadata": {},
   "source": [
    "#Physics\n",
    "##Level Statistics\n",
    "###Flow of Energy Scale Distribution"
   ]
  },
  {
   "cell_type": "code",
   "execution_count": 407,
   "metadata": {
    "collapsed": false
   },
   "outputs": [],
   "source": [
    "realization = 100\n",
    "alpha = 1.0\n",
    "N0 = 128\n",
    "steps = [0, 32, 32, 32, 16, 8, 4]\n",
    "data = {}\n",
    "N = N0\n",
    "for stp in steps:\n",
    "    N -= stp\n",
    "    data[N] = []\n",
    "for i in range(realization):\n",
    "    model = TFIsing(N0, J=1,K=0,h=1,alpha_J=alpha,alpha_K=alpha,alpha_h=alpha)\n",
    "    system = SBRG(model)\n",
    "    for stp in steps:\n",
    "        system.flow(stp)\n",
    "        data[system.N - system.Neff].extend([abs(val) for (mat, val) in system.H])\n",
    "export('RGflow_J1K0h1_a10_128', data)"
   ]
  },
  {
   "cell_type": "code",
   "execution_count": 428,
   "metadata": {
    "collapsed": true
   },
   "outputs": [],
   "source": [
    "realization = 100\n",
    "alpha = 1.0\n",
    "N0 = 256\n",
    "steps = [0, 64, 32, 32, 32, 32, 16, 16, 16, 8, 4]\n",
    "data = {}\n",
    "N = N0\n",
    "for stp in steps:\n",
    "    N -= stp\n",
    "    data[N] = []\n",
    "for i in range(realization):\n",
    "    model = TFIsing(N0, J=1,K=1,h=1,alpha_J=alpha,alpha_K=alpha,alpha_h=alpha)\n",
    "    system = SBRG(model)\n",
    "    for stp in steps:\n",
    "        system.flow(stp)\n",
    "        data[system.N - system.Neff].extend([abs(val) for (mat, val) in system.H])\n",
    "export('RGflow_J1K1h1_a10_256', data)"
   ]
  },
  {
   "cell_type": "code",
   "execution_count": 154,
   "metadata": {
    "collapsed": false
   },
   "outputs": [],
   "source": [
    "realization = 10\n",
    "alpha = 1.0\n",
    "N0 = 6\n",
    "steps = [0]+[1]*N0\n",
    "data = {}\n",
    "N = N0\n",
    "for stp in steps:\n",
    "    N -= stp\n",
    "    data[N] = []\n",
    "for i in range(realization):\n",
    "    model = KitaevRIM(N0, alpha)\n",
    "    system = SBRG(model)\n",
    "    system.max_rate = 100\n",
    "    for stp in steps:\n",
    "        system.flow(stp)\n",
    "        data[system.N - system.Neff].extend([abs(val) for (mat, val) in system.H])\n",
    "export('RGflow_KRIM_a10_6x10', data)"
   ]
  },
  {
   "cell_type": "code",
   "execution_count": 161,
   "metadata": {
    "collapsed": false
   },
   "outputs": [
    {
     "data": {
      "image/png": "[encoded data removed]",
      "text/plain": [
       "<matplotlib.figure.Figure at 0x105d69790>"
      ]
     },
     "metadata": {},
     "output_type": "display_data"
    }
   ],
   "source": [
    "hist_plot(data[2])"
   ]
  },
  {
   "cell_type": "markdown",
   "metadata": {},
   "source": [
    "###E-Tensor Distribution\n",
    "\n",
    "**MAKE SURE**: Data collected with back correction turned off."
   ]
  },
  {
   "cell_type": "code",
   "execution_count": 9,
   "metadata": {
    "collapsed": false
   },
   "outputs": [],
   "source": [
    "alpha = 0.2\n",
    "realization = 200\n",
    "ns = list(range(1,11))\n",
    "data = {n: [] for n in ns}\n",
    "for i in range(realization):\n",
    "    model = TFIsing(128, J=2,K=1,h=1,alpha_J=alpha,alpha_K=alpha,alpha_h=alpha)\n",
    "    system = SBRG(model)\n",
    "    system.max_rate = 2.2\n",
    "    system.recover = False\n",
    "    system.flow()\n",
    "    for n in ns:\n",
    "        data[n].extend([abs(val) for [mat, val] in system.Heff if len(mat) == n])\n",
    "export('Estat_J2K1h1_a02_on', data)"
   ]
  },
  {
   "cell_type": "code",
   "execution_count": 362,
   "metadata": {
    "collapsed": false
   },
   "outputs": [
    {
     "data": {
      "image/png": "[encoded data removed]",
      "text/plain": [
       "<matplotlib.figure.Figure at 0x105470e50>"
      ]
     },
     "metadata": {},
     "output_type": "display_data"
    }
   ],
   "source": [
    "hist_plot(data[1])"
   ]
  },
  {
   "cell_type": "markdown",
   "metadata": {},
   "source": [
    "###Energy Fluctuation"
   ]
  },
  {
   "cell_type": "code",
   "execution_count": 220,
   "metadata": {
    "collapsed": false
   },
   "outputs": [],
   "source": [
    "gs = list(range(1,11))\n",
    "N = 64\n",
    "data = {g:[] for g in gs}\n",
    "for g in gs:\n",
    "    alpha = 1/g\n",
    "    dat_append = data[g].append\n",
    "    for sample in range(100):\n",
    "        model = TFIsing(N,J=1,K=1,h=0,alpha_J=alpha,alpha_K=alpha,alpha_h=alpha)\n",
    "        system = SBRG(model).flow()\n",
    "        H = deepcopy(model['H'])\n",
    "        unitary_fd(list(chain(*system.gates)),H)\n",
    "        var = sum(val**2 for mat, val in H if is_offdiag(mat))\n",
    "        H2 = sum(val**2 for mat, val in H)\n",
    "        dat_append(var/H2)\n",
    "export('EF_J1K1h0_64', data)"
   ]
  },
  {
   "cell_type": "markdown",
   "metadata": {},
   "source": [
    "##Random Clifford Circuit\n",
    "###Conserved Quantity\n",
    "Reconstruct emergent conserved quantities in terms of the original qubits."
   ]
  },
  {
   "cell_type": "code",
   "execution_count": 500,
   "metadata": {
    "collapsed": false
   },
   "outputs": [
    {
     "data": {
      "text/plain": [
       "[[{0: 3, 1: 3}, 1.4031374931022293],\n",
       " [{0: 1, 1: 1}, 1.3741709595450602],\n",
       " [{2: 3, 3: 3}, 0.8105557290831793],\n",
       " [{2: 1, 3: 1}, 0.7097392394612708]]"
      ]
     },
     "execution_count": 500,
     "metadata": {},
     "output_type": "execute_result"
    }
   ],
   "source": [
    "system.taus"
   ]
  },
  {
   "cell_type": "markdown",
   "metadata": {},
   "source": [
    "Collect the statistics of stabilizers.\n",
    "- Sdat: by number of qubits involved"
   ]
  },
  {
   "cell_type": "code",
   "execution_count": 557,
   "metadata": {
    "collapsed": false
   },
   "outputs": [],
   "source": [
    "J0 = 2\n",
    "K0 = 1\n",
    "h0 = 1\n",
    "alpha = 1.0\n",
    "fn = 'Sdat_J2K1h1_a10_128'\n",
    "L = 128\n",
    "try:\n",
    "    data = load(fn)\n",
    "except:\n",
    "    data = {l:[] for l in range(1,L+1)}\n",
    "for i in range(500):\n",
    "    model = TFIsing(L,J=J0,K=K0,h=h0,alpha_J=alpha,alpha_K=alpha,alpha_h=alpha)\n",
    "    system = SBRG(model)\n",
    "    system.max_rate = 1.2\n",
    "    system.flow()\n",
    "    for [mat, val] in system.taus:\n",
    "        data[len(mat)].append(abs(val))\n",
    "dump(fn, data)\n",
    "export(fn, data)"
   ]
  },
  {
   "cell_type": "markdown",
   "metadata": {},
   "source": [
    "- Sstat: by head to tail distance of stablizer."
   ]
  },
  {
   "cell_type": "code",
   "execution_count": 151,
   "metadata": {
    "collapsed": false
   },
   "outputs": [],
   "source": [
    "J0 = 7\n",
    "K0 = 5\n",
    "h0 = 1\n",
    "alpha = 1.0\n",
    "fn = 'Sstat_J7K5h1_a10_128'\n",
    "L = 128\n",
    "try:\n",
    "    data = load(fn)\n",
    "except:\n",
    "    data = {l:0 for l in range(L)}\n",
    "for i in range(0):\n",
    "    print(i)\n",
    "    model = TFIsing(L,J=J0,K=K0,h=h0,alpha_J=alpha,alpha_K=alpha,alpha_h=alpha)\n",
    "    system = SBRG(model)\n",
    "    system.make_Hblk = False\n",
    "    system.flow()\n",
    "    for [mat, val] in system.taus:\n",
    "        data[mat_span(mat, L)] += 1\n",
    "dump(fn, data)\n",
    "export(fn, data)"
   ]
  },
  {
   "cell_type": "code",
   "execution_count": 141,
   "metadata": {
    "collapsed": false
   },
   "outputs": [],
   "source": [
    "dump(fn, data)\n",
    "export(fn, data)"
   ]
  },
  {
   "cell_type": "code",
   "execution_count": 88,
   "metadata": {
    "collapsed": false
   },
   "outputs": [
    {
     "data": {
      "text/plain": [
       "3"
      ]
     },
     "execution_count": 88,
     "metadata": {},
     "output_type": "execute_result"
    }
   ],
   "source": [
    "mat_span({2:1,4:1,1:1},8)"
   ]
  },
  {
   "cell_type": "markdown",
   "metadata": {},
   "source": [
    "###Stablizer State and Entanglement Entropy\n",
    "\n",
    "test:"
   ]
  },
  {
   "cell_type": "code",
   "execution_count": 72,
   "metadata": {
    "collapsed": false
   },
   "outputs": [],
   "source": [
    "alpha = 1.\n",
    "model = TFIsing(8, J=1.,K=0.,h=0.1,alpha_J=alpha,alpha_K=alpha,alpha_h=alpha)\n",
    "system = SBRG(model).flow()\n",
    "export('system_8', system)"
   ]
  },
  {
   "cell_type": "code",
   "execution_count": 70,
   "metadata": {
    "collapsed": false
   },
   "outputs": [
    {
     "data": {
      "text/plain": [
       "1.0"
      ]
     },
     "execution_count": 70,
     "metadata": {},
     "output_type": "execute_result"
    }
   ],
   "source": [
    "system.entropy([3,4,5])"
   ]
  },
  {
   "cell_type": "code",
   "execution_count": 51,
   "metadata": {
    "collapsed": false
   },
   "outputs": [
    {
     "data": {
      "text/plain": [
       "{1: 0.5, 2: 0.625, 3: 0.75, 4: 0.75}"
      ]
     },
     "execution_count": 51,
     "metadata": {},
     "output_type": "execute_result"
    }
   ],
   "source": [
    "N = system.N\n",
    "entropy_dict = entropy1D(system)\n",
    "{L: sum(entropy_dict.get((i, L), 0) for i in range(N))/N for L in range(1, floor(N/2)+1)}"
   ]
  },
  {
   "cell_type": "markdown",
   "metadata": {},
   "source": [
    "Collect the entanglement entropy scaling for severl TFIsing samples. Return data as a dict `{L:[S1, S2, ...], ...}`, where `L` is the size of the entanglement cut (in terms of the number of sites in the subsystem), and `S1,...` is a list of disorder-averaged entanglement entropy for different samples. "
   ]
  },
  {
   "cell_type": "code",
   "execution_count": 2,
   "metadata": {
    "collapsed": false
   },
   "outputs": [],
   "source": [
    "def entropy_scaling(N,**para):\n",
    "    data = {L: [] for L in range(1, floor(N/2)+1)}\n",
    "    for sample in range(para['sampling']):\n",
    "        model = TFIsing(N,**para)\n",
    "        system = SBRG(model).flow()\n",
    "        entropy_dict = entropy1D(system)\n",
    "        for L in data.keys():\n",
    "            data[L].append(sum(entropy_dict.get((i, L), 0) for i in range(N))/N)\n",
    "    return data"
   ]
  },
  {
   "cell_type": "code",
   "execution_count": 16,
   "metadata": {
    "collapsed": false
   },
   "outputs": [
    {
     "name": "stdout",
     "output_type": "stream",
     "text": [
      " \n",
      "*** Profile stats marshalled to file '/var/folders/tl/lwpcq5qj049ftcj7pvhkzv_h0000gn/T/tmpu5v__p'. \n"
     ]
    }
   ],
   "source": [
    "%snakeviz entropy_scaling(128,J=1.,K=0.2,h=0.5,alpha_J=0.5,alpha_K=0.5,alpha_h=0.5,sampling=1)"
   ]
  },
  {
   "cell_type": "markdown",
   "metadata": {},
   "source": [
    "Export data for Mathematica."
   ]
  },
  {
   "cell_type": "code",
   "execution_count": 3,
   "metadata": {
    "collapsed": false
   },
   "outputs": [],
   "source": [
    "alpha = 1.0\n",
    "data = entropy_scaling(256,J=6.,K=4.,h=1.,alpha_J=alpha,alpha_K=alpha,alpha_h=alpha,sampling=50)\n",
    "export('EE_J6K4h1_a10_256x50', data)"
   ]
  },
  {
   "cell_type": "code",
   "execution_count": 4,
   "metadata": {
    "collapsed": true
   },
   "outputs": [],
   "source": [
    "alpha = 1.0\n",
    "data = entropy_scaling(256,J=17,K=14,h=1,alpha_J=alpha,alpha_K=alpha,alpha_h=alpha,sampling=50)\n",
    "export('EE_J17K14h1_a10_256x50', data)"
   ]
  },
  {
   "cell_type": "code",
   "execution_count": 60,
   "metadata": {
    "collapsed": true
   },
   "outputs": [],
   "source": [
    "alpha = 1.0\n",
    "data = entropy_scaling(256,J=1.,K=1.,h=1.,alpha_J=alpha,alpha_K=alpha,alpha_h=alpha,sampling=50)\n",
    "export('EE_J1K1h1_a10_256x50', data)"
   ]
  },
  {
   "cell_type": "code",
   "execution_count": 56,
   "metadata": {
    "collapsed": true
   },
   "outputs": [],
   "source": [
    "alpha = 0.5\n",
    "data = entropy_scaling(256,J=1.,K=0,h=0,alpha_J=alpha,alpha_K=alpha,alpha_h=alpha,sampling=50)\n",
    "export('EE_J1K0h0_a05_256x50', data)"
   ]
  },
  {
   "cell_type": "code",
   "execution_count": 57,
   "metadata": {
    "collapsed": true
   },
   "outputs": [],
   "source": [
    "alpha = 0.5\n",
    "data = entropy_scaling(256,J=0,K=0,h=1.,alpha_J=alpha,alpha_K=alpha,alpha_h=alpha,sampling=50)\n",
    "export('EE_J0K0h1_a05_256x50', data)"
   ]
  },
  {
   "cell_type": "code",
   "execution_count": 58,
   "metadata": {
    "collapsed": true
   },
   "outputs": [],
   "source": [
    "alpha = 0.5\n",
    "data = entropy_scaling(256,J=0.,K=1.,h=1.,alpha_J=alpha,alpha_K=alpha,alpha_h=alpha,sampling=50)\n",
    "export('EE_J0K1h1_a05_256x50', data)"
   ]
  },
  {
   "cell_type": "markdown",
   "metadata": {},
   "source": [
    "### Phase Diagram"
   ]
  },
  {
   "cell_type": "code",
   "execution_count": 2,
   "metadata": {
    "collapsed": true
   },
   "outputs": [],
   "source": [
    "alpha = 1.\n",
    "def entropy_256(J0, K0, h0, sampling = 1):\n",
    "    try:\n",
    "        entropy_rec = load('PD_a10_256')\n",
    "    except:\n",
    "        entropy_rec = {}\n",
    "    samples = []\n",
    "    N = 256\n",
    "    L = int(N/2)\n",
    "    for s in range(sampling):\n",
    "        system = SBRG(TFIsing(N,J=J0,K=K0,h=h0,alpha_J=alpha,alpha_K=alpha,alpha_h=alpha))\n",
    "        system.max_rate = 1.\n",
    "        system.flow()\n",
    "        EE = sum(entropy1D(system,L).values())/N\n",
    "        print('%3d: %f'%(s+1,EE))\n",
    "        samples.append(EE)\n",
    "    pt = (int(J0), int(K0), int(h0))\n",
    "    try:\n",
    "        entropy_rec[pt].extend(samples)\n",
    "    except:\n",
    "        entropy_rec[pt] = samples\n",
    "    dump('PD_a10_256',entropy_rec)\n",
    "    export('PD_a10_256',entropy_rec)\n",
    "    return"
   ]
  },
  {
   "cell_type": "code",
   "execution_count": 476,
   "metadata": {
    "collapsed": false
   },
   "outputs": [
    {
     "name": "stdout",
     "output_type": "stream",
     "text": [
      "  1: 0.000000\n",
      "  2: 0.000000\n",
      "  3: 0.007812\n",
      "  4: 0.000000\n",
      "  5: 0.000000\n",
      "  6: 0.000000\n",
      "  7: 0.000000\n",
      "  8: 0.007812\n",
      "  9: 0.000000\n",
      " 10: 0.000000\n"
     ]
    }
   ],
   "source": [
    "entropy_256(1,4,4,10)"
   ]
  },
  {
   "cell_type": "markdown",
   "metadata": {
    "collapsed": true
   },
   "source": [
    "###Scaling of Boundary Operators"
   ]
  },
  {
   "cell_type": "code",
   "execution_count": 84,
   "metadata": {
    "collapsed": false
   },
   "outputs": [],
   "source": [
    "alpha = 1.\n",
    "data = {'H': [], 'Z': [], 'ZZ': []}\n",
    "for k in range(100):\n",
    "    system = SBRG(TFIsing(128,J=1,K=2,h=0,alpha_J=alpha,alpha_K=alpha,alpha_h=alpha))\n",
    "    system.flow()\n",
    "    e1 = {list(mat.keys())[0]: val for mat, val in system.Heff if len(mat) == 1}\n",
    "    data['H'].extend(list(e1.values()))\n",
    "    e1_get = e1.get\n",
    "    # perturbation Z\n",
    "    pert = [[{i: 3}, 1.] for i in range(system.N)]\n",
    "    unitary_fd(list(chain(*system.gates)), pert)\n",
    "    data['Z'].extend([[e1_get(i,0) for i, mu in mat.items() if 0 < mu < 3] for mat, val in pert])\n",
    "    # perturbation ZZ\n",
    "    pert = [[{i: 3, (i+1)%system.N: 3}, 1.] for i in range(system.N)]\n",
    "    unitary_fd(list(chain(*system.gates)), pert)\n",
    "    data['ZZ'].extend([[e1_get(i,0) for i, mu in mat.items() if 0 < mu < 3] for mat, val in pert])\n",
    "export('OP_J1K2h0_a10_128x100', data)"
   ]
  },
  {
   "cell_type": "markdown",
   "metadata": {
    "collapsed": true
   },
   "source": [
    "##Holographic Geometry\n",
    "### Sample Systems"
   ]
  },
  {
   "cell_type": "code",
   "execution_count": 65,
   "metadata": {
    "collapsed": false
   },
   "outputs": [
    {
     "data": {
      "text/plain": [
       "15"
      ]
     },
     "execution_count": 65,
     "metadata": {},
     "output_type": "execute_result"
    }
   ],
   "source": [
    "random.seed(9)\n",
    "model = TFIsing(32,J=1,K=1,h=1,alpha=1.0)\n",
    "system = SBRG(model)\n",
    "system.max_rate = 3.\n",
    "system.flow()\n",
    "export('system_J1K1h1_a10_32#09', system)\n",
    "len(system.trash)"
   ]
  },
  {
   "cell_type": "code",
   "execution_count": 32,
   "metadata": {
    "collapsed": false
   },
   "outputs": [],
   "source": [
    "N = 128\n",
    "J0 = 2\n",
    "K0 = 1\n",
    "h0 = 1\n",
    "alp = 1.0\n",
    "file = 'Ens_J2K1h1_a10_128'\n",
    "try:\n",
    "    ens = load(file)\n",
    "except:\n",
    "    ens = []\n",
    "for sample in range(9):\n",
    "    system = SBRG(TFIsing(N,J=J0,K=K0,h=h0,alpha=alp))\n",
    "    system.max_rate = 2.\n",
    "    system.flow()\n",
    "    ens.append(system)\n",
    "dump(file, ens)"
   ]
  },
  {
   "cell_type": "markdown",
   "metadata": {},
   "source": [
    "###Locality of Effective Hamiltonian\n",
    "Real space locality."
   ]
  },
  {
   "cell_type": "code",
   "execution_count": 68,
   "metadata": {
    "collapsed": false
   },
   "outputs": [],
   "source": [
    "N = 32\n",
    "J0 = 2\n",
    "K0 = 1\n",
    "h0 = 1\n",
    "alp = 1\n",
    "file = 'effXloc_J2K1h1_a10_32'\n",
    "Nby2 = int(N/2)\n",
    "try:\n",
    "    data = load(file)\n",
    "except:\n",
    "    data = {l+1:[] for l in range(Nby2)}\n",
    "for sample in range(100):\n",
    "    system = SBRG(TFIsing(N,J=J0,K=K0,h=h0,alpha=alp))\n",
    "    #system.max_rate = 3.\n",
    "    system.flow()\n",
    "    for mat, val in system.Heff:\n",
    "        if len(mat) == 2:\n",
    "            i1, i2 = mat.keys()\n",
    "            data[abs((i1-i2+Nby2)%N-Nby2)].append(val)\n",
    "dump(file, data)\n",
    "export(file, data)"
   ]
  },
  {
   "cell_type": "markdown",
   "metadata": {},
   "source": [
    "Energy space locality."
   ]
  },
  {
   "cell_type": "code",
   "execution_count": 106,
   "metadata": {
    "collapsed": false
   },
   "outputs": [],
   "source": [
    "ens = load('Ens_J1K1h1_a02_32')\n",
    "data = []\n",
    "for system in ens:\n",
    "    es = {list(mat.keys())[0]:val for mat, val in system.Heff if len(mat) == 1}\n",
    "    data.extend([[val,[es[i] for i in mat.keys()]] \n",
    "                 for mat, val in system.Heff if len(mat) == 2])\n",
    "export('effEloc_J1K1h1_a02_32', data)"
   ]
  },
  {
   "cell_type": "markdown",
   "metadata": {},
   "source": [
    "###Locality of Holographic Hamiltonian"
   ]
  },
  {
   "cell_type": "code",
   "execution_count": 16,
   "metadata": {
    "collapsed": false
   },
   "outputs": [],
   "source": [
    "system = ens[5]"
   ]
  },
  {
   "cell_type": "code",
   "execution_count": 17,
   "metadata": {
    "collapsed": false
   },
   "outputs": [
    {
     "data": {
      "text/plain": [
       "0.3588576538469441"
      ]
     },
     "execution_count": 17,
     "metadata": {},
     "output_type": "execute_result"
    }
   ],
   "source": [
    "sum(val**2 for mat, val in system.Hblk if is_offdiag(mat))/sum(val for mat, val in system.Hblk)"
   ]
  },
  {
   "cell_type": "code",
   "execution_count": 18,
   "metadata": {
    "collapsed": true
   },
   "outputs": [],
   "source": [
    "export('system_test',system)"
   ]
  },
  {
   "cell_type": "markdown",
   "metadata": {
    "collapsed": true
   },
   "source": [
    "##Kitaev Random Interaction Model\n",
    "### Energy Fluctuation"
   ]
  },
  {
   "cell_type": "code",
   "execution_count": 186,
   "metadata": {
    "collapsed": false
   },
   "outputs": [],
   "source": [
    "N = 8\n",
    "M = 6\n",
    "file = \"EF_KIRM_N8\"\n",
    "try:\n",
    "    data = load(file)\n",
    "except:\n",
    "    data = dict()\n",
    "for sample in range(200):\n",
    "    system = SBRG(KitaevRIM2(N, M))\n",
    "    system.max_rate = 100.\n",
    "    system.flow()\n",
    "    var = sum(val**2 for mat, val in system.Hblk if is_offdiag(mat))\n",
    "    H2 = sum(val**2 for mat, val in system.Hblk)\n",
    "    try:\n",
    "        data[M].append(var/H2)\n",
    "    except:\n",
    "        data[M] = [var/H2]\n",
    "dump(file, data)\n",
    "export(file, data)"
   ]
  },
  {
   "cell_type": "markdown",
   "metadata": {},
   "source": [
    "#### Growth Rate\n",
    "Growth rate of Heff."
   ]
  },
  {
   "cell_type": "code",
   "execution_count": 187,
   "metadata": {
    "collapsed": true
   },
   "outputs": [],
   "source": [
    "N = 8\n",
    "M = 8\n",
    "file = \"rate_KRIM_N8_eff\"\n",
    "try:\n",
    "    data = load(file)\n",
    "except:\n",
    "    data = dict()\n",
    "for sample in range(100):\n",
    "    system = SBRG(KitaevRIM2(N, M))\n",
    "    system.max_rate = 100.\n",
    "    Ms = [0]\n",
    "    for k in range(system.N):\n",
    "        system.next_step()\n",
    "        Ms.append(len(system.Heff))\n",
    "    try:\n",
    "        data[M].append(Ms)\n",
    "    except:\n",
    "        data[M] = [Ms]\n",
    "dump(file, data)\n",
    "export(file, data)"
   ]
  },
  {
   "cell_type": "markdown",
   "metadata": {},
   "source": [
    "Growth rate of the full Hamiltonian."
   ]
  },
  {
   "cell_type": "code",
   "execution_count": 194,
   "metadata": {
    "collapsed": false
   },
   "outputs": [],
   "source": [
    "N = 8\n",
    "M = 18\n",
    "file = \"rate_KRIM_N8_full\"\n",
    "try:\n",
    "    data = load(file)\n",
    "except:\n",
    "    data = dict()\n",
    "for sample in range(100):\n",
    "    system = SBRG(KitaevRIM2(N, M))\n",
    "    system.max_rate = 100.\n",
    "    Ms = [len(system.Hblk)]\n",
    "    for k in range(system.N):\n",
    "        system.next_step()\n",
    "        Ms.append(len(system.Heff)+len(system.Hblk))\n",
    "    try:\n",
    "        data[M].append(Ms)\n",
    "    except:\n",
    "        data[M] = [Ms]\n",
    "dump(file, data)\n",
    "export(file, data)"
   ]
  },
  {
   "cell_type": "code",
   "execution_count": 201,
   "metadata": {
    "collapsed": true
   },
   "outputs": [],
   "source": [
    "system = SBRG(KitaevRIM2(4, 32))\n",
    "system.max_rate = 100."
   ]
  },
  {
   "cell_type": "code",
   "execution_count": 206,
   "metadata": {
    "collapsed": false
   },
   "outputs": [
    {
     "data": {
      "text/plain": [
       "[]"
      ]
     },
     "execution_count": 206,
     "metadata": {},
     "output_type": "execute_result"
    }
   ],
   "source": [
    "system.next_step()"
   ]
  },
  {
   "cell_type": "code",
   "execution_count": 207,
   "metadata": {
    "collapsed": false
   },
   "outputs": [
    {
     "data": {
      "text/plain": [
       "[[{0: 3}, 2.698715854472278],\n",
       " [{0: 3, 1: 3}, 0.5355270955895947],\n",
       " [{1: 3}, -3.063281046364799],\n",
       " [{0: 3, 1: 3, 2: 3}, 0.04966963067137131],\n",
       " [{0: 3, 2: 3}, -0.2534812137096582],\n",
       " [{1: 3, 2: 3}, -0.19345655946917134],\n",
       " [{2: 3}, -3.0710786716405916],\n",
       " [{0: 3, 1: 3, 2: 3, 3: 3}, -0.3303159564235645],\n",
       " [{0: 3, 2: 3, 3: 3}, -0.1285774848114452],\n",
       " [{0: 3, 3: 3}, 1.0979704560147052],\n",
       " [{1: 3, 2: 3, 3: 3}, -1.317648152704773],\n",
       " [{1: 3, 3: 3}, -0.7399826903198964],\n",
       " [{2: 3, 3: 3}, -0.003941187465048679],\n",
       " [{3: 3}, -1.6956884519903968]]"
      ]
     },
     "execution_count": 207,
     "metadata": {},
     "output_type": "execute_result"
    }
   ],
   "source": [
    "system.Heff"
   ]
  },
  {
   "cell_type": "code",
   "execution_count": null,
   "metadata": {
    "collapsed": true
   },
   "outputs": [],
   "source": []
  }
 ],
 "metadata": {
  "kernelspec": {
   "display_name": "Python 3",
   "language": "python",
   "name": "python3"
  },
  "language_info": {
   "codemirror_mode": {
    "name": "ipython",
    "version": 3
   },
   "file_extension": ".py",
   "mimetype": "text/x-python",
   "name": "python",
   "nbconvert_exporter": "python",
   "pygments_lexer": "ipython3",
   "version": "3.3.0"
  }
 },
 "nbformat": 4,
 "nbformat_minor": 0
}
