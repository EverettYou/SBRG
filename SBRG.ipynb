{
 "cells": [
  {
   "cell_type": "markdown",
   "metadata": {},
   "source": [
    "#Core Code"
   ]
  },
  {
   "cell_type": "markdown",
   "metadata": {},
   "source": [
    "## Pauli Algebra\n",
    "- Each Pauli monomial (call a `term`) is represented as a list like `[mat, val]`, where\n",
    "  - `mat` is a dict recording the Pauli matrix indices in the sparse form, as `{3: 1, 5: 2, ..}` \n",
    "  - `val` is a complex number recording the coefficient of that term.\n",
    "- Each Pauli polynomial is represented as a list of Pauli monomials."
   ]
  },
  {
   "cell_type": "markdown",
   "metadata": {},
   "source": [
    "###Dot Product\n",
    "- Single-bit dot product rule is stored in a dict `DOT_RULES`, each entry is  like `(i,j): (k,z)` formulating $\\sigma^i\\sigma^j=z\\sigma^k$.\n",
    "- Multi-bit dot product is carried out by mapping the `DOT_RULES` to the pair of Pauli indices, and collect the resulting indices and values. The values are product together to obtain the finnal result."
   ]
  },
  {
   "cell_type": "code",
   "execution_count": 1,
   "metadata": {
    "collapsed": false
   },
   "outputs": [],
   "source": [
    "\"\"\" dict of single-bit dot product rules \"\"\"\n",
    "DOT_RULES = {(0,0): (0,1+0j),\n",
    "             (0,1): (1,1+0j),\n",
    "             (0,2): (2,1+0j),\n",
    "             (0,3): (3,1+0j),\n",
    "             (1,0): (1,1+0j),\n",
    "             (2,0): (2,1+0j),\n",
    "             (3,0): (3,1+0j),\n",
    "             (1,1): (0,1+0j),\n",
    "             (2,2): (0,1+0j),\n",
    "             (3,3): (0,1+0j),\n",
    "             (1,2): (3,0+1j),\n",
    "             (2,3): (1,0+1j),\n",
    "             (3,1): (2,0+1j),\n",
    "             (3,2): (1,0-1j),\n",
    "             (2,1): (3,0-1j),\n",
    "             (1,3): (2,0-1j)}\n",
    "\"\"\" product of a list \"\"\"\n",
    "def prod(xs):\n",
    "    y = 1+0j\n",
    "    for x in xs:\n",
    "        y *= x\n",
    "    return y\n",
    "\"\"\" merge dicts of two matrices \"\"\"\n",
    "def merge(mat1, mat2):\n",
    "    mat1_get = mat1.get\n",
    "    mat2_get = mat2.get\n",
    "    mat1_keys = mat1.keys()\n",
    "    mat2_keys = mat2.keys()\n",
    "    return [(i, (mat1_get(i,0), mat2_get(i,0)))\n",
    "            for i in mat1_keys | mat2_keys]\n",
    "\"\"\" dot product \"\"\"\n",
    "def dot(term1, term2):\n",
    "    merged = [(i, DOT_RULES[mus]) for (i, mus) in merge(term1[0], term2[0])]\n",
    "    coeff = prod(val for (i, (mu, val)) in merged)\n",
    "    return [{i: mu for (i, (mu, val)) in merged if mu != 0},\n",
    "            coeff*term1[1]*term2[1]]"
   ]
  },
  {
   "cell_type": "markdown",
   "metadata": {},
   "source": [
    "Test:"
   ]
  },
  {
   "cell_type": "code",
   "execution_count": 50,
   "metadata": {
    "collapsed": false
   },
   "outputs": [
    {
     "data": {
      "text/plain": [
       "[{0: 1, 1: 3, 2: 3}, 4j]"
      ]
     },
     "execution_count": 50,
     "metadata": {},
     "output_type": "execute_result"
    }
   ],
   "source": [
    "a1 = [{0:1, 1:1},2.0]\n",
    "a2 = [{1:2, 2:3},2.0]\n",
    "dot(a1, a2)"
   ]
  },
  {
   "cell_type": "markdown",
   "metadata": {},
   "source": [
    "###Find Rotation to Diagonalize Pauli Matrix\n",
    "**Goal**: rotate $\\sigma^{[0|3..][\\mu]}$ to the block diagonal form $\\sigma^{[0..]3[0..]}$ with 3 at the intent position, and the transformation must respect all the $\\sigma^3$ symmetries before the intent position.\n",
    "\n",
    "**Algorithm**:\n",
    "- If $[\\mu]$ contains 1|2 (once the first 1|2 found, break): rotate that bit to 3 while eliminating other bits to 0 by `C4`, and move 3 to the the intent position by `SWAP` if necessary.\n",
    "- Elseif $[\\mu]$ has no 1|2 but 3 exist:\n",
    "  - If there are multiple 3's (*for the whole indices*): need two `C4` rotations\n",
    "    - If there is a 3 at the intent position: do the double-`C4` at that position, and no `SWAP` needed.\n",
    "    - Elseif the intent position is 0: do the double-`C4` at the position of the last 3, followed by `SWAP`.\n",
    "  - Elseif there is only one 3: just do a `SWAP` (if 3 sits at intent position, no transformation needed).\n",
    "- Else $[\\mu]$ is $[0..]$: no transform needed (but such matrixes should have already been ascribed to the conserved quantity and should not appear)."
   ]
  },
  {
   "cell_type": "code",
   "execution_count": 2,
   "metadata": {
    "collapsed": false
   },
   "outputs": [],
   "source": [
    "\"\"\" find rotation to diagonalize mat0 to the current bit site i_now \"\"\"\n",
    "def find_rotation(mat0, i_now):\n",
    "    # i_12 - site of first 1 or 2, i_3 - site of last 3\n",
    "    i_12 = -1 # initialize to -1 (unphysical)\n",
    "    i_3 = -1 # initialize to -1 (unphysical)\n",
    "    count_3 = 0 # count the num of 3\n",
    "    for (i, mu) in mat0.items():\n",
    "        if mu == 3: # if find 3\n",
    "            count_3 += 1\n",
    "            if i >= i_now: # if after i_now\n",
    "                i_3 = i # update i_3\n",
    "        elif i >= i_now and (mu == 1 or mu == 2): # if find first 1 or 2 after i_now\n",
    "            i_12 = i # set i_12 and break\n",
    "            break\n",
    "    Us = []\n",
    "    if i_12 >= 0: # if 1 or 2 exist, use it as pivot of rotation\n",
    "        # require a C4 rotation\n",
    "        Us.append(['C4', dot([{i_12: 3},1+0j], [mat0,1+0j])])\n",
    "        if i_12 != i_now: # if i_12 not at the required site\n",
    "            Us.append(['SWAP',[i_now, i_12]]) # additional SWAP required\n",
    "    elif i_3 >= 0: # if no 1 or 2, but 3 exist\n",
    "        if count_3 > 1: # if there are more than one 3\n",
    "            # require double C4\n",
    "            if mat0.get(i_now,0) == 3: # if i_now sits on a site of 3\n",
    "                i_3 = i_now # switch i_3 to that, so as to avoid additional SWAP\n",
    "            Us.append(['C4', dot([{i_3: 1},1+0j], [mat0,1+0j])])\n",
    "            Us.append(['C4', [{i_3: 2},0+1j]])       \n",
    "        if i_3 != i_now: # if i_3 not at the reqired site\n",
    "            Us.append(['SWAP',[i_now, i_3]]) # additional SWAP required \n",
    "    return Us"
   ]
  },
  {
   "cell_type": "code",
   "execution_count": 90,
   "metadata": {
    "collapsed": false
   },
   "outputs": [
    {
     "data": {
      "text/plain": [
       "[['C4', [{0: 2, 5: 3}, 1j]]]"
      ]
     },
     "execution_count": 90,
     "metadata": {},
     "output_type": "execute_result"
    }
   ],
   "source": [
    "find_rotation({0: 1, 5: 3}, 0)"
   ]
  },
  {
   "cell_type": "markdown",
   "metadata": {},
   "source": [
    "The result of `find_rotation` is a list of unitary transformations: each element is of the following form:\n",
    "- `['C4',[{...},z]]`: C4 rotation with C4 generator.\n",
    "- `['SWAP',[i, j]]`: SWAP operation btw i & j bit.\n",
    "\n",
    "The unitary transformations are implemented by `unitary_transform(Us, H)`, where `Us` is a list of transformations (action implemented in sequencial order), and `H` is the Pauli polynomial to be acted."
   ]
  },
  {
   "cell_type": "code",
   "execution_count": 3,
   "metadata": {
    "collapsed": false
   },
   "outputs": [],
   "source": [
    "\"\"\" perform unitary transforms Us in series to H \"\"\"\n",
    "def unitary_transform(Us, H):\n",
    "    for [gate, para] in Us:\n",
    "        if gate == 'C4': # C4 gate, para = C4 generator\n",
    "            # if non-commuting, do the dot product, otherwise do nothing\n",
    "            mat_C4_get = para[0].get\n",
    "            mat_C4_keys = para[0].keys()\n",
    "            val_C4 = para[1]\n",
    "            for term in H:\n",
    "                mat_keys = term[0].keys()\n",
    "                if mat_C4_keys & mat_keys: # if keys intersects\n",
    "                    # merge keys\n",
    "                    mat_get = term[0].get\n",
    "                    merged = [(i, (mat_C4_get(i,0), mat_get(i,0)))\n",
    "                              for i in mat_C4_keys | mat_keys]\n",
    "                    if sum(1 for (i, (mu1, mu2)) in merged\n",
    "                           if mu1 != 0 and mu2 != 0 and mu1 != mu2)%2:\n",
    "                        # if not commute, perform C4\n",
    "                        merged = [(i, DOT_RULES[mus]) for (i, mus) in merged]\n",
    "                        term[0] = {i: mu for (i, (mu, val)) in merged if mu != 0}\n",
    "                        term[1] *= val_C4*prod(val for (i, (mu, val)) in merged)                \n",
    "        elif gate == 'SWAP': # SWAP gate, para = SWAP positions\n",
    "            i0, i1 = para[0], para[1]\n",
    "            for term in H:\n",
    "                comm_keys = {i0, i1} & term[0].keys()\n",
    "                if comm_keys: # if keys intersects\n",
    "                    #term[0] = {(i0 if i == i1 else i1 if i == i0 else i): mu for (i, mu) in term[0].items()}\n",
    "                    if len(comm_keys) == 1: # only one site to be updated\n",
    "                        if i0 in comm_keys: # update i0 -> i1\n",
    "                            term[0][i1] = term[0].pop(i0)\n",
    "                        else: # update i1 -> i0\n",
    "                            term[0][i0] = term[0].pop(i1)\n",
    "                    else: # interchange two sites\n",
    "                        term[0][i0], term[0][i1] = term[0][i1], term[0][i0]"
   ]
  },
  {
   "cell_type": "markdown",
   "metadata": {},
   "source": [
    "Test:"
   ]
  },
  {
   "cell_type": "code",
   "execution_count": 127,
   "metadata": {
    "collapsed": false
   },
   "outputs": [
    {
     "name": "stdout",
     "output_type": "stream",
     "text": [
      "[['C4', [{0: 3, 5: 2, 7: 3}, 1j]], ['SWAP', [2, 5]]]\n"
     ]
    },
    {
     "data": {
      "text/plain": [
       "[[{2: 3}, (1+0j)], [{7: 2}, (-1+0j)]]"
      ]
     },
     "execution_count": 127,
     "metadata": {},
     "output_type": "execute_result"
    }
   ],
   "source": [
    "H = [[{0: 3, 5: 1, 7: 3}, 1+0j], [{0: 3, 5: 2, 7: 1}, 1+0j]]\n",
    "Us = find_rotation(H[0][0],2)\n",
    "print(Us)\n",
    "unitary_transform(Us,H)\n",
    "H"
   ]
  },
  {
   "cell_type": "markdown",
   "metadata": {},
   "source": [
    "###Compute and Control 2nd Order Perturbation\n",
    "Given the off-diagonal terms $\\Sigma_0=\\sum_{[\\mu]}h_{[\\mu]}\\sigma^{[\\mu]}$ and $H_0=h_0\\sigma^{3[0..]}$, the 2nd order perturbation is then given by:\n",
    "$$\\begin{split}\n",
    "H_2 &= \\frac{1}{2h_0^2} H_0\\Sigma_0^2 = \\frac{1}{2h_0} \\sigma^{3[0..]}\\Sigma_0^2\\\\\n",
    "&=\\Big(\\frac{1}{2h_0}\\sum_{[\\mu]}h_{[\\mu]}^2\\Big)\\sigma^{3[0..]}+ \\sum_{[\\mu]_1<[\\mu]_2}\\frac{h_{[\\mu]_1}h_{[\\mu]_2}}{h_0}\\;\\sigma^{3[0..]}\\,\\Re[\\sigma^{[\\mu]_1}\\sigma^{[\\mu]_2}].\n",
    "\\end{split}$$\n",
    "- the first term is a backward correction to the leading energy scale,\n",
    "- the second term generates new terms and should be controlled,\n",
    "- $\\Re$ of Pauli matrices is non-vanishing only of the matrices commute.\n",
    "\n",
    "The growth the Hamiltonian is controlled by:\n",
    "- energy scale truncation `min_scale`: terms with energy scale less then `min_scale` will be neglected,\n",
    "- term number truncation `max_rate`: the perturbed H contains at most `max_rate`$\\times$ number of $H_\\text{offdiag}$ terms."
   ]
  },
  {
   "cell_type": "code",
   "execution_count": 4,
   "metadata": {
    "collapsed": true
   },
   "outputs": [],
   "source": [
    "from itertools import combinations\n",
    "\"\"\" key functions for sorting \"\"\"\n",
    "def term_mat(term):\n",
    "    return tuple(term[0].items())\n",
    "def term_val(term):\n",
    "    return abs(term[1])\n",
    "\"\"\" cal perturbation Hamiltonian \"\"\"\n",
    "def perturbation(H_offdiag, h0, i_now, min_scale, max_rate):\n",
    "    # preselect pair of terms above min_scale\n",
    "    min_prod = abs(h0*min_scale)\n",
    "    H_prod = [[merge(term1[0], term2[0]), term1[1]*term2[1]/h0] \n",
    "              for (term1, term2) in combinations(H_offdiag, 2)\n",
    "              if abs(term1[1]*term2[1]) > min_prod]\n",
    "    # quench terms from anticommuting products\n",
    "    for term in H_prod:\n",
    "        if sum(1 for (i, (mu1, mu2)) in term[0]\n",
    "               if mu1 != 0 and mu2 != 0 and mu1 != mu2)%2: # if anticommute\n",
    "            term[1] = 0+0j # quench the coefficient\n",
    "    # sort by val\n",
    "    H_prod = sorted([[merged, val] for [merged, val] \n",
    "                     in H_prod if abs(val) > min_scale], key=term_val)\n",
    "    # term number truncation\n",
    "    max_len = round(max_rate*len(H_offdiag))\n",
    "    if len(H_prod) > max_len:\n",
    "        H_prod = H_prod[-max_len:]\n",
    "    # carryout the matrix product\n",
    "    for term in H_prod:\n",
    "        merged = [(i, DOT_RULES[mus]) for (i, mus) in term[0]]\n",
    "        term[0] = {i: mu for (i, (mu, val)) in merged if mu != 0}\n",
    "        mu_now = term[0].get(i_now,0)\n",
    "        if mu_now == 0:\n",
    "            term[0][i_now] = 3\n",
    "        else: # mu_now = 3\n",
    "            del term[0][i_now]\n",
    "        term[1] *= prod(val for (i, (mu, val)) in merged)\n",
    "    # the backward correction to the leading energy scale\n",
    "    H_prod.append([{i_now: 3}, sum(val**2 for [mat, val] in H_offdiag)/(2*h0)])\n",
    "    return H_prod"
   ]
  },
  {
   "cell_type": "markdown",
   "metadata": {},
   "source": [
    "##Spectrum Bifurcation RG\n",
    "Generic Hamiltonian: qubit models\n",
    "$$H=\\sum_{[\\mu]}h_{[\\mu]}\\sigma^{[\\mu]},$$\n",
    "where $\\sigma^{[\\mu]}=\\sigma^{\\mu_1}\\otimes\\sigma^{\\mu_2}\\otimes\\sigma^{\\mu_3}\\otimes\\cdots$ denotes the product of Pauli matrices (quantum gates). The key assumption is $h_{[\\mu]}$ should be sufficiently random."
   ]
  },
  {
   "cell_type": "markdown",
   "metadata": {},
   "source": [
    "###RG Kernel\n",
    "**Algorithm**:\n",
    "- Find leading energy scale\n",
    "- Find Clifford algebra rotation $R$ that\n",
    "  - diagonalize the leading energy scale\n",
    "  - at the same time transform the other terms in the Hamiltonian (note that the term ordering is lost in this step)\n",
    "- Gather diagonal and off-diagonal terms\n",
    "    $$H = H_0 + \\Delta_0 + \\Sigma_0$$\n",
    "   where $H_0^2 = h_0^2$, $H_0\\Delta_0 = \\Delta_0H_0$, $H_0\\Sigma_0 = -\\Sigma_0H_0$.\n",
    "  - diagonal terms goes to new Hamiltonian\n",
    "  - off-diagonal terms renormalized by 2nd order perturbation, which generates effective terms in the diagonal blocks.[1]\n",
    "    $$H = H_0 + \\Delta_0 + \\frac{1}{2h_0^2} H_0\\Sigma_0^2.$$\n",
    "    The perturbation can be carried out by the unitary transform\n",
    "    $$U = \\exp\\left(-\\frac{1}{2h_0^2}H_0\\Sigma_0\\right).$$\n"
   ]
  },
  {
   "cell_type": "code",
   "execution_count": 39,
   "metadata": {
    "collapsed": false
   },
   "outputs": [],
   "source": [
    "from copy import deepcopy\n",
    "\"\"\" SBRG class \"\"\"\n",
    "class SBRG:\n",
    "    def __init__(self, model):\n",
    "        self.tol = 1.e-8\n",
    "        self.max_rate = 2.\n",
    "        self.tot_bits = model['bits'] # total number of bits\n",
    "        self.tau_bits = 0 # number of tau bits that has been discovered\n",
    "        self.H = deepcopy(model['H']) # physical Hamiltonian\n",
    "        self.Heff = [] # effective Hamiltonian\n",
    "    \"\"\" one RG step forward \"\"\"\n",
    "    def next_step(self):\n",
    "        i_now = self.tau_bits\n",
    "        H_UV = self.H\n",
    "        if len(H_UV) == 0: # return if H = 0\n",
    "            self.tau_bits += 1\n",
    "            return H_UV\n",
    "        # find the leading energy scale\n",
    "        [mat_H0, h0] = max(H_UV, key=term_val)\n",
    "        min_scale = abs(h0*self.tol)\n",
    "         # diagonalize the leading term\n",
    "        Us = find_rotation(mat_H0, i_now)\n",
    "        # perform unitary transforms to the whole Hamiltonian\n",
    "        unitary_transform(Us, H_UV)\n",
    "        # and mark out diag and offdiag terms\n",
    "        H_gather = [(0 < term[0].get(i_now,0) < 3, term) for term in H_UV]\n",
    "        # off diagonal terms goes to H_offdiag\n",
    "        H_offdiag = [term for (is_offdiag, term) in H_gather \n",
    "                     if is_offdiag]\n",
    "        # H_prod = H_offdiag^2/(2*h0) -> 2nd order perturbation\n",
    "        H_prod = perturbation(H_offdiag, h0, i_now, min_scale, self.max_rate)\n",
    "        # add the 2nd order perturbation with the diag part of H\n",
    "        H_prod += [term for (is_offdiag, term) in H_gather \n",
    "                   if not is_offdiag]\n",
    "        # prepare to merge similar terms\n",
    "        H_prod.sort(key=term_mat) # strategy: merge by sorting\n",
    "        mat_last = {}\n",
    "        H_IR = []\n",
    "        for [mat, val] in H_prod: # loop of merging\n",
    "            if abs(val) > min_scale:\n",
    "                if mat != mat_last: # if mat is new\n",
    "                    H_IR.append([mat, val]) # add to H_IR\n",
    "                    mat_last = mat # update mat_last\n",
    "                else: # if mat == mat_last\n",
    "                    H_IR[-1][1] += val # add val to\n",
    "        # mark out identity terms in the remaining physical space\n",
    "        H_gather = [(all(False for i in term[0].keys() if i > i_now),\n",
    "                     term) for term in H_IR]\n",
    "        self.tau_bits = i_now + 1 # tau bits counter inc\n",
    "        self.H = [term for (iden, term) in H_gather if not iden]\n",
    "        self.Heff.extend([term for (iden, term) in H_gather if iden])\n",
    "        return self.H\n",
    "    \"\"\" RG flow \"\"\"\n",
    "    def flow(self, step = float('inf')):\n",
    "        if step > (self.tot_bits - self.tau_bits):\n",
    "            step = self.tot_bits - self.tau_bits\n",
    "        stp_count = 0\n",
    "        while (self.tau_bits < self.tot_bits and stp_count < step):\n",
    "            self.next_step()\n",
    "            stp_count += 1"
   ]
  },
  {
   "cell_type": "markdown",
   "metadata": {},
   "source": [
    "Test:"
   ]
  },
  {
   "cell_type": "code",
   "execution_count": 22,
   "metadata": {
    "collapsed": false
   },
   "outputs": [],
   "source": [
    "model = TFIsing(512, J=1,K=1,h=1,alpha_J=0.2,alpha_K=0.2,alpha_h=0.2)"
   ]
  },
  {
   "cell_type": "code",
   "execution_count": 23,
   "metadata": {
    "collapsed": false
   },
   "outputs": [],
   "source": [
    "system = SBRG(model)\n",
    "system.flow()"
   ]
  },
  {
   "cell_type": "markdown",
   "metadata": {},
   "source": [
    "Profiling:"
   ]
  },
  {
   "cell_type": "code",
   "execution_count": 25,
   "metadata": {
    "collapsed": false
   },
   "outputs": [],
   "source": [
    "%load_ext snakeviz"
   ]
  },
  {
   "cell_type": "code",
   "execution_count": 26,
   "metadata": {
    "collapsed": false
   },
   "outputs": [
    {
     "name": "stdout",
     "output_type": "stream",
     "text": [
      " \n",
      "*** Profile stats marshalled to file '/var/folders/tl/lwpcq5qj049ftcj7pvhkzv_h0000gn/T/tmpn_z1kc'. \n"
     ]
    }
   ],
   "source": [
    "system = SBRG(model)\n",
    "% snakeviz system.flow()"
   ]
  },
  {
   "cell_type": "markdown",
   "metadata": {},
   "source": [
    "Benchmark with Mathematica:"
   ]
  },
  {
   "cell_type": "code",
   "execution_count": 40,
   "metadata": {
    "collapsed": false
   },
   "outputs": [],
   "source": [
    "model = TFIsing(16, J=1,K=1,h=1,alpha_J=0.2,alpha_K=0.2,alpha_h=0.2)\n",
    "export('model', model)\n",
    "system = SBRG(model)\n",
    "system.flow()\n",
    "export('Heff',system.Heff)"
   ]
  },
  {
   "cell_type": "markdown",
   "metadata": {},
   "source": [
    "##Model Hamiltonians\n",
    "###Transverse Field Ising with Interaction\n",
    "For random $J_i$, $K_i$, $h_i$ drawn from a beta distribution,\n",
    "$$H=-\\sum_{i}J_i \\sigma_i^x\\sigma_{i+1}^x+K_i \\sigma_i^z\\sigma_{i+1}^z+h_i \\sigma_i^z.$$"
   ]
  },
  {
   "cell_type": "code",
   "execution_count": 6,
   "metadata": {
    "collapsed": false
   },
   "outputs": [],
   "source": [
    "import random\n",
    "\"\"\" H of TFIsing \"\"\"\n",
    "def TFIsing(L, **para):\n",
    "    # L - number of sites (assuming PBC)\n",
    "    # model - a dict of model parameters {J, alpha_J, K, alpha_K, h, alpha_h}\n",
    "    H = []\n",
    "    # translate over the lattice by deque rotation\n",
    "    H_append = H.append\n",
    "    rnd_beta = random.betavariate\n",
    "    for i in range(L):\n",
    "        H_append([{i: 1, (i+1)%L: 1}, (1+0j)*para['J']*rnd_beta(para['alpha_J'], 1)])\n",
    "        H_append([{i: 3, (i+1)%L: 3}, (1+0j)*para['K']*rnd_beta(para['alpha_K'], 1)])\n",
    "        H_append([{i: 3}, (1+0j)*para['h']*rnd_beta(para['alpha_h'], 1)])\n",
    "    H = [term for term in H if abs(term[1]) > 0]\n",
    "    return {'bits': L, 'H': H}"
   ]
  },
  {
   "cell_type": "markdown",
   "metadata": {},
   "source": [
    "##Toolbox\n",
    "###Data I/O\n",
    "JSON pickle: export to communicate with Mathematica"
   ]
  },
  {
   "cell_type": "code",
   "execution_count": 26,
   "metadata": {
    "collapsed": false
   },
   "outputs": [],
   "source": [
    "import jsonpickle\n",
    "def export(filename, obj):\n",
    "    with open(filename + '.json', 'w') as outfile:\n",
    "        outfile.write(jsonpickle.encode(obj))"
   ]
  },
  {
   "cell_type": "markdown",
   "metadata": {},
   "source": [
    "pickle: binary dump and load for python."
   ]
  },
  {
   "cell_type": "code",
   "execution_count": 37,
   "metadata": {
    "collapsed": false
   },
   "outputs": [],
   "source": [
    "import pickle\n",
    "def dump(filename, obj):\n",
    "    with open(filename + '.dat', 'bw') as outfile:\n",
    "        pickle.dump(obj, outfile)\n",
    "def load(filename):\n",
    "    with open(filename + '.dat', 'br') as infile:\n",
    "        return pickle.load(infile)"
   ]
  },
  {
   "cell_type": "markdown",
   "metadata": {},
   "source": [
    "###Visulization\n",
    "####Histogram"
   ]
  },
  {
   "cell_type": "code",
   "execution_count": 41,
   "metadata": {
    "collapsed": false
   },
   "outputs": [],
   "source": [
    "%matplotlib inline\n",
    "import matplotlib.pyplot as plt\n",
    "def hist_plot(data):\n",
    "    plt.hist(data)\n",
    "    plt.xlabel(\"Energy Scale\")\n",
    "    plt.ylabel(\"Frequency\")\n",
    "    plt.show()"
   ]
  },
  {
   "cell_type": "markdown",
   "metadata": {},
   "source": [
    "#Physics\n",
    "##Level Statistics\n",
    "###Flow of Energy Scale Distribution"
   ]
  },
  {
   "cell_type": "code",
   "execution_count": 43,
   "metadata": {
    "collapsed": false
   },
   "outputs": [
    {
     "data": {
      "image/png": "[encoded data removed]",
      "text/plain": [
       "<matplotlib.figure.Figure at 0x1057c9d90>"
      ]
     },
     "metadata": {},
     "output_type": "display_data"
    }
   ],
   "source": [
    "model = TFIsing(1024, J=1,K=1,h=1,alpha_J=1.,alpha_K=1.,alpha_h=1.)\n",
    "system = SBRG(model)\n",
    "hist_plot([abs(val) for (mat, val) in system.H])"
   ]
  },
  {
   "cell_type": "code",
   "execution_count": 44,
   "metadata": {
    "collapsed": false
   },
   "outputs": [
    {
     "name": "stdout",
     "output_type": "stream",
     "text": [
      "256\n"
     ]
    },
    {
     "data": {
      "image/png": "[encoded data removed]",
      "text/plain": [
       "<matplotlib.figure.Figure at 0x105484b90>"
      ]
     },
     "metadata": {},
     "output_type": "display_data"
    }
   ],
   "source": [
    "system.flow(256)\n",
    "print(system.tau_bits)\n",
    "hist_plot([abs(val) for (mat, val) in system.H])"
   ]
  },
  {
   "cell_type": "code",
   "execution_count": 45,
   "metadata": {
    "collapsed": false
   },
   "outputs": [
    {
     "name": "stdout",
     "output_type": "stream",
     "text": [
      "512\n"
     ]
    },
    {
     "data": {
      "image/png": "[encoded data removed]",
      "text/plain": [
       "<matplotlib.figure.Figure at 0x105750110>"
      ]
     },
     "metadata": {},
     "output_type": "display_data"
    }
   ],
   "source": [
    "system.flow(256)\n",
    "print(system.tau_bits)\n",
    "hist_plot([abs(val) for (mat, val) in system.H])"
   ]
  },
  {
   "cell_type": "code",
   "execution_count": 46,
   "metadata": {
    "collapsed": false
   },
   "outputs": [
    {
     "name": "stdout",
     "output_type": "stream",
     "text": [
      "768\n"
     ]
    },
    {
     "data": {
      "image/png": "[encoded data removed]",
      "text/plain": [
       "<matplotlib.figure.Figure at 0x105713a50>"
      ]
     },
     "metadata": {},
     "output_type": "display_data"
    }
   ],
   "source": [
    "system.flow(256)\n",
    "print(system.tau_bits)\n",
    "hist_plot([abs(val) for (mat, val) in system.H])"
   ]
  },
  {
   "cell_type": "code",
   "execution_count": 47,
   "metadata": {
    "collapsed": false
   },
   "outputs": [
    {
     "name": "stdout",
     "output_type": "stream",
     "text": [
      "896\n"
     ]
    },
    {
     "data": {
      "image/png": "[encoded data removed]",
      "text/plain": [
       "<matplotlib.figure.Figure at 0x105403750>"
      ]
     },
     "metadata": {},
     "output_type": "display_data"
    }
   ],
   "source": [
    "system.flow(128)\n",
    "print(system.tau_bits)\n",
    "hist_plot([abs(val) for (mat, val) in system.H])"
   ]
  },
  {
   "cell_type": "code",
   "execution_count": 48,
   "metadata": {
    "collapsed": false
   },
   "outputs": [
    {
     "name": "stdout",
     "output_type": "stream",
     "text": [
      "960\n"
     ]
    },
    {
     "data": {
      "image/png": "[encoded data removed]",
      "text/plain": [
       "<matplotlib.figure.Figure at 0x105484b10>"
      ]
     },
     "metadata": {},
     "output_type": "display_data"
    }
   ],
   "source": [
    "system.flow(64)\n",
    "print(system.tau_bits)\n",
    "hist_plot([abs(val) for (mat, val) in system.H])"
   ]
  },
  {
   "cell_type": "code",
   "execution_count": 49,
   "metadata": {
    "collapsed": true
   },
   "outputs": [],
   "source": [
    "system.flow()"
   ]
  },
  {
   "cell_type": "code",
   "execution_count": 51,
   "metadata": {
    "collapsed": false
   },
   "outputs": [],
   "source": [
    "dump('system1024',system)"
   ]
  },
  {
   "cell_type": "markdown",
   "metadata": {},
   "source": [
    "###Energy tensor distribution\n",
    "\n",
    "Distribution of $E_i$ (1st order):"
   ]
  },
  {
   "cell_type": "code",
   "execution_count": 54,
   "metadata": {
    "collapsed": false
   },
   "outputs": [
    {
     "data": {
      "image/png": "[encoded data removed]",
      "text/plain": [
       "<matplotlib.figure.Figure at 0x103bcb150>"
      ]
     },
     "metadata": {},
     "output_type": "display_data"
    }
   ],
   "source": [
    "hist_plot([abs(val) for [mat, val] in system.Heff if len(mat) == 1])"
   ]
  },
  {
   "cell_type": "markdown",
   "metadata": {},
   "source": [
    "Distribution of $E_{ij}$ (2nd order):"
   ]
  },
  {
   "cell_type": "code",
   "execution_count": 55,
   "metadata": {
    "collapsed": false
   },
   "outputs": [
    {
     "data": {
      "image/png": "[encoded data removed]",
      "text/plain": [
       "<matplotlib.figure.Figure at 0x105a7c210>"
      ]
     },
     "metadata": {},
     "output_type": "display_data"
    }
   ],
   "source": [
    "hist_plot([abs(val) for [mat, val] in system.Heff if len(mat) == 2])"
   ]
  },
  {
   "cell_type": "markdown",
   "metadata": {},
   "source": [
    "Distribution of $E_{ijk}$ (3rd order):"
   ]
  },
  {
   "cell_type": "code",
   "execution_count": 56,
   "metadata": {
    "collapsed": false
   },
   "outputs": [
    {
     "data": {
      "image/png": "[encoded data removed]",
      "text/plain": [
       "<matplotlib.figure.Figure at 0x1059cbc50>"
      ]
     },
     "metadata": {},
     "output_type": "display_data"
    }
   ],
   "source": [
    "hist_plot([abs(val) for [mat, val] in system.Heff if len(mat) == 3])"
   ]
  },
  {
   "cell_type": "markdown",
   "metadata": {},
   "source": [
    "Distribution of $E_{ijkl}$ (4th order):"
   ]
  },
  {
   "cell_type": "code",
   "execution_count": 57,
   "metadata": {
    "collapsed": false
   },
   "outputs": [
    {
     "data": {
      "image/png": "[encoded data removed]",
      "text/plain": [
       "<matplotlib.figure.Figure at 0x105bdc590>"
      ]
     },
     "metadata": {},
     "output_type": "display_data"
    }
   ],
   "source": [
    "hist_plot([abs(val) for [mat, val] in system.Heff if len(mat) == 4])"
   ]
  },
  {
   "cell_type": "code",
   "execution_count": null,
   "metadata": {
    "collapsed": true
   },
   "outputs": [],
   "source": []
  }
 ],
 "metadata": {
  "kernelspec": {
   "display_name": "Python 3",
   "language": "python",
   "name": "python3"
  },
  "language_info": {
   "codemirror_mode": {
    "name": "ipython",
    "version": 3
   },
   "file_extension": ".py",
   "mimetype": "text/x-python",
   "name": "python",
   "nbconvert_exporter": "python",
   "pygments_lexer": "ipython3",
   "version": "3.3.0"
  }
 },
 "nbformat": 4,
 "nbformat_minor": 0
}
