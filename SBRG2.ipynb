{
 "cells": [
  {
   "cell_type": "markdown",
   "metadata": {},
   "source": [
    "Initializations:"
   ]
  },
  {
   "cell_type": "code",
   "execution_count": 1,
   "metadata": {
    "collapsed": false
   },
   "outputs": [],
   "source": [
    "%reload_ext snakeviz\n",
    "%matplotlib inline\n",
    "%run SBRG2.py"
   ]
  },
  {
   "cell_type": "markdown",
   "metadata": {},
   "source": [
    "#Core\n",
    "##Pauli Algebra\n",
    "Pauli operator class. A Pauli operator is denoted as\n",
    "$$\\sigma=\\mathrm{i}^{x\\cdot z}\\prod_{i\\in Xs}X_i\\prod_{i\\in Zs}Z_i=\\mathrm{i}^{x\\cdot z}\\prod_{i}X_i^{x_i}Z_i^{z_i},$$\n",
    "where $x_i=\\delta(i\\in Xs)$, $z_i=\\delta(i\\in Zs)$ are vectors of 0,1, and $X_i$, $Z_i$ are the Pauli operator on site $i$."
   ]
  },
  {
   "cell_type": "markdown",
   "metadata": {},
   "source": [
    "Pauli operators can be created\n",
    "- from Xs, Zs lists: `Pauli(Xs, Zs)`,\n",
    "- or from dict of indices: `Pauli({i:mu, ...})`,\n",
    "- or from list of indices: `Pauli([m0, mu1, ...])`."
   ]
  },
  {
   "cell_type": "code",
   "execution_count": 2,
   "metadata": {
    "collapsed": false
   },
   "outputs": [
    {
     "data": {
      "text/plain": [
       "[<Xs:[0, 1] Zs:[1, 2]>, <Xs:[0, 1] Zs:[1, 2]>, <Xs:[0, 1] Zs:[1, 2]>]"
      ]
     },
     "execution_count": 2,
     "metadata": {},
     "output_type": "execute_result"
    }
   ],
   "source": [
    "[Pauli([0,1],[1,2]), Pauli({0:1,1:2,2:3}), Pauli([1,2,3])]"
   ]
  },
  {
   "cell_type": "markdown",
   "metadata": {
    "collapsed": true
   },
   "source": [
    "The commutativity of two Pauli operators can be checked by `is_commute`"
   ]
  },
  {
   "cell_type": "code",
   "execution_count": 3,
   "metadata": {
    "collapsed": false
   },
   "outputs": [
    {
     "data": {
      "text/plain": [
       "False"
      ]
     },
     "execution_count": 3,
     "metadata": {},
     "output_type": "execute_result"
    }
   ],
   "source": [
    "is_commute(Pauli([0,1,0]),Pauli([1,2,3]))"
   ]
  },
  {
   "cell_type": "markdown",
   "metadata": {},
   "source": [
    "Merge two Pauli operators by indices. Coefficients are not calculated here. The coefficient can be restored from the commutation relations later."
   ]
  },
  {
   "cell_type": "code",
   "execution_count": 4,
   "metadata": {
    "collapsed": false
   },
   "outputs": [
    {
     "data": {
      "text/plain": [
       "<Xs:[0] Zs:[1, 2]>"
      ]
     },
     "execution_count": 4,
     "metadata": {},
     "output_type": "execute_result"
    }
   ],
   "source": [
    "pdot(Pauli([0,1,0]),Pauli([1,2,3]))"
   ]
  },
  {
   "cell_type": "markdown",
   "metadata": {},
   "source": [
    "### Index Processing Unit (IPU)\n",
    "Pauli indices are prossed in Fortran object IPU. Set two index arrays A and B by `ipu.setab(A, B)`."
   ]
  },
  {
   "cell_type": "code",
   "execution_count": 2,
   "metadata": {
    "collapsed": false
   },
   "outputs": [
    {
     "name": "stdout",
     "output_type": "stream",
     "text": [
      "<Xs:[1, 2, 3, 4] Zs:[0, 1, 3]>\n"
     ]
    }
   ],
   "source": [
    "A = Pauli([3,2,1,2,1])\n",
    "print(A)\n",
    "ipu.setab(array(A.Xs), array(A.Zs))"
   ]
  },
  {
   "cell_type": "code",
   "execution_count": 3,
   "metadata": {
    "collapsed": false
   },
   "outputs": [
    {
     "name": "stdout",
     "output_type": "stream",
     "text": [
      "[1 2 3 4]\n",
      "[0 1 3]\n"
     ]
    }
   ],
   "source": [
    "print(ipu.a[:ipu.na])\n",
    "print(ipu.b[:ipu.nb])"
   ]
  },
  {
   "cell_type": "markdown",
   "metadata": {},
   "source": [
    "Count the number of overlap indices by `dups = ipu.overlap()`."
   ]
  },
  {
   "cell_type": "code",
   "execution_count": 4,
   "metadata": {
    "collapsed": false
   },
   "outputs": [
    {
     "data": {
      "text/plain": [
       "2"
      ]
     },
     "execution_count": 4,
     "metadata": {},
     "output_type": "execute_result"
    }
   ],
   "source": [
    "ipu.overlap()"
   ]
  },
  {
   "cell_type": "markdown",
   "metadata": {},
   "source": [
    "List operations\n",
    "- Merge indices by the method `ipu.merge()`, \n",
    "- Combine indices by the method `ipu.combine()`,\n",
    "- Intersect indices by the method `ipu.intersect()`.\n",
    "\n",
    "The result is stored in `ipu.c[:ipu.nc]`."
   ]
  },
  {
   "cell_type": "code",
   "execution_count": 3,
   "metadata": {
    "collapsed": false
   },
   "outputs": [
    {
     "name": "stdout",
     "output_type": "stream",
     "text": [
      "[0 2 4]\n",
      "[0 1 2 3 4]\n",
      "[1 3]\n"
     ]
    }
   ],
   "source": [
    "ipu.merge()\n",
    "print(ipu.c[:ipu.nc])\n",
    "ipu.combine()\n",
    "print(ipu.c[:ipu.nc])\n",
    "ipu.intersect()\n",
    "print(ipu.c[:ipu.nc])"
   ]
  },
  {
   "cell_type": "markdown",
   "metadata": {},
   "source": [
    "###Pauli Monomial\n",
    "A term of Pauli operator `Term.mat` with a constant multiple `Term.val`."
   ]
  },
  {
   "cell_type": "code",
   "execution_count": 5,
   "metadata": {
    "collapsed": false
   },
   "outputs": [
    {
     "data": {
      "text/plain": [
       "[1.0 <Xs:[0, 1] Zs:[1]>, -3.2 <Xs:[0, 1] Zs:[1]>]"
      ]
     },
     "execution_count": 5,
     "metadata": {},
     "output_type": "execute_result"
    }
   ],
   "source": [
    "[Term(Pauli([1,2])),Term(Pauli([1,2]),-3.2)]"
   ]
  },
  {
   "cell_type": "markdown",
   "metadata": {},
   "source": [
    "Pauli monomial can be negated simpliy:"
   ]
  },
  {
   "cell_type": "code",
   "execution_count": 6,
   "metadata": {
    "collapsed": false
   },
   "outputs": [
    {
     "data": {
      "text/plain": [
       "-1.0 <Xs:[0, 1] Zs:[1]>"
      ]
     },
     "execution_count": 6,
     "metadata": {},
     "output_type": "execute_result"
    }
   ],
   "source": [
    "-Term(Pauli([1,2]))"
   ]
  },
  {
   "cell_type": "markdown",
   "metadata": {},
   "source": [
    "Two Pauli monomials are compared by and only by their Pauli operators:"
   ]
  },
  {
   "cell_type": "code",
   "execution_count": 7,
   "metadata": {
    "collapsed": false
   },
   "outputs": [
    {
     "name": "stdout",
     "output_type": "stream",
     "text": [
      "True\n",
      "True\n"
     ]
    }
   ],
   "source": [
    "print(Term(Pauli([1,2]),2.) == Term(Pauli([1,2]),1.))\n",
    "print(Term(Pauli([1,1]),2.) < Term(Pauli([1,2]),1.))"
   ]
  },
  {
   "cell_type": "markdown",
   "metadata": {},
   "source": [
    "Consider $\\sigma_A=\\mathrm{i}^{x_A\\cdot z_A} X_A Z_A$, $\\sigma_B=\\mathrm{i}^{x_B\\cdot z_B} X_B Z_B$, then the product reads:\n",
    "$$\\sigma_A\\sigma_B=\\mathrm{i}^{x_A\\cdot z_A+x_B\\cdot z_B+2 z_A\\cdot x_B}\\quad (X_A X_B) (Z_A Z_B)=\\mathrm{i}^{x_A\\cdot z_A+x_B\\cdot z_B-x_C\\cdot z_C+2 z_A\\cdot x_B}\\quad \\mathrm{i}^{x_C\\cdot z_C}X_C Z_C=\\mathrm{i}^{n^{C}_{AB}}\\; \\sigma_C,$$\n",
    "where $X_C=X_AX_B$, $Z_C=Z_AZ_B$ and $z_C = (z_A+z_B)\\mod 2$. The power of $\\mathrm{i}$ is\n",
    "$$n^{C}_{AB}=x_A\\cdot z_A+x_B\\cdot z_B-x_C\\cdot z_C+2 z_A\\cdot x_B$$"
   ]
  },
  {
   "cell_type": "code",
   "execution_count": 11,
   "metadata": {
    "collapsed": false
   },
   "outputs": [
    {
     "data": {
      "text/plain": [
       "1.0 <Xs:[0, 1] Zs:[0]>"
      ]
     },
     "execution_count": 11,
     "metadata": {},
     "output_type": "execute_result"
    }
   ],
   "source": [
    "dot(Term(Pauli([1,2])),Term(Pauli([3,3])))"
   ]
  },
  {
   "cell_type": "code",
   "execution_count": 9,
   "metadata": {
    "collapsed": false
   },
   "outputs": [
    {
     "data": {
      "text/plain": [
       "-1.0 <Xs:[0] Zs:[1]>"
      ]
     },
     "execution_count": 9,
     "metadata": {},
     "output_type": "execute_result"
    }
   ],
   "source": [
    "idot(Term(Pauli([2,0])),Term(Pauli([3,3])))"
   ]
  },
  {
   "cell_type": "markdown",
   "metadata": {},
   "source": [
    "###Find Clifford Rotation\n",
    "`findR(A, phybits)` finds the Clifford rotations to diagonalize the Pauli operator `A` in the physical qubits specified by the set `phybits`."
   ]
  },
  {
   "cell_type": "code",
   "execution_count": 8,
   "metadata": {
    "collapsed": false
   },
   "outputs": [
    {
     "name": "stdout",
     "output_type": "stream",
     "text": [
      "<Xs:[] Zs:[2]>\n"
     ]
    },
    {
     "data": {
      "text/plain": [
       "[]"
      ]
     },
     "execution_count": 8,
     "metadata": {},
     "output_type": "execute_result"
    }
   ],
   "source": [
    "A = Pauli([0,0,3,0,0])\n",
    "print(A)\n",
    "findR(A,{1,2,3})"
   ]
  },
  {
   "cell_type": "markdown",
   "metadata": {},
   "source": [
    "##Pauli Polynomial\n",
    "Pauli polynomial `Poly` is a sum of Pauli monomial terms, with additional data keeping the order of Pauli operators and values. It can be created from a list of terms."
   ]
  },
  {
   "cell_type": "code",
   "execution_count": 9,
   "metadata": {
    "collapsed": false
   },
   "outputs": [],
   "source": [
    "H = Poly([Term(Pauli([1,3,0]),1.0),\n",
    "      Term(Pauli([0,1,1]),0.5),\n",
    "      Term(Pauli([3,0,0]),0.2),\n",
    "      Term(Pauli([0,3,3]),0.8)])"
   ]
  },
  {
   "cell_type": "code",
   "execution_count": 10,
   "metadata": {
    "collapsed": false
   },
   "outputs": [
    {
     "data": {
      "text/plain": [
       "[0.2 <Xs:[] Zs:[0]>,\n",
       " 0.8 <Xs:[] Zs:[1, 2]>,\n",
       " 1.0 <Xs:[0] Zs:[1]>,\n",
       " 0.5 <Xs:[1, 2] Zs:[]>]"
      ]
     },
     "execution_count": 10,
     "metadata": {},
     "output_type": "execute_result"
    }
   ],
   "source": [
    "H.terms"
   ]
  },
  {
   "cell_type": "code",
   "execution_count": 11,
   "metadata": {
    "collapsed": false
   },
   "outputs": [
    {
     "data": {
      "text/plain": [
       "[1.0 <Xs:[0] Zs:[1]>,\n",
       " 0.8 <Xs:[] Zs:[1, 2]>,\n",
       " 0.5 <Xs:[1, 2] Zs:[]>,\n",
       " 0.2 <Xs:[] Zs:[0]>]"
      ]
     },
     "execution_count": 11,
     "metadata": {},
     "output_type": "execute_result"
    }
   ],
   "source": [
    "H.descending()"
   ]
  },
  {
   "cell_type": "code",
   "execution_count": 12,
   "metadata": {
    "collapsed": false
   },
   "outputs": [
    {
     "data": {
      "text/plain": [
       "{0: {0.2 <Xs:[] Zs:[0]>, 1.0 <Xs:[0] Zs:[1]>},\n",
       " 1: {0.8 <Xs:[] Zs:[1, 2]>, 1.0 <Xs:[0] Zs:[1]>, 0.5 <Xs:[1, 2] Zs:[]>},\n",
       " 2: {0.8 <Xs:[] Zs:[1, 2]>, 0.5 <Xs:[1, 2] Zs:[]>}}"
      ]
     },
     "execution_count": 12,
     "metadata": {},
     "output_type": "execute_result"
    }
   ],
   "source": [
    "H.imap"
   ]
  },
  {
   "cell_type": "code",
   "execution_count": 21,
   "metadata": {
    "collapsed": false
   },
   "outputs": [
    {
     "name": "stdout",
     "output_type": "stream",
     "text": [
      "-1.0 <Xs:[0] Zs:[0, 1]>\n"
     ]
    }
   ],
   "source": [
    "Rs = Term(Pauli([0],[0,1]),-1.)\n",
    "print(Rs)"
   ]
  },
  {
   "cell_type": "code",
   "execution_count": 14,
   "metadata": {
    "collapsed": false
   },
   "outputs": [],
   "source": [
    "H.forward(Rs)"
   ]
  },
  {
   "cell_type": "code",
   "execution_count": 15,
   "metadata": {
    "collapsed": false
   },
   "outputs": [
    {
     "name": "stdout",
     "output_type": "stream",
     "text": [
      "((), (0,)) ((), (0,))\n"
     ]
    }
   ],
   "source": [
    "H + [Term(Pauli([],[0]),-0.1)]"
   ]
  },
  {
   "cell_type": "code",
   "execution_count": 16,
   "metadata": {
    "collapsed": false
   },
   "outputs": [
    {
     "data": {
      "text/plain": [
       "[0.9 <Xs:[] Zs:[0]>,\n",
       " 0.8 <Xs:[] Zs:[1, 2]>,\n",
       " -0.2 <Xs:[0] Zs:[1]>,\n",
       " -0.5 <Xs:[0, 1, 2] Zs:[0, 1]>]"
      ]
     },
     "execution_count": 16,
     "metadata": {},
     "output_type": "execute_result"
    }
   ],
   "source": [
    "H.terms"
   ]
  },
  {
   "cell_type": "code",
   "execution_count": 17,
   "metadata": {
    "collapsed": false
   },
   "outputs": [
    {
     "data": {
      "text/plain": [
       "{0: {0.9 <Xs:[] Zs:[0]>, -0.2 <Xs:[0] Zs:[1]>, -0.5 <Xs:[0, 1, 2] Zs:[0, 1]>},\n",
       " 1: {0.8 <Xs:[] Zs:[1, 2]>,\n",
       "  -0.2 <Xs:[0] Zs:[1]>,\n",
       "  -0.5 <Xs:[0, 1, 2] Zs:[0, 1]>},\n",
       " 2: {0.8 <Xs:[] Zs:[1, 2]>, -0.5 <Xs:[0, 1, 2] Zs:[0, 1]>}}"
      ]
     },
     "execution_count": 17,
     "metadata": {},
     "output_type": "execute_result"
    }
   ],
   "source": [
    "H.imap"
   ]
  },
  {
   "cell_type": "code",
   "execution_count": 18,
   "metadata": {
    "collapsed": false
   },
   "outputs": [],
   "source": [
    "H.backward(Rs)"
   ]
  },
  {
   "cell_type": "code",
   "execution_count": 19,
   "metadata": {
    "collapsed": false
   },
   "outputs": [
    {
     "data": {
      "text/plain": [
       "[0.2 <Xs:[] Zs:[0]>,\n",
       " 0.8 <Xs:[] Zs:[1, 2]>,\n",
       " 0.9 <Xs:[0] Zs:[1]>,\n",
       " 0.5 <Xs:[1, 2] Zs:[]>]"
      ]
     },
     "execution_count": 19,
     "metadata": {},
     "output_type": "execute_result"
    }
   ],
   "source": [
    "H.terms"
   ]
  },
  {
   "cell_type": "code",
   "execution_count": 20,
   "metadata": {
    "collapsed": false
   },
   "outputs": [
    {
     "data": {
      "text/plain": [
       "{0: {0.2 <Xs:[] Zs:[0]>, 0.9 <Xs:[0] Zs:[1]>},\n",
       " 1: {0.8 <Xs:[] Zs:[1, 2]>, 0.9 <Xs:[0] Zs:[1]>, 0.5 <Xs:[1, 2] Zs:[]>},\n",
       " 2: {0.8 <Xs:[] Zs:[1, 2]>, 0.5 <Xs:[1, 2] Zs:[]>}}"
      ]
     },
     "execution_count": 20,
     "metadata": {},
     "output_type": "execute_result"
    }
   ],
   "source": [
    "H.imap"
   ]
  },
  {
   "cell_type": "markdown",
   "metadata": {},
   "source": [
    "## SBRG"
   ]
  },
  {
   "cell_type": "code",
   "execution_count": 16,
   "metadata": {
    "collapsed": true
   },
   "outputs": [],
   "source": [
    "class SBRG:\n",
    "    def __init__(self, model):\n",
    "        self.tol = 1.e-8\n",
    "        self.max_rate = 2.\n",
    "        self.L = model.L\n",
    "        self.H = Poly(model.terms)\n",
    "        self.EHM = []\n",
    "        self.phybits = list(range(self.L))\n",
    "        self.bit = 0\n",
    "        self.trash = []\n",
    "    def _findR(self, mat):\n",
    "        if len(mat.Xs) > 0: # if X or Y exists, use it to pivot the rotation\n",
    "            self.bit = mat.Xs[0] # take first off-diag qubit\n",
    "            return [idot(Term(Pauli([],[self.bit])), Term(mat))]\n",
    "        else: # if only Z\n",
    "            if len(mat.Zs) > 1:\n",
    "                for self.bit in mat.Zs: # find first Z in phybits\n",
    "                    if (self.bit in self.phybits):\n",
    "                        tmp = Term(Pauli([self.bit],[])) # set intermediate term\n",
    "                        return [idot(tmp, Term(mat)), idot(Term(Pauli([],[self.bit])), tmp)]\n",
    "            elif len(mat.Zs) == 1:\n",
    "                self.bit = mat.Zs[0]\n",
    "        return []\n",
    "    def _perturbation(self, H0, offdiag):\n",
    "        pass\n",
    "    def _nextstep(self):\n",
    "        if len(self.phybits) == 0: # return if no physical bits\n",
    "            return self\n",
    "        # get leading energy scale\n",
    "        H0 = self.H.UVscale\n",
    "        if abs(H0.val) == 0.: # if leading scale vanishes\n",
    "            self.phybits = [] # quench physical space\n",
    "            return self\n",
    "        # find Clifford rotations\n",
    "        Rs = self._findR(H0.mat)\n",
    "        self.EHM.extend(Rs) # add to EHM\n",
    "        self.H.forward(Rs) # apply to H\n",
    "        offdiag = [term for term in self.H.imap[self.bit] if self.bit in term.mat.Xs]\n",
    "        perturbation(H0, offdiag)"
   ]
  },
  {
   "cell_type": "code",
   "execution_count": 23,
   "metadata": {
    "collapsed": true
   },
   "outputs": [],
   "source": []
  },
  {
   "cell_type": "code",
   "execution_count": 17,
   "metadata": {
    "collapsed": false
   },
   "outputs": [],
   "source": [
    "random.seed(2)\n",
    "system = SBRG(TFIsing(8,J=1.,K=1.,h=1.,alpha=1.))"
   ]
  },
  {
   "cell_type": "code",
   "execution_count": 18,
   "metadata": {
    "collapsed": false
   },
   "outputs": [
    {
     "name": "stdout",
     "output_type": "stream",
     "text": [
      "[0.3312296038076123 <Xs:[5, 6, 7] Zs:[5, 6]>, 0.8941609955139828 <Xs:[4, 5] Zs:[6]>]\n"
     ]
    }
   ],
   "source": [
    "system._nextstep()"
   ]
  },
  {
   "cell_type": "code",
   "execution_count": 15,
   "metadata": {
    "collapsed": false
   },
   "outputs": [
    {
     "data": {
      "text/plain": [
       "0.998046196887083 <Xs:[] Zs:[5]>"
      ]
     },
     "execution_count": 15,
     "metadata": {},
     "output_type": "execute_result"
    }
   ],
   "source": [
    "system.H.UVscale"
   ]
  },
  {
   "cell_type": "code",
   "execution_count": 8,
   "metadata": {
    "collapsed": false
   },
   "outputs": [
    {
     "data": {
      "text/plain": [
       "[1.0 <Xs:[5] Zs:[5, 6]>, -1.0 <Xs:[5] Zs:[5]>]"
      ]
     },
     "execution_count": 8,
     "metadata": {},
     "output_type": "execute_result"
    }
   ],
   "source": [
    "system.EHM"
   ]
  },
  {
   "cell_type": "code",
   "execution_count": 11,
   "metadata": {
    "collapsed": false
   },
   "outputs": [
    {
     "data": {
      "text/plain": [
       "{0: {0.36958493230522654 <Xs:[] Zs:[0]>,\n",
       "  0.5380200687341565 <Xs:[] Zs:[0, 1]>,\n",
       "  0.020838411395880302 <Xs:[] Zs:[0, 7]>,\n",
       "  0.45625696845938785 <Xs:[0, 1] Zs:[]>,\n",
       "  0.9818507992081988 <Xs:[0, 7] Zs:[]>},\n",
       " 1: {0.5380200687341565 <Xs:[] Zs:[0, 1]>,\n",
       "  0.2274901235770828 <Xs:[] Zs:[1]>,\n",
       "  0.5007067613106101 <Xs:[] Zs:[1, 2]>,\n",
       "  0.45625696845938785 <Xs:[0, 1] Zs:[]>,\n",
       "  0.25402820954890987 <Xs:[1, 2] Zs:[]>},\n",
       " 2: {0.5007067613106101 <Xs:[] Zs:[1, 2]>,\n",
       "  0.07863267363247047 <Xs:[] Zs:[2]>,\n",
       "  0.9842381317519938 <Xs:[] Zs:[2, 3]>,\n",
       "  0.25402820954890987 <Xs:[1, 2] Zs:[]>,\n",
       "  0.47459746510478773 <Xs:[2, 3] Zs:[]>},\n",
       " 3: {0.9842381317519938 <Xs:[] Zs:[2, 3]>,\n",
       "  0.4009793653291901 <Xs:[] Zs:[3]>,\n",
       "  0.480551921518253 <Xs:[] Zs:[3, 4]>,\n",
       "  0.47459746510478773 <Xs:[2, 3] Zs:[]>,\n",
       "  0.3810229403594042 <Xs:[3, 4] Zs:[]>},\n",
       " 4: {0.480551921518253 <Xs:[] Zs:[3, 4]>,\n",
       "  0.27870080758089066 <Xs:[] Zs:[4]>,\n",
       "  0.5261969973075329 <Xs:[] Zs:[4, 5, 6]>,\n",
       "  0.3810229403594042 <Xs:[3, 4] Zs:[]>,\n",
       "  0.8941609955139828 <Xs:[4, 5] Zs:[6]>},\n",
       " 5: {0.5261969973075329 <Xs:[] Zs:[4, 5, 6]>,\n",
       "  0.998046196887083 <Xs:[] Zs:[5]>,\n",
       "  0.18767130561049952 <Xs:[] Zs:[5, 6]>,\n",
       "  0.8941609955139828 <Xs:[4, 5] Zs:[6]>,\n",
       "  0.3312296038076123 <Xs:[5, 6, 7] Zs:[5, 6]>,\n",
       "  0.36084762036462875 <Xs:[6] Zs:[5]>},\n",
       " 6: {0.5261969973075329 <Xs:[] Zs:[4, 5, 6]>,\n",
       "  0.18767130561049952 <Xs:[] Zs:[5, 6]>,\n",
       "  0.5341486620213128 <Xs:[] Zs:[6]>,\n",
       "  0.7589219064115975 <Xs:[] Zs:[6, 7]>,\n",
       "  0.8941609955139828 <Xs:[4, 5] Zs:[6]>,\n",
       "  0.3312296038076123 <Xs:[5, 6, 7] Zs:[5, 6]>,\n",
       "  0.36084762036462875 <Xs:[6] Zs:[5]>},\n",
       " 7: {0.020838411395880302 <Xs:[] Zs:[0, 7]>,\n",
       "  0.7589219064115975 <Xs:[] Zs:[6, 7]>,\n",
       "  0.4571708593416736 <Xs:[] Zs:[7]>,\n",
       "  0.9818507992081988 <Xs:[0, 7] Zs:[]>,\n",
       "  0.3312296038076123 <Xs:[5, 6, 7] Zs:[5, 6]>}}"
      ]
     },
     "execution_count": 11,
     "metadata": {},
     "output_type": "execute_result"
    }
   ],
   "source": [
    "system.H.imap"
   ]
  },
  {
   "cell_type": "code",
   "execution_count": null,
   "metadata": {
    "collapsed": true
   },
   "outputs": [],
   "source": []
  }
 ],
 "metadata": {
  "kernelspec": {
   "display_name": "Python 3",
   "language": "python",
   "name": "python3"
  },
  "language_info": {
   "codemirror_mode": {
    "name": "ipython",
    "version": 3
   },
   "file_extension": ".py",
   "mimetype": "text/x-python",
   "name": "python",
   "nbconvert_exporter": "python",
   "pygments_lexer": "ipython3",
   "version": "3.3.0"
  }
 },
 "nbformat": 4,
 "nbformat_minor": 0
}
