{
 "cells": [
  {
   "cell_type": "markdown",
   "metadata": {},
   "source": [
    "Initializations:"
   ]
  },
  {
   "cell_type": "code",
   "execution_count": 281,
   "metadata": {
    "collapsed": false
   },
   "outputs": [],
   "source": [
    "%reload_ext snakeviz\n",
    "%matplotlib inline\n",
    "%run SBRG2.py"
   ]
  },
  {
   "cell_type": "markdown",
   "metadata": {},
   "source": [
    "#Core\n",
    "##Pauli Algebra\n",
    "Pauli matrix class. A Pauli matrix is denoted as\n",
    "$$\\sigma=\\mathrm{i}^{x\\cdot z}\\prod_{i\\in Xs}X_i\\prod_{i\\in Zs}Z_i=\\mathrm{i}^{x\\cdot z}\\prod_{i}X_i^{x_i}Z_i^{z_i},$$\n",
    "where $x_i=\\delta(i\\in Xs)$, $z_i=\\delta(i\\in Zs)$ are vectors of 0,1, and $X_i$, $Z_i$ are the Pauli matrix on site $i$."
   ]
  },
  {
   "cell_type": "markdown",
   "metadata": {},
   "source": [
    "Pauli matrices can be created by `mkMat`\n",
    "- from Xs, Zs sets: `mkMat(Xs, Zs)`,\n",
    "- or from dict of indices: `mkMat({i:mu, ...})`,\n",
    "- or from list of indices: `mkMat([m0, mu1, ...])`."
   ]
  },
  {
   "cell_type": "code",
   "execution_count": 252,
   "metadata": {
    "collapsed": false
   },
   "outputs": [
    {
     "data": {
      "text/plain": [
       "[<Xs:[0, 1] Zs:[1, 2]>, <Xs:[0, 1] Zs:[1, 2]>, <Xs:[0, 1] Zs:[1, 2]>]"
      ]
     },
     "execution_count": 252,
     "metadata": {},
     "output_type": "execute_result"
    }
   ],
   "source": [
    "[mkMat({0,1},{1,2}), mkMat({0:1,1:2,2:3}), mkMat([1,2,3])]"
   ]
  },
  {
   "cell_type": "markdown",
   "metadata": {},
   "source": [
    "`Mat` is hashable and can be compared."
   ]
  },
  {
   "cell_type": "code",
   "execution_count": 248,
   "metadata": {
    "collapsed": false
   },
   "outputs": [
    {
     "name": "stdout",
     "output_type": "stream",
     "text": [
      "6795291966596493067\n"
     ]
    },
    {
     "data": {
      "text/plain": [
       "True"
      ]
     },
     "execution_count": 248,
     "metadata": {},
     "output_type": "execute_result"
    }
   ],
   "source": [
    "print(hash(mkMat()))\n",
    "mkMat() == mkMat([])"
   ]
  },
  {
   "cell_type": "markdown",
   "metadata": {
    "collapsed": true
   },
   "source": [
    "The commutativity of two Pauli operators can be checked by `is_commute`"
   ]
  },
  {
   "cell_type": "code",
   "execution_count": 249,
   "metadata": {
    "collapsed": false
   },
   "outputs": [
    {
     "data": {
      "text/plain": [
       "False"
      ]
     },
     "execution_count": 249,
     "metadata": {},
     "output_type": "execute_result"
    }
   ],
   "source": [
    "is_commute(mkMat([0,1,0]),mkMat([1,2,3]))"
   ]
  },
  {
   "cell_type": "markdown",
   "metadata": {},
   "source": [
    "Merge two Pauli operators by indices. Coefficients are not calculated here. The coefficient can be restored from the commutation relations later."
   ]
  },
  {
   "cell_type": "code",
   "execution_count": 250,
   "metadata": {
    "collapsed": false
   },
   "outputs": [
    {
     "data": {
      "text/plain": [
       "<Xs:[0] Zs:[1, 2]>"
      ]
     },
     "execution_count": 250,
     "metadata": {},
     "output_type": "execute_result"
    }
   ],
   "source": [
    "pdot(mkMat([0,1,0]),mkMat([1,2,3]))"
   ]
  },
  {
   "cell_type": "markdown",
   "metadata": {},
   "source": [
    "###Pauli Monomial\n",
    "A term of Pauli operator `Term.mat` with a constant multiple `Term.val`."
   ]
  },
  {
   "cell_type": "code",
   "execution_count": 255,
   "metadata": {
    "collapsed": false
   },
   "outputs": [
    {
     "data": {
      "text/plain": [
       "[1.0 <Xs:[] Zs:[]>, 1.0 <Xs:[0, 1] Zs:[1]>, -3.2 <Xs:[0, 1] Zs:[1]>]"
      ]
     },
     "execution_count": 255,
     "metadata": {},
     "output_type": "execute_result"
    }
   ],
   "source": [
    "[Term(), Term(mkMat([1,2])),Term(mkMat([1,2]),-3.2)]"
   ]
  },
  {
   "cell_type": "markdown",
   "metadata": {},
   "source": [
    "Consider $\\sigma_A=\\mathrm{i}^{x_A\\cdot z_A} X_A Z_A$, $\\sigma_B=\\mathrm{i}^{x_B\\cdot z_B} X_B Z_B$, then the product reads:\n",
    "$$\\sigma_A\\sigma_B=\\mathrm{i}^{x_A\\cdot z_A+x_B\\cdot z_B+2 z_A\\cdot x_B}\\quad (X_A X_B) (Z_A Z_B)=\\mathrm{i}^{x_A\\cdot z_A+x_B\\cdot z_B-x_C\\cdot z_C+2 z_A\\cdot x_B}\\quad \\mathrm{i}^{x_C\\cdot z_C}X_C Z_C=\\mathrm{i}^{n^{C}_{AB}}\\; \\sigma_C,$$\n",
    "where $X_C=X_AX_B$, $Z_C=Z_AZ_B$ and $z_C = (z_A+z_B)\\mod 2$. The power of $\\mathrm{i}$ is\n",
    "$$n^{C}_{AB}=x_A\\cdot z_A+x_B\\cdot z_B-x_C\\cdot z_C+2 z_A\\cdot x_B$$"
   ]
  },
  {
   "cell_type": "code",
   "execution_count": 256,
   "metadata": {
    "collapsed": false
   },
   "outputs": [
    {
     "data": {
      "text/plain": [
       "1.0 <Xs:[0, 1] Zs:[0]>"
      ]
     },
     "execution_count": 256,
     "metadata": {},
     "output_type": "execute_result"
    }
   ],
   "source": [
    "dot(Term(mkMat([1,2])),Term(mkMat([3,3])))"
   ]
  },
  {
   "cell_type": "code",
   "execution_count": 257,
   "metadata": {
    "collapsed": false
   },
   "outputs": [
    {
     "data": {
      "text/plain": [
       "-1.0 <Xs:[0] Zs:[1]>"
      ]
     },
     "execution_count": 257,
     "metadata": {},
     "output_type": "execute_result"
    }
   ],
   "source": [
    "idot(Term(mkMat([2,0])),Term(mkMat([3,3])))"
   ]
  },
  {
   "cell_type": "markdown",
   "metadata": {},
   "source": [
    "##Hamiltonian\n",
    "Hamiltonian `Ham` is a sum of Pauli monomial terms. It can be created from a list of terms."
   ]
  },
  {
   "cell_type": "code",
   "execution_count": 258,
   "metadata": {
    "collapsed": false
   },
   "outputs": [
    {
     "data": {
      "text/plain": [
       "[1.0 <Xs:[0] Zs:[1]>, 0.8 <Xs:[] Zs:[1, 2]>, 0.5 <Xs:[1, 2] Zs:[]>, 0.2 <Xs:[] Zs:[0]>]"
      ]
     },
     "execution_count": 258,
     "metadata": {},
     "output_type": "execute_result"
    }
   ],
   "source": [
    "H = Ham(\n",
    "    [Term(mkMat([0,1,1]),0.5),\n",
    "     Term(mkMat([3,0,0]),0.2),\n",
    "     Term(mkMat([0,3,3]),0.8),\n",
    "     Term(mkMat([1,3,0]),1.0)])\n",
    "H"
   ]
  },
  {
   "cell_type": "code",
   "execution_count": 259,
   "metadata": {
    "collapsed": false
   },
   "outputs": [
    {
     "data": {
      "text/plain": [
       "[1.0 <Xs:[] Zs:[0]>, 0.8 <Xs:[] Zs:[1, 2]>, -0.5 <Xs:[0, 1, 2] Zs:[0, 1]>, -0.2 <Xs:[0] Zs:[1]>]"
      ]
     },
     "execution_count": 259,
     "metadata": {},
     "output_type": "execute_result"
    }
   ],
   "source": [
    "H.forward([Term(mkMat([0],[0,1]),-1.)])\n",
    "H"
   ]
  },
  {
   "cell_type": "code",
   "execution_count": 260,
   "metadata": {
    "collapsed": false
   },
   "outputs": [
    {
     "data": {
      "text/plain": [
       "[1.0 <Xs:[] Zs:[0]>, 0.8 <Xs:[] Zs:[1, 2]>, -0.5 <Xs:[0, 1, 2] Zs:[0, 1]>, -0.1 <Xs:[0] Zs:[1]>]"
      ]
     },
     "execution_count": 260,
     "metadata": {},
     "output_type": "execute_result"
    }
   ],
   "source": [
    "H.extend([Term(mkMat([1,3,0]),0.1)])\n",
    "H"
   ]
  },
  {
   "cell_type": "code",
   "execution_count": 5,
   "metadata": {
    "collapsed": false
   },
   "outputs": [
    {
     "data": {
      "text/plain": [
       "[1.0 <Xs:[] Zs:[0]>, -0.1 <Xs:[0] Zs:[1]>, -0.5 <Xs:[0, 1, 2] Zs:[0, 1]>]"
      ]
     },
     "execution_count": 5,
     "metadata": {},
     "output_type": "execute_result"
    }
   ],
   "source": [
    "H.remove(H.terms[1])\n",
    "H"
   ]
  },
  {
   "cell_type": "code",
   "execution_count": 261,
   "metadata": {
    "collapsed": false
   },
   "outputs": [
    {
     "name": "stdout",
     "output_type": "stream",
     "text": [
      "[True, True, True, True]\n",
      "[[True, True, True], [True, True, True], [True, True]]\n",
      "[0, 1, 2, 3]\n"
     ]
    }
   ],
   "source": [
    "print([H.mats[term.mat] == term for term in H])\n",
    "print([[i in (term.mat.Xs | term.mat.Zs) for term in terms] for (i, terms) in H.imap.items()])\n",
    "print([term.pos for term in H])"
   ]
  },
  {
   "cell_type": "markdown",
   "metadata": {},
   "source": [
    "## SBRG"
   ]
  },
  {
   "cell_type": "markdown",
   "metadata": {},
   "source": [
    "Profiling"
   ]
  },
  {
   "cell_type": "code",
   "execution_count": 286,
   "metadata": {
    "collapsed": false
   },
   "outputs": [
    {
     "name": "stdout",
     "output_type": "stream",
     "text": [
      " \n",
      "*** Profile stats marshalled to file '/var/folders/tl/lwpcq5qj049ftcj7pvhkzv_h0000gn/T/tmpe9yw_a'. \n"
     ]
    }
   ],
   "source": [
    "system = SBRG(TFIsing(512,J=2.,K=1.,h=1.,alpha=1.))\n",
    "% snakeviz system.flow()"
   ]
  },
  {
   "cell_type": "markdown",
   "metadata": {},
   "source": [
    "Benchmark with SBRG1"
   ]
  },
  {
   "cell_type": "code",
   "execution_count": 282,
   "metadata": {
    "collapsed": false
   },
   "outputs": [
    {
     "data": {
      "text/plain": [
       "[1.598556653186726 <Xs:[0, 7] Zs:[]>,\n",
       " 1.0907717060778832 <Xs:[] Zs:[2, 3]>,\n",
       " 1.4535546388675367 <Xs:[] Zs:[5, 6]>,\n",
       " 0.7384672351453768 <Xs:[] Zs:[6]>,\n",
       " 0.5735749804876529 <Xs:[] Zs:[4, 5]>,\n",
       " 0.9335081618920336 <Xs:[] Zs:[1, 2]>,\n",
       " 0.6766078760265358 <Xs:[] Zs:[3, 4]>,\n",
       " -0.4158627935942054 <Xs:[0, 7] Zs:[0, 1, 6, 7]>]"
      ]
     },
     "execution_count": 282,
     "metadata": {},
     "output_type": "execute_result"
    }
   ],
   "source": [
    "random.seed(2)\n",
    "system = SBRG(TFIsing(8,J=1.,K=1.,h=1.,alpha=1.)).run()\n",
    "list(system.taus)"
   ]
  },
  {
   "cell_type": "markdown",
   "metadata": {
    "collapsed": true
   },
   "source": [
    "##Measurement"
   ]
  },
  {
   "cell_type": "markdown",
   "metadata": {},
   "source": [
    "###Level Statistics"
   ]
  },
  {
   "cell_type": "code",
   "execution_count": 42,
   "metadata": {
    "collapsed": false
   },
   "outputs": [],
   "source": [
    "random.seed(2)\n",
    "system = SBRG(TFIsing(14,J=2.,K=1.,h=1.,alpha=1.)).run()\n",
    "from itertools import chain, combinations\n",
    "def subsets(iterable):\n",
    "    s = list(iterable)\n",
    "    return map(set, chain.from_iterable(combinations(s, r) for r in range(len(s)+1)))\n",
    "emap = [[s,0] for s in subsets(range(0,system.bits))];\n",
    "for term in system.Heff:\n",
    "    Zs = term.mat.Zs\n",
    "    v = term.val\n",
    "    for em in emap:\n",
    "        if len(Zs & em[0])%2 == 1:\n",
    "            em[1] += v\n",
    "e0 = sum(term.val for term in system.Heff)\n",
    "es = [e0-2*em[1] for em in emap]\n",
    "export('Es_J2K1h1_a10_14',es)"
   ]
  },
  {
   "cell_type": "markdown",
   "metadata": {},
   "source": [
    "###RG Flow"
   ]
  },
  {
   "cell_type": "code",
   "execution_count": 288,
   "metadata": {
    "collapsed": false
   },
   "outputs": [
    {
     "name": "stdout",
     "output_type": "stream",
     "text": [
      "0\n",
      "1\n",
      "2\n",
      "3\n",
      "4\n",
      "5\n",
      "6\n",
      "7\n",
      "8\n",
      "9\n",
      "10\n",
      "11\n",
      "12\n",
      "13\n",
      "14\n",
      "15\n",
      "16\n",
      "17\n",
      "18\n",
      "19\n",
      "20\n",
      "21\n",
      "22\n",
      "23\n",
      "24\n",
      "25\n",
      "26\n",
      "27\n",
      "28\n",
      "29\n",
      "30\n",
      "31\n",
      "32\n",
      "33\n",
      "34\n",
      "35\n",
      "36\n",
      "37\n",
      "38\n",
      "39\n",
      "40\n",
      "41\n",
      "42\n",
      "43\n",
      "44\n",
      "45\n",
      "46\n",
      "47\n",
      "48\n",
      "49\n",
      "50\n",
      "51\n",
      "52\n",
      "53\n",
      "54\n",
      "55\n",
      "56\n",
      "57\n",
      "58\n",
      "59\n",
      "60\n",
      "61\n",
      "62\n",
      "63\n"
     ]
    }
   ],
   "source": [
    "import math\n",
    "realization = 64\n",
    "bins = [x/10 for x in range(-1,301)]\n",
    "hdic = {}\n",
    "for i in range(realization):\n",
    "    print(i)\n",
    "    system = SBRG(TFIsing(512,J=2.,K=1.,h=1.,alpha=1.))\n",
    "    n = len(system.phybits)\n",
    "    while n>=4:\n",
    "        hs = [-math.log(abs(term.val)) for term in system.H]\n",
    "        hist, bin_edges = np.histogram(hs,bins)\n",
    "        try:\n",
    "            hdic[n] += hist\n",
    "        except:\n",
    "            hdic[n] = hist\n",
    "        system.flow(n/2)\n",
    "        n = len(system.phybits)\n",
    "hdic = {n: hist.tolist() for n, hist in hdic.items()}\n",
    "export('RG_J2K1h1_a10_512', {'bins':bins,'hdic':hdic})"
   ]
  },
  {
   "cell_type": "code",
   "execution_count": 88,
   "metadata": {
    "collapsed": false
   },
   "outputs": [],
   "source": [
    "hdic = {n: hist.tolist() for n, hist in hdic.items()}\n",
    "export('RG_J2K1h1_a10_512', {'bins':bins,'hdic':hdic})"
   ]
  },
  {
   "cell_type": "code",
   "execution_count": 280,
   "metadata": {
    "collapsed": false
   },
   "outputs": [
    {
     "data": {
      "text/plain": [
       "False"
      ]
     },
     "execution_count": 280,
     "metadata": {},
     "output_type": "execute_result"
    }
   ],
   "source": [
    "bool([])"
   ]
  },
  {
   "cell_type": "markdown",
   "metadata": {},
   "source": [
    "###Entanglement"
   ]
  },
  {
   "cell_type": "code",
   "execution_count": 95,
   "metadata": {
    "collapsed": false
   },
   "outputs": [],
   "source": [
    "class Ent:\n",
    "    def __init__(self, sys):\n",
    "        self.bits = sys.bits\n",
    "        self.phybits = set(range(self.bits))\n",
    "        self.mat2is = {}\n",
    "        self.i2mats = {}\n",
    "        for term in sys.taus.terms:\n",
    "            mat = term.mat\n",
    "            sites = mat.Xs | mat.Zs\n",
    "            self.mat2is[term.mat] = sites\n",
    "            for i in sites:\n",
    "                try:\n",
    "                    self.i2mats[i].add(mat)\n",
    "                except:\n",
    "                    self.i2mats[i] = {mat}\n",
    "        self.region = set()\n",
    "        self.shared = set()\n",
    "    def extend(self, newbits):\n",
    "        for i in newbits:\n",
    "            self.shared.update(self.i2mats[i])"
   ]
  },
  {
   "cell_type": "code",
   "execution_count": 96,
   "metadata": {
    "collapsed": false
   },
   "outputs": [
    {
     "data": {
      "text/plain": [
       "set()"
      ]
     },
     "execution_count": 96,
     "metadata": {},
     "output_type": "execute_result"
    }
   ],
   "source": [
    "ent = Ent(system)\n",
    "ent.extend({0,1,2})\n",
    "ent.shared"
   ]
  },
  {
   "cell_type": "code",
   "execution_count": 79,
   "metadata": {
    "collapsed": false
   },
   "outputs": [
    {
     "data": {
      "text/plain": [
       "set()"
      ]
     },
     "execution_count": 79,
     "metadata": {},
     "output_type": "execute_result"
    }
   ],
   "source": [
    "a = set()\n",
    "a.union({1,2})\n",
    "a"
   ]
  },
  {
   "cell_type": "code",
   "execution_count": null,
   "metadata": {
    "collapsed": true
   },
   "outputs": [],
   "source": []
  }
 ],
 "metadata": {
  "kernelspec": {
   "display_name": "Python 3",
   "language": "python",
   "name": "python3"
  },
  "language_info": {
   "codemirror_mode": {
    "name": "ipython",
    "version": 3
   },
   "file_extension": ".py",
   "mimetype": "text/x-python",
   "name": "python",
   "nbconvert_exporter": "python",
   "pygments_lexer": "ipython3",
   "version": "3.3.0"
  }
 },
 "nbformat": 4,
 "nbformat_minor": 0
}
