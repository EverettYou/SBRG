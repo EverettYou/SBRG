{
 "cells": [
  {
   "cell_type": "markdown",
   "metadata": {},
   "source": [
    "Initializations:"
   ]
  },
  {
   "cell_type": "code",
   "execution_count": 1,
   "metadata": {
    "collapsed": false
   },
   "outputs": [],
   "source": [
    "%reload_ext snakeviz\n",
    "%matplotlib inline\n",
    "%run SBRG2.py"
   ]
  },
  {
   "cell_type": "markdown",
   "metadata": {},
   "source": [
    "#Core\n",
    "##Pauli Algebra\n",
    "Pauli matrix class. A Pauli matrix is denoted as\n",
    "$$\\sigma=\\mathrm{i}^{x\\cdot z}\\prod_{i\\in Xs}X_i\\prod_{i\\in Zs}Z_i=\\mathrm{i}^{x\\cdot z}\\prod_{i}X_i^{x_i}Z_i^{z_i},$$\n",
    "where $x_i=\\delta(i\\in Xs)$, $z_i=\\delta(i\\in Zs)$ are vectors of 0,1, and $X_i$, $Z_i$ are the Pauli matrix on site $i$."
   ]
  },
  {
   "cell_type": "markdown",
   "metadata": {},
   "source": [
    "Pauli matrices can be created\n",
    "- from Xs, Zs sets: `Mat(Xs, Zs)`,\n",
    "- or from dict of indices: `Mat({i:mu, ...})`,\n",
    "- or from list of indices: `Mat([m0, mu1, ...])`."
   ]
  },
  {
   "cell_type": "code",
   "execution_count": 2,
   "metadata": {
    "collapsed": false
   },
   "outputs": [
    {
     "data": {
      "text/plain": [
       "[<Xs:[0, 1] Zs:[1, 2]>, <Xs:[0, 1] Zs:[1, 2]>, <Xs:[0, 1] Zs:[1, 2]>]"
      ]
     },
     "execution_count": 2,
     "metadata": {},
     "output_type": "execute_result"
    }
   ],
   "source": [
    "[Mat({0,1},{1,2}), Mat({0:1,1:2,2:3}), Mat([1,2,3])]"
   ]
  },
  {
   "cell_type": "markdown",
   "metadata": {},
   "source": [
    "`Mat` is hashable and can be compared."
   ]
  },
  {
   "cell_type": "code",
   "execution_count": 3,
   "metadata": {
    "collapsed": false
   },
   "outputs": [
    {
     "name": "stdout",
     "output_type": "stream",
     "text": [
      "107815166986306181\n"
     ]
    },
    {
     "data": {
      "text/plain": [
       "True"
      ]
     },
     "execution_count": 3,
     "metadata": {},
     "output_type": "execute_result"
    }
   ],
   "source": [
    "print(hash(Mat()))\n",
    "Mat() == Mat([])"
   ]
  },
  {
   "cell_type": "markdown",
   "metadata": {
    "collapsed": true
   },
   "source": [
    "The commutativity of two Pauli operators can be checked by `is_commute`"
   ]
  },
  {
   "cell_type": "code",
   "execution_count": 4,
   "metadata": {
    "collapsed": false
   },
   "outputs": [
    {
     "data": {
      "text/plain": [
       "False"
      ]
     },
     "execution_count": 4,
     "metadata": {},
     "output_type": "execute_result"
    }
   ],
   "source": [
    "is_commute(Mat([0,1,0]),Mat([1,2,3]))"
   ]
  },
  {
   "cell_type": "markdown",
   "metadata": {},
   "source": [
    "Merge two Pauli operators by indices. Coefficients are not calculated here. The coefficient can be restored from the commutation relations later."
   ]
  },
  {
   "cell_type": "code",
   "execution_count": 5,
   "metadata": {
    "collapsed": false
   },
   "outputs": [
    {
     "data": {
      "text/plain": [
       "<Xs:[0] Zs:[1, 2]>"
      ]
     },
     "execution_count": 5,
     "metadata": {},
     "output_type": "execute_result"
    }
   ],
   "source": [
    "pdot(Mat([0,1,0]),Mat([1,2,3]))"
   ]
  },
  {
   "cell_type": "markdown",
   "metadata": {},
   "source": [
    "###Pauli Monomial\n",
    "A term of Pauli operator `Term.mat` with a constant multiple `Term.val`."
   ]
  },
  {
   "cell_type": "code",
   "execution_count": 6,
   "metadata": {
    "collapsed": false
   },
   "outputs": [
    {
     "data": {
      "text/plain": [
       "[1.0 <Xs:[] Zs:[]>, 1.0 <Xs:[0, 1] Zs:[1]>, -3.2 <Xs:[0, 1] Zs:[1]>]"
      ]
     },
     "execution_count": 6,
     "metadata": {},
     "output_type": "execute_result"
    }
   ],
   "source": [
    "[Term(), Term(Mat([1,2])),Term(Mat([1,2]),-3.2)]"
   ]
  },
  {
   "cell_type": "markdown",
   "metadata": {},
   "source": [
    "Consider $\\sigma_A=\\mathrm{i}^{x_A\\cdot z_A} X_A Z_A$, $\\sigma_B=\\mathrm{i}^{x_B\\cdot z_B} X_B Z_B$, then the product reads:\n",
    "$$\\sigma_A\\sigma_B=\\mathrm{i}^{x_A\\cdot z_A+x_B\\cdot z_B+2 z_A\\cdot x_B}\\quad (X_A X_B) (Z_A Z_B)=\\mathrm{i}^{x_A\\cdot z_A+x_B\\cdot z_B-x_C\\cdot z_C+2 z_A\\cdot x_B}\\quad \\mathrm{i}^{x_C\\cdot z_C}X_C Z_C=\\mathrm{i}^{n^{C}_{AB}}\\; \\sigma_C,$$\n",
    "where $X_C=X_AX_B$, $Z_C=Z_AZ_B$ and $z_C = (z_A+z_B)\\mod 2$. The power of $\\mathrm{i}$ is\n",
    "$$n^{C}_{AB}=x_A\\cdot z_A+x_B\\cdot z_B-x_C\\cdot z_C+2 z_A\\cdot x_B$$"
   ]
  },
  {
   "cell_type": "code",
   "execution_count": 8,
   "metadata": {
    "collapsed": false
   },
   "outputs": [
    {
     "data": {
      "text/plain": [
       "1.0 <Xs:[0, 1] Zs:[0]>"
      ]
     },
     "execution_count": 8,
     "metadata": {},
     "output_type": "execute_result"
    }
   ],
   "source": [
    "dot(Term(Mat([1,2])),Term(Mat([3,3])))"
   ]
  },
  {
   "cell_type": "code",
   "execution_count": 9,
   "metadata": {
    "collapsed": false
   },
   "outputs": [
    {
     "data": {
      "text/plain": [
       "-1.0 <Xs:[0] Zs:[1]>"
      ]
     },
     "execution_count": 9,
     "metadata": {},
     "output_type": "execute_result"
    }
   ],
   "source": [
    "idot(Term(Mat([2,0])),Term(Mat([3,3])))"
   ]
  },
  {
   "cell_type": "markdown",
   "metadata": {},
   "source": [
    "##Hamiltonian\n",
    "Hamiltonian `Ham` is a sum of Pauli monomial terms. It can be created from a list of terms."
   ]
  },
  {
   "cell_type": "code",
   "execution_count": 11,
   "metadata": {
    "collapsed": false
   },
   "outputs": [
    {
     "data": {
      "text/plain": [
       "[1.0 <Xs:[0] Zs:[1]>, 0.8 <Xs:[] Zs:[1, 2]>, 0.5 <Xs:[1, 2] Zs:[]>, 0.2 <Xs:[] Zs:[0]>]"
      ]
     },
     "execution_count": 11,
     "metadata": {},
     "output_type": "execute_result"
    }
   ],
   "source": [
    "H = Ham(\n",
    "    [Term(Mat([0,1,1]),0.5),\n",
    "     Term(Mat([3,0,0]),0.2),\n",
    "     Term(Mat([0,3,3]),0.8),\n",
    "     Term(Mat([1,3,0]),1.0)])\n",
    "H"
   ]
  },
  {
   "cell_type": "code",
   "execution_count": 12,
   "metadata": {
    "collapsed": false
   },
   "outputs": [
    {
     "data": {
      "text/plain": [
       "[1.0 <Xs:[] Zs:[0]>, 0.8 <Xs:[] Zs:[1, 2]>, -0.5 <Xs:[0, 1, 2] Zs:[0, 1]>, -0.2 <Xs:[0] Zs:[1]>]"
      ]
     },
     "execution_count": 12,
     "metadata": {},
     "output_type": "execute_result"
    }
   ],
   "source": [
    "H.forward([Term(Mat([0],[0,1]),-1.)])\n",
    "H"
   ]
  },
  {
   "cell_type": "code",
   "execution_count": 13,
   "metadata": {
    "collapsed": false
   },
   "outputs": [
    {
     "data": {
      "text/plain": [
       "[1.0 <Xs:[] Zs:[0]>, 0.8 <Xs:[] Zs:[1, 2]>, -0.5 <Xs:[0, 1, 2] Zs:[0, 1]>, -0.1 <Xs:[0] Zs:[1]>]"
      ]
     },
     "execution_count": 13,
     "metadata": {},
     "output_type": "execute_result"
    }
   ],
   "source": [
    "H.extend([Term(Mat([1,3,0]),0.1)])\n",
    "H"
   ]
  },
  {
   "cell_type": "code",
   "execution_count": 14,
   "metadata": {
    "collapsed": false
   },
   "outputs": [
    {
     "data": {
      "text/plain": [
       "[1.0 <Xs:[] Zs:[0]>, -0.1 <Xs:[0] Zs:[1]>, -0.5 <Xs:[0, 1, 2] Zs:[0, 1]>]"
      ]
     },
     "execution_count": 14,
     "metadata": {},
     "output_type": "execute_result"
    }
   ],
   "source": [
    "H.remove(H.terms[1])\n",
    "H"
   ]
  },
  {
   "cell_type": "code",
   "execution_count": 16,
   "metadata": {
    "collapsed": false
   },
   "outputs": [
    {
     "name": "stdout",
     "output_type": "stream",
     "text": [
      "[True, True, True]\n",
      "[[True, True, True], [True, True], [True]]\n",
      "[0, 1, 2]\n"
     ]
    }
   ],
   "source": [
    "print([H.mats[term.mat] == term for term in H.terms])\n",
    "print([[i in (term.mat.Xs | term.mat.Zs) for term in terms] for (i, terms) in H.imap.items()])\n",
    "print([term.pos for term in H.terms])"
   ]
  },
  {
   "cell_type": "markdown",
   "metadata": {},
   "source": [
    "## SBRG"
   ]
  },
  {
   "cell_type": "code",
   "execution_count": 18,
   "metadata": {
    "collapsed": false
   },
   "outputs": [
    {
     "name": "stdout",
     "output_type": "stream",
     "text": [
      " \n",
      "*** Profile stats marshalled to file '/var/folders/tl/lwpcq5qj049ftcj7pvhkzv_h0000gn/T/tmps1gf9x'. \n"
     ]
    }
   ],
   "source": [
    "random.seed(2)\n",
    "system = SBRG(TFIsing(128,J=1.,K=1.,h=1.,alpha=1.))\n",
    "% snakeviz system.flow()"
   ]
  },
  {
   "cell_type": "code",
   "execution_count": null,
   "metadata": {
    "collapsed": true
   },
   "outputs": [],
   "source": []
  }
 ],
 "metadata": {
  "kernelspec": {
   "display_name": "Python 3",
   "language": "python",
   "name": "python3"
  },
  "language_info": {
   "codemirror_mode": {
    "name": "ipython",
    "version": 3
   },
   "file_extension": ".py",
   "mimetype": "text/x-python",
   "name": "python",
   "nbconvert_exporter": "python",
   "pygments_lexer": "ipython3",
   "version": "3.3.0"
  }
 },
 "nbformat": 4,
 "nbformat_minor": 0
}
