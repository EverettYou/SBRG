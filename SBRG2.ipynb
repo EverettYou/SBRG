{
 "cells": [
  {
   "cell_type": "markdown",
   "metadata": {},
   "source": [
    "Initializations:"
   ]
  },
  {
   "cell_type": "code",
   "execution_count": 1,
   "metadata": {
    "collapsed": false
   },
   "outputs": [],
   "source": [
    "%reload_ext snakeviz\n",
    "%matplotlib inline\n",
    "%run SBRG2.py"
   ]
  },
  {
   "cell_type": "markdown",
   "metadata": {},
   "source": [
    "#Core\n",
    "##Pauli Algebra\n",
    "Pauli operator class. A Pauli operator is denoted as\n",
    "$$\\sigma=\\mathrm{i}^{x\\cdot z}\\prod_{i\\in Xs}X_i\\prod_{i\\in Zs}Z_i=\\mathrm{i}^{x\\cdot z}\\prod_{i}X_i^{x_i}Z_i^{z_i},$$\n",
    "where $x_i=\\delta(i\\in Xs)$, $z_i=\\delta(i\\in Zs)$ are vectors of 0,1, and $X_i$, $Z_i$ are the Pauli operator on site $i$."
   ]
  },
  {
   "cell_type": "markdown",
   "metadata": {},
   "source": [
    "Pauli operators can be created\n",
    "- from Xs, Zs lists: `Pauli(Xs, Zs)`,\n",
    "- or from dict of indices: `Pauli({i:mu, ...})`,\n",
    "- or from list of indices: `Pauli([m0, mu1, ...])`."
   ]
  },
  {
   "cell_type": "code",
   "execution_count": 2,
   "metadata": {
    "collapsed": false
   },
   "outputs": [
    {
     "data": {
      "text/plain": [
       "[<Xs:[0, 1] Zs:[1, 2]>, <Xs:[0, 1] Zs:[1, 2]>, <Xs:[0, 1] Zs:[1, 2]>]"
      ]
     },
     "execution_count": 2,
     "metadata": {},
     "output_type": "execute_result"
    }
   ],
   "source": [
    "[Pauli([0,1],[1,2]), Pauli({0:1,1:2,2:3}), Pauli([1,2,3])]"
   ]
  },
  {
   "cell_type": "markdown",
   "metadata": {
    "collapsed": true
   },
   "source": [
    "The commutativity of two Pauli operators can be checked by `is_commute`"
   ]
  },
  {
   "cell_type": "code",
   "execution_count": 3,
   "metadata": {
    "collapsed": false
   },
   "outputs": [
    {
     "data": {
      "text/plain": [
       "False"
      ]
     },
     "execution_count": 3,
     "metadata": {},
     "output_type": "execute_result"
    }
   ],
   "source": [
    "is_commute(Pauli([0,1,0]),Pauli([1,2,3]))"
   ]
  },
  {
   "cell_type": "markdown",
   "metadata": {},
   "source": [
    "Merge two Pauli operators by indices. Coefficients are not calculated here. The coefficient can be restored from the commutation relations later."
   ]
  },
  {
   "cell_type": "code",
   "execution_count": 4,
   "metadata": {
    "collapsed": false
   },
   "outputs": [
    {
     "data": {
      "text/plain": [
       "<Xs:[0] Zs:[1, 2]>"
      ]
     },
     "execution_count": 4,
     "metadata": {},
     "output_type": "execute_result"
    }
   ],
   "source": [
    "pdot(Pauli([0,1,0]),Pauli([1,2,3]))"
   ]
  },
  {
   "cell_type": "markdown",
   "metadata": {},
   "source": [
    "### Index Processing Unit (IPU)\n",
    "Pauli indices are prossed in Fortran object IPU. Set two index arrays A and B by `ipu.setab(A, B)`."
   ]
  },
  {
   "cell_type": "code",
   "execution_count": 2,
   "metadata": {
    "collapsed": false
   },
   "outputs": [
    {
     "name": "stdout",
     "output_type": "stream",
     "text": [
      "<Xs:[1, 2, 3, 4] Zs:[0, 1, 3]>\n"
     ]
    }
   ],
   "source": [
    "A = Pauli([3,2,1,2,1])\n",
    "print(A)\n",
    "ipu.setab(array(A.Xs), array(A.Zs))"
   ]
  },
  {
   "cell_type": "code",
   "execution_count": 3,
   "metadata": {
    "collapsed": false
   },
   "outputs": [
    {
     "name": "stdout",
     "output_type": "stream",
     "text": [
      "[1 2 3 4]\n",
      "[0 1 3]\n"
     ]
    }
   ],
   "source": [
    "print(ipu.a[:ipu.na])\n",
    "print(ipu.b[:ipu.nb])"
   ]
  },
  {
   "cell_type": "markdown",
   "metadata": {},
   "source": [
    "Count the number of overlap indices by `dups = ipu.overlap()`."
   ]
  },
  {
   "cell_type": "code",
   "execution_count": 4,
   "metadata": {
    "collapsed": false
   },
   "outputs": [
    {
     "data": {
      "text/plain": [
       "2"
      ]
     },
     "execution_count": 4,
     "metadata": {},
     "output_type": "execute_result"
    }
   ],
   "source": [
    "ipu.overlap()"
   ]
  },
  {
   "cell_type": "markdown",
   "metadata": {},
   "source": [
    "List operations\n",
    "- Merge indices by the method `ipu.merge()`, \n",
    "- Combine indices by the method `ipu.combine()`,\n",
    "- Intersect indices by the method `ipu.intersect()`.\n",
    "\n",
    "The result is stored in `ipu.c[:ipu.nc]`."
   ]
  },
  {
   "cell_type": "code",
   "execution_count": 3,
   "metadata": {
    "collapsed": false
   },
   "outputs": [
    {
     "name": "stdout",
     "output_type": "stream",
     "text": [
      "[0 2 4]\n",
      "[0 1 2 3 4]\n",
      "[1 3]\n"
     ]
    }
   ],
   "source": [
    "ipu.merge()\n",
    "print(ipu.c[:ipu.nc])\n",
    "ipu.combine()\n",
    "print(ipu.c[:ipu.nc])\n",
    "ipu.intersect()\n",
    "print(ipu.c[:ipu.nc])"
   ]
  },
  {
   "cell_type": "markdown",
   "metadata": {},
   "source": [
    "###Pauli Monomial\n",
    "A term of Pauli operator `Term.mat` with a constant multiple `Term.val`."
   ]
  },
  {
   "cell_type": "code",
   "execution_count": 2,
   "metadata": {
    "collapsed": false
   },
   "outputs": [
    {
     "data": {
      "text/plain": [
       "[1.0 <Xs:[] Zs:[]>, 1.0 <Xs:[0, 1] Zs:[1]>, -3.2 <Xs:[0, 1] Zs:[1]>]"
      ]
     },
     "execution_count": 2,
     "metadata": {},
     "output_type": "execute_result"
    }
   ],
   "source": [
    "[Term(), Term(Pauli([1,2])),Term(Pauli([1,2]),-3.2)]"
   ]
  },
  {
   "cell_type": "markdown",
   "metadata": {},
   "source": [
    "Two Pauli monomials are compared by and only by their Pauli operators:"
   ]
  },
  {
   "cell_type": "code",
   "execution_count": 7,
   "metadata": {
    "collapsed": false
   },
   "outputs": [
    {
     "name": "stdout",
     "output_type": "stream",
     "text": [
      "True\n",
      "True\n"
     ]
    }
   ],
   "source": [
    "print(Term(Pauli([1,2]),2.) == Term(Pauli([1,2]),1.))\n",
    "print(Term(Pauli([1,1]),2.) > Term(Pauli([1,2]),1.))"
   ]
  },
  {
   "cell_type": "markdown",
   "metadata": {},
   "source": [
    "Consider $\\sigma_A=\\mathrm{i}^{x_A\\cdot z_A} X_A Z_A$, $\\sigma_B=\\mathrm{i}^{x_B\\cdot z_B} X_B Z_B$, then the product reads:\n",
    "$$\\sigma_A\\sigma_B=\\mathrm{i}^{x_A\\cdot z_A+x_B\\cdot z_B+2 z_A\\cdot x_B}\\quad (X_A X_B) (Z_A Z_B)=\\mathrm{i}^{x_A\\cdot z_A+x_B\\cdot z_B-x_C\\cdot z_C+2 z_A\\cdot x_B}\\quad \\mathrm{i}^{x_C\\cdot z_C}X_C Z_C=\\mathrm{i}^{n^{C}_{AB}}\\; \\sigma_C,$$\n",
    "where $X_C=X_AX_B$, $Z_C=Z_AZ_B$ and $z_C = (z_A+z_B)\\mod 2$. The power of $\\mathrm{i}$ is\n",
    "$$n^{C}_{AB}=x_A\\cdot z_A+x_B\\cdot z_B-x_C\\cdot z_C+2 z_A\\cdot x_B$$"
   ]
  },
  {
   "cell_type": "code",
   "execution_count": 5,
   "metadata": {
    "collapsed": false
   },
   "outputs": [
    {
     "data": {
      "text/plain": [
       "1.0 <Xs:[0, 1] Zs:[0]>"
      ]
     },
     "execution_count": 5,
     "metadata": {},
     "output_type": "execute_result"
    }
   ],
   "source": [
    "dot(Term(Pauli([1,2])),Term(Pauli([3,3])))"
   ]
  },
  {
   "cell_type": "code",
   "execution_count": 71,
   "metadata": {
    "collapsed": false
   },
   "outputs": [
    {
     "data": {
      "text/plain": [
       "-1.0 <Xs:[0] Zs:[1]>"
      ]
     },
     "execution_count": 71,
     "metadata": {},
     "output_type": "execute_result"
    }
   ],
   "source": [
    "idot(Term(Pauli([2,0])),Term(Pauli([3,3])))"
   ]
  },
  {
   "cell_type": "markdown",
   "metadata": {},
   "source": [
    "##Pauli Polynomial\n",
    "Pauli polynomial `Poly` is a sum of Pauli monomial terms, with additional data keeping the order of Pauli operators and values. It can be created from a list of terms."
   ]
  },
  {
   "cell_type": "code",
   "execution_count": 58,
   "metadata": {
    "collapsed": false
   },
   "outputs": [],
   "source": [
    "H = Poly([Term(Pauli([1,3,0]),1.0),\n",
    "      Term(Pauli([0,1,1]),0.5),\n",
    "      Term(Pauli([3,0,0]),0.2),\n",
    "      Term(Pauli([0,3,3]),0.8)])"
   ]
  },
  {
   "cell_type": "code",
   "execution_count": 51,
   "metadata": {
    "collapsed": false
   },
   "outputs": [
    {
     "data": {
      "text/plain": [
       "[0.8 <Xs:[] Zs:[1, 2]>,\n",
       " 1.0 <Xs:[0] Zs:[1]>,\n",
       " 0.2 <Xs:[] Zs:[0]>,\n",
       " 0.5 <Xs:[1, 2] Zs:[]>]"
      ]
     },
     "execution_count": 51,
     "metadata": {},
     "output_type": "execute_result"
    }
   ],
   "source": [
    "H.terms"
   ]
  },
  {
   "cell_type": "code",
   "execution_count": 52,
   "metadata": {
    "collapsed": false
   },
   "outputs": [
    {
     "data": {
      "text/plain": [
       "[1.0 <Xs:[0] Zs:[1]>,\n",
       " 0.8 <Xs:[] Zs:[1, 2]>,\n",
       " 0.5 <Xs:[1, 2] Zs:[]>,\n",
       " 0.2 <Xs:[] Zs:[0]>]"
      ]
     },
     "execution_count": 52,
     "metadata": {},
     "output_type": "execute_result"
    }
   ],
   "source": [
    "H.descending()"
   ]
  },
  {
   "cell_type": "code",
   "execution_count": 16,
   "metadata": {
    "collapsed": false
   },
   "outputs": [
    {
     "data": {
      "text/plain": [
       "{0: {1.0 <Xs:[0] Zs:[1]>, 0.2 <Xs:[] Zs:[0]>},\n",
       " 1: {0.8 <Xs:[] Zs:[1, 2]>, 1.0 <Xs:[0] Zs:[1]>, 0.5 <Xs:[1, 2] Zs:[]>},\n",
       " 2: {0.8 <Xs:[] Zs:[1, 2]>, 0.5 <Xs:[1, 2] Zs:[]>}}"
      ]
     },
     "execution_count": 16,
     "metadata": {},
     "output_type": "execute_result"
    }
   ],
   "source": [
    "H.imap"
   ]
  },
  {
   "cell_type": "code",
   "execution_count": 59,
   "metadata": {
    "collapsed": false
   },
   "outputs": [
    {
     "name": "stdout",
     "output_type": "stream",
     "text": [
      "[-1.0 <Xs:[0] Zs:[0, 1]>]\n"
     ]
    }
   ],
   "source": [
    "Rs = [Term(Pauli([0],[0,1]),-1.)]\n",
    "print(Rs)"
   ]
  },
  {
   "cell_type": "code",
   "execution_count": 60,
   "metadata": {
    "collapsed": false
   },
   "outputs": [],
   "source": [
    "H.forward(Rs)"
   ]
  },
  {
   "cell_type": "code",
   "execution_count": 6,
   "metadata": {
    "collapsed": false
   },
   "outputs": [],
   "source": [
    "H.extend([Term(Pauli([1],[0]),-0.1)])"
   ]
  },
  {
   "cell_type": "code",
   "execution_count": 61,
   "metadata": {
    "collapsed": false
   },
   "outputs": [],
   "source": [
    "H.remove(H.UVscale)"
   ]
  },
  {
   "cell_type": "code",
   "execution_count": 21,
   "metadata": {
    "collapsed": false
   },
   "outputs": [
    {
     "data": {
      "text/plain": [
       "{0: {1.0 <Xs:[] Zs:[0]>, -0.2 <Xs:[0] Zs:[1]>, -0.5 <Xs:[0, 1, 2] Zs:[0, 1]>},\n",
       " 1: {0.8 <Xs:[] Zs:[1, 2]>,\n",
       "  -0.2 <Xs:[0] Zs:[1]>,\n",
       "  -0.5 <Xs:[0, 1, 2] Zs:[0, 1]>},\n",
       " 2: {0.8 <Xs:[] Zs:[1, 2]>, -0.5 <Xs:[0, 1, 2] Zs:[0, 1]>}}"
      ]
     },
     "execution_count": 21,
     "metadata": {},
     "output_type": "execute_result"
    }
   ],
   "source": [
    "H.imap"
   ]
  },
  {
   "cell_type": "code",
   "execution_count": 36,
   "metadata": {
    "collapsed": false
   },
   "outputs": [],
   "source": [
    "H.backward(Rs)"
   ]
  },
  {
   "cell_type": "code",
   "execution_count": 62,
   "metadata": {
    "collapsed": false
   },
   "outputs": [
    {
     "data": {
      "text/plain": [
       "[0.8 <Xs:[] Zs:[1, 2]>, -0.5 <Xs:[0, 1, 2] Zs:[0, 1]>, -0.2 <Xs:[0] Zs:[1]>]"
      ]
     },
     "execution_count": 62,
     "metadata": {},
     "output_type": "execute_result"
    }
   ],
   "source": [
    "H.descending()"
   ]
  },
  {
   "cell_type": "code",
   "execution_count": 38,
   "metadata": {
    "collapsed": false
   },
   "outputs": [
    {
     "data": {
      "text/plain": [
       "{0: {0.2 <Xs:[] Zs:[0]>, 1.0 <Xs:[0] Zs:[1]>},\n",
       " 1: {0.8 <Xs:[] Zs:[1, 2]>, 1.0 <Xs:[0] Zs:[1]>, 0.5 <Xs:[1, 2] Zs:[]>},\n",
       " 2: {0.8 <Xs:[] Zs:[1, 2]>, 0.5 <Xs:[1, 2] Zs:[]>}}"
      ]
     },
     "execution_count": 38,
     "metadata": {},
     "output_type": "execute_result"
    }
   ],
   "source": [
    "H.imap"
   ]
  },
  {
   "cell_type": "markdown",
   "metadata": {},
   "source": [
    "## SBRG"
   ]
  },
  {
   "cell_type": "code",
   "execution_count": 2,
   "metadata": {
    "collapsed": false
   },
   "outputs": [],
   "source": [
    "random.seed(2)\n",
    "system = SBRG(TFIsing(16,J=1.,K=1.,h=1.,alpha=1.))\n",
    "system.flow()"
   ]
  },
  {
   "cell_type": "code",
   "execution_count": 13,
   "metadata": {
    "collapsed": false
   },
   "outputs": [
    {
     "data": {
      "text/plain": [
       "5"
      ]
     },
     "execution_count": 13,
     "metadata": {},
     "output_type": "execute_result"
    }
   ],
   "source": [
    "system.bit"
   ]
  },
  {
   "cell_type": "code",
   "execution_count": 42,
   "metadata": {
    "collapsed": false
   },
   "outputs": [
    {
     "data": {
      "text/plain": [
       "[1, 3, 11, 12, 14]"
      ]
     },
     "execution_count": 42,
     "metadata": {},
     "output_type": "execute_result"
    }
   ],
   "source": [
    "system.phybits"
   ]
  },
  {
   "cell_type": "code",
   "execution_count": 29,
   "metadata": {
    "collapsed": false
   },
   "outputs": [
    {
     "data": {
      "text/plain": [
       "[0.2166551008243332 <Xs:[] Zs:[0, 1]>,\n",
       " 0.027161847245396095 <Xs:[] Zs:[0, 1, 12, 14, 15]>,\n",
       " 0.015037754441328979 <Xs:[] Zs:[0, 1, 13, 15]>,\n",
       " 0.05913937003410543 <Xs:[] Zs:[0, 1, 15]>,\n",
       " 0.005093107695763972 <Xs:[] Zs:[0, 12, 14]>,\n",
       " 0.018658429413410674 <Xs:[] Zs:[0, 12, 14, 15]>,\n",
       " 0.2274901235770828 <Xs:[] Zs:[1]>,\n",
       " 0.5007067613106101 <Xs:[] Zs:[1, 2, 3]>,\n",
       " 0.07863267363247047 <Xs:[] Zs:[2, 3]>,\n",
       " 0.4009793653291901 <Xs:[] Zs:[3]>,\n",
       " 0.480551921518253 <Xs:[] Zs:[3, 4, 5, 8]>,\n",
       " 0.1346926943699165 <Xs:[] Zs:[7, 10, 11]>,\n",
       " 0.12010267713206246 <Xs:[] Zs:[9, 10, 11]>,\n",
       " 0.1621142087464852 <Xs:[] Zs:[10, 11]>,\n",
       " 0.1113221322467988 <Xs:[] Zs:[11]>,\n",
       " 0.5098359154470887 <Xs:[] Zs:[12]>,\n",
       " 0.1216513704363341 <Xs:[] Zs:[12, 14]>,\n",
       " 0.003699186652613278 <Xs:[1, 3, 11, 14] Zs:[4, 5, 6, 7, 8, 9, 12, 13]>,\n",
       " 0.032574270684916855 <Xs:[1, 14] Zs:[0, 15]>,\n",
       " 0.47459746510478773 <Xs:[3] Zs:[2]>,\n",
       " 0.3097795710861902 <Xs:[11] Zs:[10]>]"
      ]
     },
     "execution_count": 29,
     "metadata": {},
     "output_type": "execute_result"
    }
   ],
   "source": [
    "system.H.terms"
   ]
  },
  {
   "cell_type": "code",
   "execution_count": 30,
   "metadata": {
    "collapsed": false
   },
   "outputs": [
    {
     "data": {
      "text/plain": [
       "{0.027161847245396095 <Xs:[] Zs:[0, 1, 12, 14, 15]>,\n",
       " 0.005093107695763972 <Xs:[] Zs:[0, 12, 14]>,\n",
       " 0.018658429413410674 <Xs:[] Zs:[0, 12, 14, 15]>,\n",
       " 0.5098359154470887 <Xs:[] Zs:[12]>,\n",
       " 0.1216513704363341 <Xs:[] Zs:[12, 14]>,\n",
       " 0.003699186652613278 <Xs:[1, 3, 11, 14] Zs:[4, 5, 6, 7, 8, 9, 12, 13]>}"
      ]
     },
     "execution_count": 30,
     "metadata": {},
     "output_type": "execute_result"
    }
   ],
   "source": [
    "system.H.imap[12]"
   ]
  },
  {
   "cell_type": "code",
   "execution_count": 31,
   "metadata": {
    "collapsed": false
   },
   "outputs": [
    {
     "data": {
      "text/plain": [
       "[0.007045123139215124 <Xs:[] Zs:[0, 1, 12, 13, 15]>,\n",
       " 0.00856463245759557 <Xs:[] Zs:[0, 1, 13, 14, 15]>,\n",
       " 0.01940534643017358 <Xs:[] Zs:[0, 1, 14, 15]>,\n",
       " 0.004839543187700993 <Xs:[] Zs:[0, 12, 13, 15]>,\n",
       " 0.005883347650036554 <Xs:[] Zs:[0, 13, 14, 15]>,\n",
       " 0.013330215847949946 <Xs:[] Zs:[0, 14, 15]>,\n",
       " 0.061253569539769494 <Xs:[] Zs:[11, 12]>,\n",
       " 0.027034524310690415 <Xs:[] Zs:[11, 12, 13]>,\n",
       " 0.02223814667143217 <Xs:[] Zs:[11, 13, 14]>,\n",
       " 0.014967263984271503 <Xs:[] Zs:[11, 14]>,\n",
       " 0.2526176011839408 <Xs:[] Zs:[12]>,\n",
       " 0.03155340934786816 <Xs:[] Zs:[12, 13]>,\n",
       " 0.15698400956292058 <Xs:[] Zs:[12, 13]>,\n",
       " 0.0383589255302439 <Xs:[] Zs:[13, 14]>,\n",
       " 0.12913241563304514 <Xs:[] Zs:[13, 14]>,\n",
       " 0.056993142701065765 <Xs:[] Zs:[14]>,\n",
       " 0.08691187185078415 <Xs:[] Zs:[14]>]"
      ]
     },
     "execution_count": 31,
     "metadata": {},
     "output_type": "execute_result"
    }
   ],
   "source": [
    "sorted(pert)"
   ]
  },
  {
   "cell_type": "code",
   "execution_count": 32,
   "metadata": {
    "collapsed": false
   },
   "outputs": [],
   "source": [
    "system.H.extend(pert)"
   ]
  },
  {
   "cell_type": "code",
   "execution_count": 33,
   "metadata": {
    "collapsed": false
   },
   "outputs": [
    {
     "data": {
      "text/plain": [
       "[0.2166551008243332 <Xs:[] Zs:[0, 1]>,\n",
       " 0.007045123139215124 <Xs:[] Zs:[0, 1, 12, 13, 15]>,\n",
       " 0.027161847245396095 <Xs:[] Zs:[0, 1, 12, 14, 15]>,\n",
       " 0.00856463245759557 <Xs:[] Zs:[0, 1, 13, 14, 15]>,\n",
       " 0.015037754441328979 <Xs:[] Zs:[0, 1, 13, 15]>,\n",
       " 0.01940534643017358 <Xs:[] Zs:[0, 1, 14, 15]>,\n",
       " 0.05913937003410543 <Xs:[] Zs:[0, 1, 15]>,\n",
       " 0.004839543187700993 <Xs:[] Zs:[0, 12, 13, 15]>,\n",
       " 0.005093107695763972 <Xs:[] Zs:[0, 12, 14]>,\n",
       " 0.018658429413410674 <Xs:[] Zs:[0, 12, 14, 15]>,\n",
       " 0.005883347650036554 <Xs:[] Zs:[0, 13, 14, 15]>,\n",
       " 0.013330215847949946 <Xs:[] Zs:[0, 14, 15]>,\n",
       " 0.2274901235770828 <Xs:[] Zs:[1]>,\n",
       " 0.5007067613106101 <Xs:[] Zs:[1, 2, 3]>,\n",
       " 0.07863267363247047 <Xs:[] Zs:[2, 3]>,\n",
       " 0.4009793653291901 <Xs:[] Zs:[3]>,\n",
       " 0.480551921518253 <Xs:[] Zs:[3, 4, 5, 8]>,\n",
       " 0.1346926943699165 <Xs:[] Zs:[7, 10, 11]>,\n",
       " 0.12010267713206246 <Xs:[] Zs:[9, 10, 11]>,\n",
       " 0.1621142087464852 <Xs:[] Zs:[10, 11]>,\n",
       " 0.1113221322467988 <Xs:[] Zs:[11]>,\n",
       " 0.061253569539769494 <Xs:[] Zs:[11, 12]>,\n",
       " 0.027034524310690415 <Xs:[] Zs:[11, 12, 13]>,\n",
       " 0.02223814667143217 <Xs:[] Zs:[11, 13, 14]>,\n",
       " 0.014967263984271503 <Xs:[] Zs:[11, 14]>,\n",
       " 0.7624535166310296 <Xs:[] Zs:[12]>,\n",
       " 0.18853741891078873 <Xs:[] Zs:[12, 13]>,\n",
       " 0.1216513704363341 <Xs:[] Zs:[12, 14]>,\n",
       " 0.16749134116328904 <Xs:[] Zs:[13, 14]>,\n",
       " 0.14390501455184992 <Xs:[] Zs:[14]>,\n",
       " 0.003699186652613278 <Xs:[1, 3, 11, 14] Zs:[4, 5, 6, 7, 8, 9, 12, 13]>,\n",
       " 0.032574270684916855 <Xs:[1, 14] Zs:[0, 15]>,\n",
       " 0.47459746510478773 <Xs:[3] Zs:[2]>,\n",
       " 0.3097795710861902 <Xs:[11] Zs:[10]>]"
      ]
     },
     "execution_count": 33,
     "metadata": {},
     "output_type": "execute_result"
    }
   ],
   "source": [
    "system.H.terms"
   ]
  },
  {
   "cell_type": "code",
   "execution_count": 47,
   "metadata": {
    "collapsed": false
   },
   "outputs": [
    {
     "data": {
      "text/plain": [
       "{0.007045123139215124 <Xs:[] Zs:[0, 1, 12, 13, 15]>,\n",
       " 0.027161847245396095 <Xs:[] Zs:[0, 1, 12, 14, 15]>,\n",
       " 0.004839543187700993 <Xs:[] Zs:[0, 12, 13, 15]>,\n",
       " 0.005093107695763972 <Xs:[] Zs:[0, 12, 14]>,\n",
       " 0.018658429413410674 <Xs:[] Zs:[0, 12, 14, 15]>,\n",
       " 0.061253569539769494 <Xs:[] Zs:[11, 12]>,\n",
       " 0.027034524310690415 <Xs:[] Zs:[11, 12, 13]>,\n",
       " 0.7624535166310296 <Xs:[] Zs:[12]>,\n",
       " 0.18853741891078873 <Xs:[] Zs:[12, 13]>,\n",
       " 0.1216513704363341 <Xs:[] Zs:[12, 14]>,\n",
       " 0.003699186652613278 <Xs:[1, 3, 11, 14] Zs:[4, 5, 6, 7, 8, 9, 12, 13]>}"
      ]
     },
     "execution_count": 47,
     "metadata": {},
     "output_type": "execute_result"
    }
   ],
   "source": [
    "system.H.imap[12]"
   ]
  },
  {
   "cell_type": "code",
   "execution_count": 6,
   "metadata": {
    "collapsed": false
   },
   "outputs": [
    {
     "name": "stdout",
     "output_type": "stream",
     "text": [
      " \n",
      "*** Profile stats marshalled to file '/var/folders/tl/lwpcq5qj049ftcj7pvhkzv_h0000gn/T/tmp8m4al3'. \n"
     ]
    }
   ],
   "source": [
    "random.seed(2)\n",
    "system = SBRG(TFIsing(128,J=1.,K=1.,h=1.,alpha=1.))\n",
    "% snakeviz system.flow()"
   ]
  },
  {
   "cell_type": "code",
   "execution_count": 134,
   "metadata": {
    "collapsed": false
   },
   "outputs": [
    {
     "data": {
      "text/plain": [
       "False"
      ]
     },
     "execution_count": 134,
     "metadata": {},
     "output_type": "execute_result"
    }
   ],
   "source": [
    "Term(Pauli()) != Term(Pauli(),2.)"
   ]
  },
  {
   "cell_type": "code",
   "execution_count": 48,
   "metadata": {
    "collapsed": false
   },
   "outputs": [
    {
     "data": {
      "text/plain": [
       "1"
      ]
     },
     "execution_count": 48,
     "metadata": {},
     "output_type": "execute_result"
    }
   ],
   "source": [
    "3//2"
   ]
  },
  {
   "cell_type": "code",
   "execution_count": 139,
   "metadata": {
    "collapsed": false
   },
   "outputs": [
    {
     "name": "stdout",
     "output_type": "stream",
     "text": [
      "[1]\n"
     ]
    }
   ],
   "source": [
    "f(1)"
   ]
  },
  {
   "cell_type": "code",
   "execution_count": 5,
   "metadata": {
    "collapsed": false
   },
   "outputs": [],
   "source": [
    "H = Poly([Term(Pauli([1,3,0]),1.0),\n",
    "      Term(Pauli([0,1,1]),0.5),\n",
    "      Term(Pauli([3,0,0]),0.2),\n",
    "      Term(Pauli([0,3,3]),0.8)])"
   ]
  },
  {
   "cell_type": "code",
   "execution_count": 13,
   "metadata": {
    "collapsed": false
   },
   "outputs": [],
   "source": [
    "A = H.terms[0]"
   ]
  },
  {
   "cell_type": "code",
   "execution_count": 21,
   "metadata": {
    "collapsed": false
   },
   "outputs": [
    {
     "ename": "NameError",
     "evalue": "name 'cmp' is not defined",
     "output_type": "error",
     "traceback": [
      "\u001b[0;31m---------------------------------------------------------------------------\u001b[0m",
      "\u001b[0;31mNameError\u001b[0m                                 Traceback (most recent call last)",
      "\u001b[0;32m<ipython-input-21-53178e7b57e5>\u001b[0m in \u001b[0;36m<module>\u001b[0;34m()\u001b[0m\n\u001b[0;32m----> 1\u001b[0;31m \u001b[0mcmp\u001b[0m\u001b[0;34m(\u001b[0m\u001b[0;36m1\u001b[0m\u001b[0;34m,\u001b[0m\u001b[0;36m0\u001b[0m\u001b[0;34m)\u001b[0m\u001b[0;34m\u001b[0m\u001b[0m\n\u001b[0m",
      "\u001b[0;31mNameError\u001b[0m: name 'cmp' is not defined"
     ]
    }
   ],
   "source": [
    "cmp(1,0)"
   ]
  },
  {
   "cell_type": "code",
   "execution_count": 29,
   "metadata": {
    "collapsed": false
   },
   "outputs": [
    {
     "data": {
      "text/plain": [
       "{0.8 <Xs:[] Zs:[1, 2]>,\n",
       " 1.0 <Xs:[0] Zs:[1]>,\n",
       " 0.2 <Xs:[] Zs:[0]>,\n",
       " 0.5 <Xs:[1, 2] Zs:[]>}"
      ]
     },
     "execution_count": 29,
     "metadata": {},
     "output_type": "execute_result"
    }
   ],
   "source": [
    "set(H.terms)"
   ]
  },
  {
   "cell_type": "code",
   "execution_count": 30,
   "metadata": {
    "collapsed": false
   },
   "outputs": [
    {
     "data": {
      "text/plain": [
       "[0.8 <Xs:[] Zs:[1, 2]>,\n",
       " 1.0 <Xs:[0] Zs:[1]>,\n",
       " 0.2 <Xs:[] Zs:[0]>,\n",
       " 0.5 <Xs:[1, 2] Zs:[]>]"
      ]
     },
     "execution_count": 30,
     "metadata": {},
     "output_type": "execute_result"
    }
   ],
   "source": [
    "H.terms"
   ]
  },
  {
   "cell_type": "code",
   "execution_count": null,
   "metadata": {
    "collapsed": true
   },
   "outputs": [],
   "source": []
  }
 ],
 "metadata": {
  "kernelspec": {
   "display_name": "Python 3",
   "language": "python",
   "name": "python3"
  },
  "language_info": {
   "codemirror_mode": {
    "name": "ipython",
    "version": 3
   },
   "file_extension": ".py",
   "mimetype": "text/x-python",
   "name": "python",
   "nbconvert_exporter": "python",
   "pygments_lexer": "ipython3",
   "version": "3.3.0"
  }
 },
 "nbformat": 4,
 "nbformat_minor": 0
}
